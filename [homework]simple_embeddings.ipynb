{
 "cells": [
  {
   "cell_type": "markdown",
   "metadata": {
    "id": "BIWqBuEa6j0b"
   },
   "source": [
    "## Задача поиска схожих по смыслу предложений"
   ]
  },
  {
   "cell_type": "markdown",
   "metadata": {
    "id": "NUkwMPLA6j0g"
   },
   "source": [
    "Мы будем ранжировать вопросы [StackOverflow](https://stackoverflow.com) на основе семантического векторного представления "
   ]
  },
  {
   "cell_type": "markdown",
   "metadata": {
    "id": "uS9FwWNd5a3S"
   },
   "source": [
    "## Задача ранжирования(Learning to Rank)"
   ]
  },
  {
   "cell_type": "markdown",
   "metadata": {
    "id": "wdwY9-f75a3T"
   },
   "source": [
    "* $X$ - множество объектов\n",
    "* $X^l = \\{x_1, x_2, ..., x_l\\}$ - обучающая выборка\n",
    "<br>На обучающей выборке задан порядок между некоторыми элементами, то есть нам известно, что некий объект выборки более релевантный для нас, чем другой:\n",
    "* $i \\prec j$ - порядок пары индексов объектов на выборке $X^l$ c индексами $i$ и $j$\n",
    "### Задача:\n",
    "построить ранжирующую функцию $a$ : $X \\rightarrow R$ такую, что\n",
    "$$i \\prec j \\Rightarrow a(x_i) < a(x_j)$$"
   ]
  },
  {
   "cell_type": "markdown",
   "metadata": {
    "id": "WG2IGBsh5a3U"
   },
   "source": [
    "<img src=\"https://d25skit2l41vkl.cloudfront.net/wp-content/uploads/2016/12/Featured-Image.jpg\" width=500, height=450>"
   ]
  },
  {
   "cell_type": "markdown",
   "metadata": {
    "id": "MQk_rolFwT_h"
   },
   "source": [
    "### Embeddings"
   ]
  },
  {
   "cell_type": "markdown",
   "metadata": {
    "id": "xUe1PGXn6j0l"
   },
   "source": [
    "Будем использовать предобученные векторные представления слов на постах Stack Overflow.<br>\n",
    "[A word2vec model trained on Stack Overflow posts](https://github.com/vefstathiou/SO_word2vec)"
   ]
  },
  {
   "cell_type": "code",
   "execution_count": 2,
   "metadata": {},
   "outputs": [],
   "source": [
    "import math\n",
    "import re\n",
    "import numpy as np\n",
    "import pandas as pd\n",
    "from tqdm.notebook import tqdm\n",
    "import matplotlib.pyplot as plt\n",
    "from IPython.display import clear_output\n",
    "from tqdm.notebook import tqdm\n",
    "from sklearn.metrics.pairwise import cosine_similarity\n",
    "from copy import deepcopy\n",
    "from gensim.models import Word2Vec\n",
    "from gensim.models.keyedvectors import KeyedVectors\n",
    "import spacy\n",
    "import pymorphy2\n",
    "from nltk.tokenize import WordPunctTokenizer\n",
    "import nltk\n",
    "from nltk.tokenize import word_tokenize\n",
    "from nltk.corpus import stopwords"
   ]
  },
  {
   "cell_type": "code",
   "execution_count": 4,
   "metadata": {
    "id": "mYkI54Y-rk7a"
   },
   "outputs": [
    {
     "name": "stdout",
     "output_type": "stream",
     "text": [
      "--2022-03-14 12:49:10--  https://zenodo.org/record/1199620/files/SO_vectors_200.bin\n",
      "Resolving zenodo.org (zenodo.org)... 137.138.76.77\n",
      "Connecting to zenodo.org (zenodo.org)|137.138.76.77|:443... connected.\n",
      "HTTP request sent, awaiting response... 200 OK\n",
      "Length: 1453905423 (1.4G) [application/octet-stream]\n",
      "Saving to: ‘SO_vectors_200.bin’\n",
      "\n",
      "SO_vectors_200.bin  100%[===================>]   1.35G  6.78MB/s    in 4m 46s  \n",
      "\n",
      "2022-03-14 12:53:58 (4.85 MB/s) - ‘SO_vectors_200.bin’ saved [1453905423/1453905423]\n",
      "\n"
     ]
    }
   ],
   "source": [
    "!wget https://zenodo.org/record/1199620/files/SO_vectors_200.bin"
   ]
  },
  {
   "cell_type": "code",
   "execution_count": 27,
   "metadata": {
    "id": "O8YJTOYv6j0s"
   },
   "outputs": [],
   "source": [
    "wv_embeddings = KeyedVectors.load_word2vec_format(\"SO_vectors_200.bin\", binary=True)"
   ]
  },
  {
   "cell_type": "markdown",
   "metadata": {
    "id": "aIcT_g-C6j1E"
   },
   "source": [
    "#### Как пользоваться этими векторами?"
   ]
  },
  {
   "cell_type": "markdown",
   "metadata": {
    "id": "DWO5SPDY6j1G"
   },
   "source": [
    "Посмотрим на примере одного слова, что из себя представляет embedding"
   ]
  },
  {
   "cell_type": "code",
   "execution_count": 23,
   "metadata": {
    "id": "KeSBlQfk6j1J",
    "scrolled": true
   },
   "outputs": [
    {
     "name": "stdout",
     "output_type": "stream",
     "text": [
      "float32 (200,)\n"
     ]
    }
   ],
   "source": [
    "my_dog = 'dog'\n",
    "if my_dog in wv_embeddings:\n",
    "    print(wv_embeddings[my_dog].dtype, wv_embeddings[my_dog].shape)"
   ]
  },
  {
   "cell_type": "code",
   "execution_count": 24,
   "metadata": {
    "id": "T4Eq-D1qxpMJ"
   },
   "outputs": [
    {
     "name": "stdout",
     "output_type": "stream",
     "text": [
      "Num of words: 1787145\n"
     ]
    }
   ],
   "source": [
    "print(f\"Num of words: {len(wv_embeddings.index_to_key)}\")"
   ]
  },
  {
   "cell_type": "markdown",
   "metadata": {
    "id": "ZT6NTCys6j1Q"
   },
   "source": [
    "Найдем наиболее близкие слова к слову `dog`:"
   ]
  },
  {
   "cell_type": "markdown",
   "metadata": {
    "id": "n08z2PjMwC5o"
   },
   "source": [
    "#### Вопрос 1:\n",
    "* Входит ли слов `cat` топ-5 близких слов к слову `dog`? Какое место? "
   ]
  },
  {
   "cell_type": "code",
   "execution_count": 25,
   "metadata": {},
   "outputs": [
    {
     "name": "stdout",
     "output_type": "stream",
     "text": [
      "Слово \"cat\" НЕ входит в топ-5 близких к слову \"dog\"\n",
      "Однако, на 4 позиции в топ-5 находится слово \"cats\"\n"
     ]
    }
   ],
   "source": [
    "MY_DOG = 'dog'\n",
    "MY_CAT = 'cat'\n",
    "TOP = 5\n",
    "COUNT = 0\n",
    "idxs = []\n",
    "\n",
    "for word in wv_embeddings.most_similar(positive=[MY_DOG], topn = TOP):\n",
    "    if MY_CAT == word[0]:\n",
    "        print(f'Слово {MY_CAT} входит в топ-{TOP} к слову {MY_DOG} и находится на \\\n",
    "{wv_embeddings.most_similar(positive=[MY_DOG], topn = TOP).index(word) + 1} месте')\n",
    "        break\n",
    "    elif MY_CAT in word[0]:\n",
    "        COUNT += 1\n",
    "        idxs.append(wv_embeddings.most_similar(positive=[MY_DOG], topn = TOP).index(word) + 1)\n",
    "    else:\n",
    "        COUNT += 1\n",
    "\n",
    "if COUNT == TOP:\n",
    "    print(f'Слово \"{MY_CAT}\" НЕ входит в топ-{TOP} близких к слову \"{MY_DOG}\"')\n",
    "if len(idxs) != 0:\n",
    "    print(f'Однако, на {idxs[0]} позиции в топ-{TOP} находится слово \\\n",
    "\"{wv_embeddings.most_similar(positive=[MY_DOG], topn = TOP)[idxs[0]-1][0]}\"')"
   ]
  },
  {
   "cell_type": "markdown",
   "metadata": {
    "id": "ai48-5vv6j1d"
   },
   "source": [
    "### Векторные представления текста\n",
    "\n",
    "Перейдем от векторных представлений отдельных слов к векторным представлениям вопросов, как к **среднему** векторов всех слов в вопросе. Если для какого-то слова нет предобученного вектора, то его нужно пропустить. Если вопрос не содержит ни одного известного слова, то нужно вернуть нулевой вектор."
   ]
  },
  {
   "cell_type": "code",
   "execution_count": 22,
   "metadata": {
    "id": "EhNuxBJd6j1f"
   },
   "outputs": [],
   "source": [
    "# Токенайзер, основанный на регулярных выражения, возвращающий \n",
    "# слова без знаков пунктуации и без применения нормализации.\n",
    "\n",
    "class MyTokenizer:\n",
    "    def __init__(self):\n",
    "        pass\n",
    "    def tokenize(self, text):\n",
    "        return re.findall('\\w+', text)\n",
    "    \n",
    "tokenizer = MyTokenizer()"
   ]
  },
  {
   "cell_type": "code",
   "execution_count": 23,
   "metadata": {
    "id": "YHcvu6186j1m"
   },
   "outputs": [],
   "source": [
    "def question_to_vec(question, embeddings, tokenizer, dim=200):\n",
    "    \"\"\"\n",
    "        question: строка\n",
    "        embeddings: наше векторное представление\n",
    "        dim: размер любого вектора в нашем представлении\n",
    "        \n",
    "        return: векторное представление для вопроса\n",
    "    \"\"\"\n",
    "    embed_list = []\n",
    "    for word in tokenizer.tokenize(question.lower()):\n",
    "        try:\n",
    "            embed_list.append(embeddings[word])\n",
    "        except (KeyError):\n",
    "            continue\n",
    "    return np.mean(embed_list, axis=0) if len(embed_list) > 0 else np.zeros(dim, dtype='float32')"
   ]
  },
  {
   "cell_type": "markdown",
   "metadata": {
    "id": "u5Q_4j7r6j1u"
   },
   "source": [
    "Теперь у нас есть метод для создания векторного представления любого предложения."
   ]
  },
  {
   "cell_type": "markdown",
   "metadata": {
    "id": "EsJSNkhm6j1y"
   },
   "source": [
    "#### Вопрос 2:\n",
    "* Какая третья(с индексом 2) компонента вектора предложения `I love neural networks` (округлите до 2 знаков после запятой)?"
   ]
  },
  {
   "cell_type": "code",
   "execution_count": 25,
   "metadata": {},
   "outputs": [],
   "source": [
    "text = 'I love neural networks'"
   ]
  },
  {
   "cell_type": "code",
   "execution_count": 243,
   "metadata": {
    "id": "a62r11cT6j10",
    "scrolled": true
   },
   "outputs": [
    {
     "data": {
      "text/plain": [
       "-1.29"
      ]
     },
     "execution_count": 243,
     "metadata": {},
     "output_type": "execute_result"
    }
   ],
   "source": [
    "# Токенайзер на регулярных выражениях\n",
    "tokenizer = MyTokenizer()\n",
    "round(question_to_vec(text, wv_embeddings, tokenizer)[2],2)"
   ]
  },
  {
   "cell_type": "code",
   "execution_count": 244,
   "metadata": {},
   "outputs": [
    {
     "data": {
      "text/plain": [
       "['I', 'love', 'neural', 'networks']"
      ]
     },
     "execution_count": 244,
     "metadata": {},
     "output_type": "execute_result"
    }
   ],
   "source": [
    "MyTokenizer().tokenize(text) #результаты токенизации классом MyTokenizer"
   ]
  },
  {
   "cell_type": "code",
   "execution_count": 28,
   "metadata": {},
   "outputs": [
    {
     "data": {
      "text/plain": [
       "-1.41"
      ]
     },
     "execution_count": 28,
     "metadata": {},
     "output_type": "execute_result"
    }
   ],
   "source": [
    "# Токенайзер Spacy помимо слов токенизирует знаки пунктуации и применяет нормализацию (лемматизацию)\n",
    "nlp = spacy.load('en_core_web_sm')\n",
    "\n",
    "class SpacyTokenizer:\n",
    "    def __init__(self):\n",
    "        pass\n",
    "    def tokenize(self, text):\n",
    "        spacy_results = nlp(text)\n",
    "        return [token.lemma_ for token in spacy_results]\n",
    "    \n",
    "spacy_tokenizer = SpacyTokenizer()\n",
    "round(question_to_vec(text, wv_embeddings, spacy_tokenizer)[2],2)"
   ]
  },
  {
   "cell_type": "code",
   "execution_count": 246,
   "metadata": {},
   "outputs": [
    {
     "data": {
      "text/plain": [
       "['I', 'love', 'neural', 'network']"
      ]
     },
     "execution_count": 246,
     "metadata": {},
     "output_type": "execute_result"
    }
   ],
   "source": [
    "SpacyTokenizer().tokenize(text) #результаты токенизации классом SpacyTokenizer"
   ]
  },
  {
   "cell_type": "code",
   "execution_count": 13,
   "metadata": {},
   "outputs": [
    {
     "data": {
      "text/plain": [
       "-1.29"
      ]
     },
     "execution_count": 13,
     "metadata": {},
     "output_type": "execute_result"
    }
   ],
   "source": [
    "# Токенайзер pymorphy2\n",
    "class Pymorphy2Tokenizer:\n",
    "    def __init__(self):\n",
    "        pass\n",
    "    def tokenize(self, text):\n",
    "        morph = pymorphy2.MorphAnalyzer()\n",
    "        pymorphy_results = list(map(lambda x: morph.parse(x), text.split(' ')))\n",
    "        return [res[0].normal_form for res in pymorphy_results] \n",
    "    \n",
    "pymorphy2_tokenizer = Pymorphy2Tokenizer()\n",
    "round(question_to_vec(text, wv_embeddings, pymorphy2_tokenizer)[2],2)"
   ]
  },
  {
   "cell_type": "code",
   "execution_count": 14,
   "metadata": {},
   "outputs": [
    {
     "data": {
      "text/plain": [
       "['i', 'love', 'neural', 'networks']"
      ]
     },
     "execution_count": 14,
     "metadata": {},
     "output_type": "execute_result"
    }
   ],
   "source": [
    "Pymorphy2Tokenizer().tokenize(text) #результаты токенизации классом Pymorphy2Tokenizer"
   ]
  },
  {
   "cell_type": "code",
   "execution_count": 29,
   "metadata": {},
   "outputs": [
    {
     "data": {
      "text/plain": [
       "-1.29"
      ]
     },
     "execution_count": 29,
     "metadata": {},
     "output_type": "execute_result"
    }
   ],
   "source": [
    "# Токенайзер WordPunctTokenizer помимо слов токенизирует знаки пунктуации, но НЕ применяет нормализацию.\n",
    "tk = WordPunctTokenizer()\n",
    "round(question_to_vec(text, wv_embeddings, tk)[2],2)"
   ]
  },
  {
   "cell_type": "code",
   "execution_count": 16,
   "metadata": {},
   "outputs": [
    {
     "data": {
      "text/plain": [
       "['I', 'love', 'neural', 'networks']"
      ]
     },
     "execution_count": 16,
     "metadata": {},
     "output_type": "execute_result"
    }
   ],
   "source": [
    "tk.tokenize(text) #результаты токенизации классом WordPunctTokenizer"
   ]
  },
  {
   "cell_type": "markdown",
   "metadata": {
    "id": "Y60z4t6W6j16"
   },
   "source": [
    "### Оценка близости текстов\n",
    "\n",
    "Представим, что мы используем идеальные векторные представления слов. Тогда косинусное расстояние между дублирующими предложениями должно быть меньше, чем между случайно взятыми предложениями. \n",
    "\n",
    "Сгенерируем для каждого из $N$ вопросов $R$ случайных отрицательных примеров и примешаем к ним также настоящие дубликаты. Для каждого вопроса будем ранжировать с помощью нашей модели $R + 1$ примеров и смотреть на позицию дубликата. Мы хотим, чтобы дубликат был первым в ранжированном списке.\n",
    "\n",
    "#### Hits@K\n",
    "Первой простой метрикой будет количество корректных попаданий для какого-то $K$:\n",
    "$$ \\text{Hits@K} = \\frac{1}{N}\\sum_{i=1}^N \\, [rank\\_q_i^{'} \\le K],$$\n",
    "* $\\begin{equation*}\n",
    "[x < 0 ] \\equiv \n",
    " \\begin{cases}\n",
    "   1, &x < 0\\\\\n",
    "   0, &x \\geq 0\n",
    " \\end{cases}\n",
    "\\end{equation*}$ - индикаторная функция\n",
    "* $q_i$ - $i$-ый вопрос\n",
    "* $q_i^{'}$ - его дубликат\n",
    "* $rank\\_q_i^{'}$ - позиция дубликата в ранжированном списке ближайших предложений для вопроса $q_i$.\n",
    "\n",
    "#### DCG@K\n",
    "Второй метрикой будет упрощенная DCG метрика, учитывающая порядок элементов в списке путем домножения релевантности элемента на вес равный обратному логарифму номера позиции::\n",
    "$$ \\text{DCG@K} = \\frac{1}{N} \\sum_{i=1}^N\\frac{1}{\\log_2(1+rank\\_q_i^{'})}\\cdot[rank\\_q_i^{'} \\le K],$$\n",
    "С такой метрикой модель штрафуется за большой ранк корректного ответа"
   ]
  },
  {
   "cell_type": "markdown",
   "metadata": {
    "id": "eHCnH-jw6j18"
   },
   "source": [
    "#### Вопрос 3:\n",
    "* Максимум `Hits@47 - DCG@1`?"
   ]
  },
  {
   "cell_type": "markdown",
   "metadata": {},
   "source": [
    "Ответ: Максимальное значение РАЗНИЦЫ двух функций достигается при максимальном значении Уменьшаемого и минимальном значении Вычитаемого. Максимально возможное значение Hits@47 == 1, в том случае, когда дубликаты вопросов расположены среди первых 47 вариантов ответов, в число которых могут входить и отрицательные примеры. При этом минимальное значение DCG@1 == 0, в том случае, когда позиции дубликатов в ранжированном списке ближайших вопросов для вопроса 𝑞𝑖 не расположены на 1-ом месте. Соответственно, максимум Hits@47 - DCG@1 = 1 - 0 = 1. Что характерно для ситуации, когда дубликаты расположены на позициях с 2 по 47."
   ]
  },
  {
   "cell_type": "code",
   "execution_count": 26,
   "metadata": {},
   "outputs": [
    {
     "name": "stdout",
     "output_type": "stream",
     "text": [
      "\n",
      "Hits@47 - DCG@1 = 1.0\n",
      "\n",
      "Hits@47 = 1.0, DCG@1 = 0.0\n"
     ]
    }
   ],
   "source": [
    "# Проверим наши выводы численными методами на искусственном примере\n",
    "from ampligraph.evaluation.metrics import hits_at_n_score\n",
    "\n",
    "# пусть N = 8 - количество исходных вопросов 𝑞𝑖 \n",
    "# n (aka K) - длина рассматриваемого списка любых вариантов ответов перемешанные отрицательные примеры и дубликаты\n",
    "K1 = 47\n",
    "K2 = 1\n",
    "rankings = np.array([3, 12, 6, 14, 35, 16, 42, 47]) # 𝑟𝑎𝑛𝑘_𝑞′ - позиции дубликатов в ранжированном списке ближайших вопросов для вопроса 𝑞𝑖\n",
    "\n",
    "Hits = hits_at_n_score(rankings, n = K1)\n",
    "DCG = round(sum([np.zeros(1)[0] if rank > K2 else math.log2(1 + rank)**(-1) for rank in rankings]) / rankings.shape[0],2)\n",
    "\n",
    "print(f'\\nHits@{K1} - DCG@{K2} = {Hits - DCG}\\n\\nHits@{K1} = {Hits}, DCG@{K2} = {DCG}')"
   ]
  },
  {
   "cell_type": "markdown",
   "metadata": {
    "id": "_tFemBkP6j1-"
   },
   "source": [
    "<img src='https://hsto.org/files/1c5/edf/dee/1c5edfdeebce4b71a86bdf986d9f88f2.jpg' width=400, height=200>"
   ]
  },
  {
   "cell_type": "markdown",
   "metadata": {
    "id": "0sUSxk866j1_"
   },
   "source": [
    "#### Пример оценок\n",
    "\n",
    "Вычислим описанные выше метрики для игрушечного примера. \n",
    "Пусть\n",
    "* $N = 1$, $R = 3$\n",
    "* <font color='green'>\"Что такое python?\"</font> - вопрос $q_1$\n",
    "* <font color='red'>\"Что такое язык python?\"</font> - его дубликат $q_i^{'}$\n",
    "\n",
    "Пусть модель выдала следующий ранжированный список кандидатов:\n",
    "\n",
    "1. \"Как изучить с++?\"\n",
    "2. <font color='red'>\"Что такое язык python?\"</font>\n",
    "3. \"Хочу учить Java\"\n",
    "4. \"Не понимаю Tensorflow\"\n",
    "\n",
    "$\\Rightarrow rank\\_q_i^{'} = 2$\n",
    "\n",
    "Вычислим метрику *Hits@K* для *K = 1, 4*:\n",
    "\n",
    "- [K = 1] $\\text{Hits@1} =  [rank\\_q_i^{'} \\le 1)] = 0$\n",
    "- [K = 4] $\\text{Hits@4} =  [rank\\_q_i^{'} \\le 4] = 1$\n",
    "\n",
    "Вычислим метрику *DCG@K* для *K = 1, 4*:\n",
    "- [K = 1] $\\text{DCG@1} = \\frac{1}{\\log_2(1+2)}\\cdot[2 \\le 1] = 0$\n",
    "- [K = 4] $\\text{DCG@4} = \\frac{1}{\\log_2(1+2)}\\cdot[2 \\le 4] = \\frac{1}{\\log_2{3}}$"
   ]
  },
  {
   "cell_type": "markdown",
   "metadata": {
    "id": "B4L6HJJC6j2B"
   },
   "source": [
    "#### Вопрос 4:\n",
    "* Вычислите `DCG@10`, если $rank\\_q_i^{'} = 9$(округлите до одного знака после запятой)"
   ]
  },
  {
   "cell_type": "code",
   "execution_count": 3,
   "metadata": {},
   "outputs": [
    {
     "name": "stdout",
     "output_type": "stream",
     "text": [
      "\n",
      "DCG@10 = 0.3\n",
      "\n"
     ]
    }
   ],
   "source": [
    "K = 10\n",
    "\n",
    "rankings = np.array([9]) # 𝑟𝑎𝑛𝑘_𝑞′ - позиции дубликатов в ранжированном списке ближайших вопросов для вопроса 𝑞𝑖\n",
    "\n",
    "DCG = round(sum([np.zeros(1)[0] if rank > K else math.log2(1 + rank)**(-1) for rank in rankings]) / rankings.shape[0],2)\n",
    "\n",
    "print(f'\\nDCG@{K} = {DCG}\\n')"
   ]
  },
  {
   "cell_type": "markdown",
   "metadata": {
    "id": "J5xWOORI6j2F"
   },
   "source": [
    "### HITS\\_COUNT и DCG\\_SCORE"
   ]
  },
  {
   "cell_type": "markdown",
   "metadata": {
    "id": "I1q9WQOx6j2H"
   },
   "source": [
    "Каждая функция имеет два аргумента: $dup\\_ranks$ и $k$. $dup\\_ranks$ является списком, который содержит рейтинги дубликатов(их позиции в ранжированном списке). Например, $dup\\_ranks = [2]$ для примера, описанного выше."
   ]
  },
  {
   "cell_type": "code",
   "execution_count": 30,
   "metadata": {
    "id": "F5VwySUB6j2J"
   },
   "outputs": [],
   "source": [
    "def hits_count(dup_ranks, k):\n",
    "    \"\"\"\n",
    "        dup_ranks: list индексов дубликатов\n",
    "        result: вернуть  Hits@k\n",
    "    \"\"\"\n",
    "    hits_value = round(sum([np.zeros(1)[0] if rank > k else np.ones(1)[0] for rank in dup_ranks]) / len(dup_ranks),3)\n",
    "    return hits_value"
   ]
  },
  {
   "cell_type": "code",
   "execution_count": 31,
   "metadata": {
    "id": "82hQaxCH6j2R"
   },
   "outputs": [],
   "source": [
    "def dcg_score(dup_ranks, k):\n",
    "    \"\"\"\n",
    "        dup_ranks: list индексов дубликатов\n",
    "        result: вернуть DCG@k\n",
    "    \"\"\"\n",
    "    dcg_value = round(sum([np.zeros(1)[0] if rank > k else math.log2(1 + rank)**(-1) for rank in dup_ranks]) / len(dup_ranks),3)\n",
    "    return dcg_value"
   ]
  },
  {
   "cell_type": "markdown",
   "metadata": {
    "id": "PcwHeXN26j2Y"
   },
   "source": [
    "Протестируем функции. Пусть $N = 1$, то есть один эксперимент. Будем искать копию вопроса и оценивать метрики."
   ]
  },
  {
   "cell_type": "code",
   "execution_count": 42,
   "metadata": {
    "id": "gLa_Wqfh6j2m"
   },
   "outputs": [
    {
     "name": "stdout",
     "output_type": "stream",
     "text": [
      "Ваш ответ HIT: [0.0, 1.0, 1.0, 1.0]\n",
      "Ваш ответ DCG: [0.0, 0.631, 0.631, 0.631]\n"
     ]
    }
   ],
   "source": [
    "copy_answers = [\"How does the catch keyword determine the type of exception that was thrown\",]\n",
    "\n",
    "# наши кандидаты\n",
    "candidates_ranking = [[\"How Can I Make These Links Rotate in PHP\",\n",
    "                       \"How does the catch keyword determine the type of exception that was thrown\",\n",
    "                       \"NSLog array description not memory address\",\n",
    "                       \"PECL_HTTP not recognised php ubuntu\"],]\n",
    "# dup_ranks — позиции наших копий, так как эксперимент один, то этот массив длины 1\n",
    "dup_ranks = [2]\n",
    "\n",
    "# вычисляем метрику для разных k\n",
    "print('Ваш ответ HIT:', [hits_count(dup_ranks, k) for k in range(1, 5)])\n",
    "print('Ваш ответ DCG:', [round(dcg_score(dup_ranks, k), 5) for k in range(1, 5)])"
   ]
  },
  {
   "cell_type": "markdown",
   "metadata": {
    "id": "MoHC3YoQ6j2t"
   },
   "source": [
    "У вас должно получиться"
   ]
  },
  {
   "cell_type": "code",
   "execution_count": 43,
   "metadata": {
    "id": "B0NFWq4f6j2u",
    "scrolled": true
   },
   "outputs": [
    {
     "data": {
      "text/html": [
       "<div>\n",
       "<style scoped>\n",
       "    .dataframe tbody tr th:only-of-type {\n",
       "        vertical-align: middle;\n",
       "    }\n",
       "\n",
       "    .dataframe tbody tr th {\n",
       "        vertical-align: top;\n",
       "    }\n",
       "\n",
       "    .dataframe thead th {\n",
       "        text-align: right;\n",
       "    }\n",
       "</style>\n",
       "<table border=\"1\" class=\"dataframe\">\n",
       "  <thead>\n",
       "    <tr style=\"text-align: right;\">\n",
       "      <th></th>\n",
       "      <th>1</th>\n",
       "      <th>2</th>\n",
       "      <th>3</th>\n",
       "      <th>4</th>\n",
       "    </tr>\n",
       "  </thead>\n",
       "  <tbody>\n",
       "    <tr>\n",
       "      <th>HITS</th>\n",
       "      <td>0</td>\n",
       "      <td>1.00000</td>\n",
       "      <td>1.00000</td>\n",
       "      <td>1.00000</td>\n",
       "    </tr>\n",
       "    <tr>\n",
       "      <th>DCG</th>\n",
       "      <td>0</td>\n",
       "      <td>0.63093</td>\n",
       "      <td>0.63093</td>\n",
       "      <td>0.63093</td>\n",
       "    </tr>\n",
       "  </tbody>\n",
       "</table>\n",
       "</div>"
      ],
      "text/plain": [
       "      1        2        3        4\n",
       "HITS  0  1.00000  1.00000  1.00000\n",
       "DCG   0  0.63093  0.63093  0.63093"
      ]
     },
     "execution_count": 43,
     "metadata": {},
     "output_type": "execute_result"
    }
   ],
   "source": [
    "# correct_answers - метрика для разных k\n",
    "correct_answers = pd.DataFrame([[0, 1, 1, 1], [0, 1 / (np.log2(3)), 1 / (np.log2(3)), 1 / (np.log2(3))]],\n",
    "                               index=['HITS', 'DCG'], columns=range(1,5))\n",
    "correct_answers"
   ]
  },
  {
   "cell_type": "markdown",
   "metadata": {
    "id": "tHZqgDTo6j0i"
   },
   "source": [
    "### Данные\n",
    "[arxiv link](https://drive.google.com/file/d/1QqT4D0EoqJTy7v9VrNCYD-m964XZFR7_/edit)\n",
    "\n",
    "`train.tsv` - выборка для обучения.<br> В каждой строке через табуляцию записаны: **<вопрос>, <похожий вопрос>**\n",
    "\n",
    "`validation.tsv` - тестовая выборка.<br> В каждой строке через табуляцию записаны: **<вопрос>, <похожий вопрос>, <отрицательный пример 1>, <отрицательный пример 2>, ...**"
   ]
  },
  {
   "cell_type": "code",
   "execution_count": 112,
   "metadata": {
    "colab": {
     "base_uri": "https://localhost:8080/"
    },
    "executionInfo": {
     "elapsed": 28,
     "status": "ok",
     "timestamp": 1628256058346,
     "user": {
      "displayName": "Deep Learning School",
      "photoUrl": "https://lh3.googleusercontent.com/a-/AOh14GhNf0RkP5WvkU5MixKfC1Sv3mb-9QWgAbC6VcfQvA=s64",
      "userId": "16549096980415837553"
     },
     "user_tz": -180
    },
    "id": "jKVK2lDGvrIe",
    "outputId": "51944c9b-d6e8-41af-bec4-bb35fba5d51b"
   },
   "outputs": [
    {
     "name": "stdout",
     "output_type": "stream",
     "text": [
      "unzip:  cannot find or open stackoverflow_similar_questions.zip, stackoverflow_similar_questions.zip.zip or stackoverflow_similar_questions.zip.ZIP.\r\n"
     ]
    }
   ],
   "source": [
    "!unzip stackoverflow_similar_questions.zip"
   ]
  },
  {
   "cell_type": "markdown",
   "metadata": {
    "id": "hil2UsUG6j22"
   },
   "source": [
    "Считайте данные."
   ]
  },
  {
   "cell_type": "code",
   "execution_count": 34,
   "metadata": {
    "id": "B4EBho8s6j26"
   },
   "outputs": [],
   "source": [
    "def read_corpus(filename):\n",
    "    data = []\n",
    "    for line in open(filename, encoding='utf-8'):\n",
    "        data.append(line.split('\\t'))\n",
    "    return data"
   ]
  },
  {
   "cell_type": "markdown",
   "metadata": {
    "id": "kkTxY3Mk9_nG"
   },
   "source": [
    "Нам понадобиться только файл validation."
   ]
  },
  {
   "cell_type": "code",
   "execution_count": 35,
   "metadata": {
    "colab": {
     "base_uri": "https://localhost:8080/",
     "height": 274
    },
    "executionInfo": {
     "elapsed": 21,
     "status": "error",
     "timestamp": 1628256058355,
     "user": {
      "displayName": "Deep Learning School",
      "photoUrl": "https://lh3.googleusercontent.com/a-/AOh14GhNf0RkP5WvkU5MixKfC1Sv3mb-9QWgAbC6VcfQvA=s64",
      "userId": "16549096980415837553"
     },
     "user_tz": -180
    },
    "id": "PTVB9Tnp6j29",
    "outputId": "9c55c802-3d82-471d-eab2-195dabf5026c"
   },
   "outputs": [],
   "source": [
    "validation_data = read_corpus('./data/validation.tsv')"
   ]
  },
  {
   "cell_type": "markdown",
   "metadata": {
    "id": "bTHfL-9y6j3F"
   },
   "source": [
    "Кол-во строк"
   ]
  },
  {
   "cell_type": "code",
   "execution_count": 36,
   "metadata": {
    "id": "z6ubXhIe6j3H",
    "scrolled": false
   },
   "outputs": [
    {
     "data": {
      "text/plain": [
       "3760"
      ]
     },
     "execution_count": 36,
     "metadata": {},
     "output_type": "execute_result"
    }
   ],
   "source": [
    "len(validation_data)"
   ]
  },
  {
   "cell_type": "markdown",
   "metadata": {
    "id": "kaOQblBy6j3M"
   },
   "source": [
    "Размер нескольких первых строк"
   ]
  },
  {
   "cell_type": "code",
   "execution_count": 37,
   "metadata": {
    "id": "yRx6e-Pe6j3M"
   },
   "outputs": [
    {
     "name": "stdout",
     "output_type": "stream",
     "text": [
      "1 1001\n",
      "2 1001\n",
      "3 1001\n",
      "4 1001\n",
      "5 1001\n"
     ]
    }
   ],
   "source": [
    "for i in range(5):\n",
    "    print(i + 1, len(validation_data[i]))"
   ]
  },
  {
   "cell_type": "markdown",
   "metadata": {
    "id": "ySQQp0oQt1Ep"
   },
   "source": [
    "### Ранжирование без обучения"
   ]
  },
  {
   "cell_type": "markdown",
   "metadata": {
    "id": "iElEDhj-6j3R"
   },
   "source": [
    "Реализуйте функцию ранжирования кандидатов на основе косинусного расстояния. Функция должна по списку кандидатов вернуть отсортированный список пар (позиция в исходном списке кандидатов, кандидат). При этом позиция кандидата в полученном списке является его рейтингом (первый - лучший). Например, если исходный список кандидатов был [a, b, c], и самый похожий на исходный вопрос среди них - c, затем a, и в конце b, то функция должна вернуть список **[(2, c), (0, a), (1, b)]**."
   ]
  },
  {
   "cell_type": "code",
   "execution_count": 42,
   "metadata": {
    "id": "1yP8wJWj6j3X"
   },
   "outputs": [],
   "source": [
    "def rank_candidates(question, candidates, embeddings, tokenizer, dim=200):\n",
    "    \"\"\"\n",
    "        question: строка\n",
    "        candidates: массив строк(кандидатов) [a, b, c]\n",
    "        result: пары (начальная позиция, кандидат) [(2, c), (0, a), (1, b)]\n",
    "    \"\"\"\n",
    "    result = []\n",
    "    q_vec = question_to_vec(question, embeddings, tokenizer)\n",
    "    \n",
    "    for idx, elem in enumerate(candidates):\n",
    "        candidate_vec = question_to_vec(elem, embeddings, tokenizer)\n",
    "        result.append((idx, elem, cosine_similarity(q_vec.reshape(1, -1), candidate_vec.reshape(1, -1))[0][0]))\n",
    "        \n",
    "    result.sort(key=lambda x: x[2], reverse=True)\n",
    "    \n",
    "    return [elem[:-1] for elem in deepcopy(result)]"
   ]
  },
  {
   "cell_type": "markdown",
   "metadata": {
    "id": "TnBszTb76j3c"
   },
   "source": [
    "Протестируйте работу функции на примерах ниже. Пусть $N=2$, то есть два эксперимента"
   ]
  },
  {
   "cell_type": "code",
   "execution_count": 41,
   "metadata": {
    "id": "xvQgtP176j3h"
   },
   "outputs": [],
   "source": [
    "questions = ['converting string to list', 'Sending array via Ajax fails'] \n",
    "\n",
    "candidates = [['Convert Google results object (pure js) to Python object', # первый эксперимент\n",
    "               'C# create cookie from string and send it',\n",
    "               'How to use jQuery AJAX for an outside domain?'],\n",
    "              \n",
    "              ['Getting all list items of an unordered list in PHP',      # второй эксперимент\n",
    "               'WPF- How to update the changes in list item of a list',\n",
    "               'select2 not displaying search results']]"
   ]
  },
  {
   "cell_type": "code",
   "execution_count": 328,
   "metadata": {
    "id": "bPj1JGFi6j3m"
   },
   "outputs": [
    {
     "data": {
      "text/html": [
       "<div>\n",
       "<style scoped>\n",
       "    .dataframe tbody tr th:only-of-type {\n",
       "        vertical-align: middle;\n",
       "    }\n",
       "\n",
       "    .dataframe tbody tr th {\n",
       "        vertical-align: top;\n",
       "    }\n",
       "\n",
       "    .dataframe thead th {\n",
       "        text-align: right;\n",
       "    }\n",
       "</style>\n",
       "<table border=\"1\" class=\"dataframe\">\n",
       "  <thead>\n",
       "    <tr style=\"text-align: right;\">\n",
       "      <th></th>\n",
       "      <th>Tokenizer</th>\n",
       "      <th>Эксперимент_1</th>\n",
       "      <th>Эксперимент_2</th>\n",
       "    </tr>\n",
       "  </thead>\n",
       "  <tbody>\n",
       "    <tr>\n",
       "      <th>0</th>\n",
       "      <td>MyTokenizer</td>\n",
       "      <td>102</td>\n",
       "      <td>021</td>\n",
       "    </tr>\n",
       "    <tr>\n",
       "      <th>1</th>\n",
       "      <td>SpacyTokenizer</td>\n",
       "      <td>102</td>\n",
       "      <td>021</td>\n",
       "    </tr>\n",
       "    <tr>\n",
       "      <th>2</th>\n",
       "      <td>Pymorphy2Tokenizer</td>\n",
       "      <td>012</td>\n",
       "      <td>012</td>\n",
       "    </tr>\n",
       "    <tr>\n",
       "      <th>3</th>\n",
       "      <td>WordPunctTokenizer</td>\n",
       "      <td>102</td>\n",
       "      <td>021</td>\n",
       "    </tr>\n",
       "  </tbody>\n",
       "</table>\n",
       "</div>"
      ],
      "text/plain": [
       "            Tokenizer Эксперимент_1 Эксперимент_2\n",
       "0         MyTokenizer           102           021\n",
       "1      SpacyTokenizer           102           021\n",
       "2  Pymorphy2Tokenizer           012           012\n",
       "3  WordPunctTokenizer           102           021"
      ]
     },
     "execution_count": 328,
     "metadata": {},
     "output_type": "execute_result"
    }
   ],
   "source": [
    "tokenizers = [MyTokenizer(), SpacyTokenizer(), Pymorphy2Tokenizer(), WordPunctTokenizer()]\n",
    "rez_list = []\n",
    "\n",
    "for tokenizer in tokenizers:\n",
    "    for question, q_candidates in zip(questions, candidates):\n",
    "        ranks = rank_candidates(question, q_candidates, wv_embeddings, tokenizer)\n",
    "        rez_list.append(\"\".join([str(i) for i in [elem[0] for elem in ranks]]))\n",
    "        #print(f'{ranks}')\n",
    "        #print()\n",
    "\n",
    "df = pd.DataFrame()\n",
    "df['Tokenizer'] = [str(i).split('.')[1].split(' ')[0] for i in tokenizers][:-1] + [[str(i).partition('(')[0] for i in tokenizers][-1]]\n",
    "df['Эксперимент_1'] = rez_list[::2]\n",
    "df['Эксперимент_2'] = rez_list[1::2]\n",
    "df"
   ]
  },
  {
   "cell_type": "markdown",
   "metadata": {
    "id": "jm4cidj56j3q"
   },
   "source": [
    "Для первого экперимента вы можете полностью сравнить ваши ответы и правильные ответы. Но для второго эксперимента два ответа на кандидаты будут <b>скрыты</b>(*)"
   ]
  },
  {
   "cell_type": "code",
   "execution_count": null,
   "metadata": {
    "id": "0LeKMIsn6j3s"
   },
   "outputs": [],
   "source": [
    "# должно вывести\n",
    "results = [[(1, 'C# create cookie from string and send it'),\n",
    "            (0, 'Convert Google results object (pure js) to Python object'),\n",
    "            (2, 'How to use jQuery AJAX for an outside domain?')],\n",
    "           [(*, 'Getting all list items of an unordered list in PHP'), #скрыт\n",
    "            (*, 'select2 not displaying search results'), #скрыт\n",
    "            (*, 'WPF- How to update the changes in list item of a list')]] #скрыт"
   ]
  },
  {
   "cell_type": "markdown",
   "metadata": {
    "id": "t1ttnIBe6j3x"
   },
   "source": [
    "Последовательность начальных индексов вы должны получить `для эксперимента 1`  1, 0, 2."
   ]
  },
  {
   "cell_type": "markdown",
   "metadata": {
    "id": "5WQgYDWd6j3y"
   },
   "source": [
    "#### Вопрос 5:\n",
    "* Какую последовательность начальных индексов вы получили `для эксперимента 2`(перечисление без запятой и пробелов, например, `102` для первого эксперимента?"
   ]
  },
  {
   "cell_type": "code",
   "execution_count": 329,
   "metadata": {},
   "outputs": [
    {
     "name": "stdout",
     "output_type": "stream",
     "text": [
      "\u001b[1m 021\n"
     ]
    }
   ],
   "source": [
    "# для токенайзеров - MyTokenizer(), SpacyTokenizer(), WordPunctTokenizer()\n",
    "rez_2 = ''\n",
    "for rank in ranks:\n",
    "    rez_2 += str(rank[0])\n",
    "print('\\033[1m',rez_2)"
   ]
  },
  {
   "cell_type": "markdown",
   "metadata": {
    "id": "fPllOY-Y6j30"
   },
   "source": [
    "Теперь мы можем оценить качество нашего метода. Запустите следующие два блока кода для получения результата. Обратите внимание, что вычисление расстояния между векторами занимает некоторое время (примерно 10 минут). Можете взять для validation 1000 примеров."
   ]
  },
  {
   "cell_type": "code",
   "execution_count": 330,
   "metadata": {
    "id": "nu7K4mis6j32"
   },
   "outputs": [
    {
     "data": {
      "application/vnd.jupyter.widget-view+json": {
       "model_id": "30e232d224b2485c886b42088f54e505",
       "version_major": 2,
       "version_minor": 0
      },
      "text/plain": [
       "  0%|          | 0/3760 [00:00<?, ?it/s]"
      ]
     },
     "metadata": {},
     "output_type": "display_data"
    }
   ],
   "source": [
    "tokenizer = MyTokenizer()\n",
    "\n",
    "wv_ranking = []\n",
    "max_validation_examples = 1000\n",
    "for i, line in enumerate(tqdm(validation_data)):\n",
    "    if i == max_validation_examples:\n",
    "        break\n",
    "    q, *ex = line\n",
    "    ranks = rank_candidates(q, ex, wv_embeddings, tokenizer)\n",
    "    wv_ranking.append([r[0] for r in ranks].index(0) + 1)"
   ]
  },
  {
   "cell_type": "code",
   "execution_count": 331,
   "metadata": {
    "id": "gDtS520v6j35",
    "scrolled": true
   },
   "outputs": [
    {
     "data": {
      "application/vnd.jupyter.widget-view+json": {
       "model_id": "4b101d1bfd894a76bba939b28214b660",
       "version_major": 2,
       "version_minor": 0
      },
      "text/plain": [
       "  0%|          | 0/6 [00:00<?, ?it/s]"
      ]
     },
     "metadata": {},
     "output_type": "display_data"
    },
    {
     "name": "stdout",
     "output_type": "stream",
     "text": [
      "DCG@   1: 0.410 | Hits@   1: 0.410\n",
      "DCG@   5: 0.500 | Hits@   5: 0.580\n",
      "DCG@  10: 0.521 | Hits@  10: 0.645\n",
      "DCG@ 100: 0.568 | Hits@ 100: 0.875\n",
      "DCG@ 500: 0.581 | Hits@ 500: 0.973\n",
      "DCG@1000: 0.583 | Hits@1000: 1.000\n"
     ]
    }
   ],
   "source": [
    "for k in tqdm([1, 5, 10, 100, 500, 1000]):\n",
    "    print(\"DCG@%4d: %.3f | Hits@%4d: %.3f\" % (k, dcg_score(wv_ranking, k), k, hits_count(wv_ranking, k)))"
   ]
  },
  {
   "cell_type": "code",
   "execution_count": 332,
   "metadata": {},
   "outputs": [
    {
     "data": {
      "application/vnd.jupyter.widget-view+json": {
       "model_id": "0aab7d285e234affb21f79e61687be35",
       "version_major": 2,
       "version_minor": 0
      },
      "text/plain": [
       "  0%|          | 0/3760 [00:00<?, ?it/s]"
      ]
     },
     "metadata": {},
     "output_type": "display_data"
    }
   ],
   "source": [
    "tokenizer = SpacyTokenizer()\n",
    "\n",
    "wv_ranking = []\n",
    "max_validation_examples = 1000\n",
    "for i, line in enumerate(tqdm(validation_data)):\n",
    "    if i == max_validation_examples:\n",
    "        break\n",
    "    q, *ex = line\n",
    "    ranks = rank_candidates(q, ex, wv_embeddings, tokenizer)\n",
    "    wv_ranking.append([r[0] for r in ranks].index(0) + 1)"
   ]
  },
  {
   "cell_type": "code",
   "execution_count": 333,
   "metadata": {},
   "outputs": [
    {
     "data": {
      "application/vnd.jupyter.widget-view+json": {
       "model_id": "22281ff9d2d541fa9d4923827e1919b1",
       "version_major": 2,
       "version_minor": 0
      },
      "text/plain": [
       "  0%|          | 0/6 [00:00<?, ?it/s]"
      ]
     },
     "metadata": {},
     "output_type": "display_data"
    },
    {
     "name": "stdout",
     "output_type": "stream",
     "text": [
      "DCG@   1: 0.392 | Hits@   1: 0.392\n",
      "DCG@   5: 0.482 | Hits@   5: 0.561\n",
      "DCG@  10: 0.503 | Hits@  10: 0.627\n",
      "DCG@ 100: 0.549 | Hits@ 100: 0.850\n",
      "DCG@ 500: 0.565 | Hits@ 500: 0.967\n",
      "DCG@1000: 0.568 | Hits@1000: 1.000\n"
     ]
    }
   ],
   "source": [
    "for k in tqdm([1, 5, 10, 100, 500, 1000]):\n",
    "    print(\"DCG@%4d: %.3f | Hits@%4d: %.3f\" % (k, dcg_score(wv_ranking, k), k, hits_count(wv_ranking, k)))"
   ]
  },
  {
   "cell_type": "code",
   "execution_count": 30,
   "metadata": {},
   "outputs": [
    {
     "name": "stdout",
     "output_type": "stream",
     "text": [
      "1000\n"
     ]
    }
   ],
   "source": [
    "tokenizer = WordPunctTokenizer()\n",
    "\n",
    "wv_ranking = []\n",
    "max_validation_examples = 1000\n",
    "for i, line in enumerate(tqdm(validation_data)):\n",
    "    print(i)\n",
    "    clear_output(wait=True)\n",
    "    if i == max_validation_examples:\n",
    "        break\n",
    "    q, *ex = line\n",
    "    ranks = rank_candidates(q, ex, wv_embeddings, tokenizer)\n",
    "    wv_ranking.append([r[0] for r in ranks].index(0) + 1)"
   ]
  },
  {
   "cell_type": "code",
   "execution_count": 31,
   "metadata": {},
   "outputs": [
    {
     "data": {
      "application/vnd.jupyter.widget-view+json": {
       "model_id": "fd70a0ba37af421496fc57d88b63ebf0",
       "version_major": 2,
       "version_minor": 0
      },
      "text/plain": [
       "  0%|          | 0/6 [00:00<?, ?it/s]"
      ]
     },
     "metadata": {},
     "output_type": "display_data"
    },
    {
     "name": "stdout",
     "output_type": "stream",
     "text": [
      "DCG@   1: 0.410 | Hits@   1: 0.410\n",
      "DCG@   5: 0.500 | Hits@   5: 0.580\n",
      "DCG@  10: 0.521 | Hits@  10: 0.645\n",
      "DCG@ 100: 0.568 | Hits@ 100: 0.875\n",
      "DCG@ 500: 0.581 | Hits@ 500: 0.973\n",
      "DCG@1000: 0.583 | Hits@1000: 1.000\n"
     ]
    }
   ],
   "source": [
    "for k in tqdm([1, 5, 10, 100, 500, 1000]):\n",
    "    print(\"DCG@%4d: %.3f | Hits@%4d: %.3f\" % (k, dcg_score(wv_ranking, k), k, hits_count(wv_ranking, k)))"
   ]
  },
  {
   "cell_type": "markdown",
   "metadata": {
    "id": "LL6_Rjg3InL8"
   },
   "source": [
    "### Эмбеддинги, обученные на корпусе похожих вопросов"
   ]
  },
  {
   "cell_type": "code",
   "execution_count": 16,
   "metadata": {
    "id": "iNvbpR5gJIPz"
   },
   "outputs": [],
   "source": [
    "train_data = read_corpus('./data/train.tsv')"
   ]
  },
  {
   "cell_type": "markdown",
   "metadata": {
    "id": "Nr281ZyEJfjT"
   },
   "source": [
    "Улучшите качество модели.<br>Склеим вопросы в пары и обучим на них модель Word2Vec из gensim. Выберите размер window. Объясните свой выбор."
   ]
  },
  {
   "cell_type": "code",
   "execution_count": 18,
   "metadata": {},
   "outputs": [],
   "source": [
    "import nltk\n",
    "from nltk.tokenize import word_tokenize\n",
    "from nltk.corpus import stopwords\n",
    "stopWords = set(stopwords.words('english'))"
   ]
  },
  {
   "cell_type": "markdown",
   "metadata": {},
   "source": [
    "#### Эмбеддинги без нормализации (лемматизации)"
   ]
  },
  {
   "cell_type": "markdown",
   "metadata": {},
   "source": [
    "Подготовим препроцессинг данных для обучения эмбеддингов. Используем слова в нижнем регистре, со знаками пунктуации и без использования нормализации. Кроме того, отфильтруем слова согласно стоп-листа."
   ]
  },
  {
   "cell_type": "code",
   "execution_count": 39,
   "metadata": {},
   "outputs": [],
   "source": [
    "def preproc_nltk(text):\n",
    "    return ' '.join([word for word in word_tokenize(text.lower()) if word not in stopWords])"
   ]
  },
  {
   "cell_type": "code",
   "execution_count": 20,
   "metadata": {
    "id": "f6Y46SSQMTL0"
   },
   "outputs": [],
   "source": [
    "couple_list = [couple[0] + str(' ') + couple[1] for couple in train_data]\n",
    "words = [preproc_nltk(question).split() for question in couple_list]"
   ]
  },
  {
   "cell_type": "markdown",
   "metadata": {},
   "source": [
    "### with Skip-Gram"
   ]
  },
  {
   "cell_type": "code",
   "execution_count": 22,
   "metadata": {
    "id": "QuJzAM0cI-UH"
   },
   "outputs": [
    {
     "name": "stdout",
     "output_type": "stream",
     "text": [
      "min_count = 1, window = 1 with Skip-Gram\n"
     ]
    },
    {
     "data": {
      "application/vnd.jupyter.widget-view+json": {
       "model_id": "a1debbbbf4d64dbf98a244fbc061f50c",
       "version_major": 2,
       "version_minor": 0
      },
      "text/plain": [
       "  0%|          | 0/6 [00:00<?, ?it/s]"
      ]
     },
     "metadata": {},
     "output_type": "display_data"
    },
    {
     "name": "stdout",
     "output_type": "stream",
     "text": [
      "DCG@   1: 0.412 | Hits@   1: 0.412\n",
      "DCG@   5: 0.503 | Hits@   5: 0.584\n",
      "DCG@  10: 0.522 | Hits@  10: 0.642\n",
      "DCG@ 100: 0.563 | Hits@ 100: 0.842\n",
      "DCG@ 500: 0.578 | Hits@ 500: 0.956\n",
      "DCG@1000: 0.582 | Hits@1000: 1.000\n",
      "\n",
      "min_count = 1, window = 2 with Skip-Gram\n"
     ]
    },
    {
     "data": {
      "application/vnd.jupyter.widget-view+json": {
       "model_id": "e2bc8ee15f9f454ead37cc159bdf1d7c",
       "version_major": 2,
       "version_minor": 0
      },
      "text/plain": [
       "  0%|          | 0/6 [00:00<?, ?it/s]"
      ]
     },
     "metadata": {},
     "output_type": "display_data"
    },
    {
     "name": "stdout",
     "output_type": "stream",
     "text": [
      "DCG@   1: 0.446 | Hits@   1: 0.446\n",
      "DCG@   5: 0.530 | Hits@   5: 0.604\n",
      "DCG@  10: 0.553 | Hits@  10: 0.673\n",
      "DCG@ 100: 0.592 | Hits@ 100: 0.861\n",
      "DCG@ 500: 0.606 | Hits@ 500: 0.967\n",
      "DCG@1000: 0.609 | Hits@1000: 1.000\n",
      "\n",
      "min_count = 1, window = 3 with Skip-Gram\n"
     ]
    },
    {
     "data": {
      "application/vnd.jupyter.widget-view+json": {
       "model_id": "83b1179ffe7947429da31e4c19cec27a",
       "version_major": 2,
       "version_minor": 0
      },
      "text/plain": [
       "  0%|          | 0/6 [00:00<?, ?it/s]"
      ]
     },
     "metadata": {},
     "output_type": "display_data"
    },
    {
     "name": "stdout",
     "output_type": "stream",
     "text": [
      "DCG@   1: 0.463 | Hits@   1: 0.463\n",
      "DCG@   5: 0.549 | Hits@   5: 0.623\n",
      "DCG@  10: 0.568 | Hits@  10: 0.680\n",
      "DCG@ 100: 0.608 | Hits@ 100: 0.870\n",
      "DCG@ 500: 0.621 | Hits@ 500: 0.970\n",
      "DCG@1000: 0.624 | Hits@1000: 1.000\n",
      "\n",
      "min_count = 1, window = 4 with Skip-Gram\n"
     ]
    },
    {
     "data": {
      "application/vnd.jupyter.widget-view+json": {
       "model_id": "6b27d1936e024876a011178e78ccc16f",
       "version_major": 2,
       "version_minor": 0
      },
      "text/plain": [
       "  0%|          | 0/6 [00:00<?, ?it/s]"
      ]
     },
     "metadata": {},
     "output_type": "display_data"
    },
    {
     "name": "stdout",
     "output_type": "stream",
     "text": [
      "DCG@   1: 0.482 | Hits@   1: 0.482\n",
      "DCG@   5: 0.559 | Hits@   5: 0.628\n",
      "DCG@  10: 0.582 | Hits@  10: 0.700\n",
      "DCG@ 100: 0.621 | Hits@ 100: 0.887\n",
      "DCG@ 500: 0.632 | Hits@ 500: 0.973\n",
      "DCG@1000: 0.635 | Hits@1000: 1.000\n",
      "\n",
      "min_count = 1, window = 5 with Skip-Gram\n"
     ]
    },
    {
     "data": {
      "application/vnd.jupyter.widget-view+json": {
       "model_id": "c93a93b85d3244a48073ef8922624b50",
       "version_major": 2,
       "version_minor": 0
      },
      "text/plain": [
       "  0%|          | 0/6 [00:00<?, ?it/s]"
      ]
     },
     "metadata": {},
     "output_type": "display_data"
    },
    {
     "name": "stdout",
     "output_type": "stream",
     "text": [
      "DCG@   1: 0.494 | Hits@   1: 0.494\n",
      "DCG@   5: 0.575 | Hits@   5: 0.645\n",
      "DCG@  10: 0.593 | Hits@  10: 0.701\n",
      "DCG@ 100: 0.633 | Hits@ 100: 0.893\n",
      "DCG@ 500: 0.644 | Hits@ 500: 0.976\n",
      "DCG@1000: 0.646 | Hits@1000: 1.000\n",
      "\n",
      "min_count = 1, window = 6 with Skip-Gram\n"
     ]
    },
    {
     "data": {
      "application/vnd.jupyter.widget-view+json": {
       "model_id": "99ac9ea5b9774ceba320ea6b61b144f4",
       "version_major": 2,
       "version_minor": 0
      },
      "text/plain": [
       "  0%|          | 0/6 [00:00<?, ?it/s]"
      ]
     },
     "metadata": {},
     "output_type": "display_data"
    },
    {
     "name": "stdout",
     "output_type": "stream",
     "text": [
      "DCG@   1: 0.498 | Hits@   1: 0.498\n",
      "DCG@   5: 0.577 | Hits@   5: 0.646\n",
      "DCG@  10: 0.597 | Hits@  10: 0.709\n",
      "DCG@ 100: 0.636 | Hits@ 100: 0.898\n",
      "DCG@ 500: 0.647 | Hits@ 500: 0.975\n",
      "DCG@1000: 0.649 | Hits@1000: 1.000\n",
      "\n",
      "min_count = 1, window = 7 with Skip-Gram\n"
     ]
    },
    {
     "data": {
      "application/vnd.jupyter.widget-view+json": {
       "model_id": "04f48d222b4f41d9b699542ee660def1",
       "version_major": 2,
       "version_minor": 0
      },
      "text/plain": [
       "  0%|          | 0/6 [00:00<?, ?it/s]"
      ]
     },
     "metadata": {},
     "output_type": "display_data"
    },
    {
     "name": "stdout",
     "output_type": "stream",
     "text": [
      "DCG@   1: 0.509 | Hits@   1: 0.509\n",
      "DCG@   5: 0.587 | Hits@   5: 0.656\n",
      "DCG@  10: 0.608 | Hits@  10: 0.724\n",
      "DCG@ 100: 0.644 | Hits@ 100: 0.896\n",
      "DCG@ 500: 0.655 | Hits@ 500: 0.979\n",
      "DCG@1000: 0.657 | Hits@1000: 1.000\n",
      "\n",
      "min_count = 1, window = 8 with Skip-Gram\n"
     ]
    },
    {
     "data": {
      "application/vnd.jupyter.widget-view+json": {
       "model_id": "6c507f761fd74b71aa2b5ff2bd026001",
       "version_major": 2,
       "version_minor": 0
      },
      "text/plain": [
       "  0%|          | 0/6 [00:00<?, ?it/s]"
      ]
     },
     "metadata": {},
     "output_type": "display_data"
    },
    {
     "name": "stdout",
     "output_type": "stream",
     "text": [
      "DCG@   1: 0.507 | Hits@   1: 0.507\n",
      "DCG@   5: 0.589 | Hits@   5: 0.661\n",
      "DCG@  10: 0.610 | Hits@  10: 0.725\n",
      "DCG@ 100: 0.647 | Hits@ 100: 0.904\n",
      "DCG@ 500: 0.657 | Hits@ 500: 0.982\n",
      "DCG@1000: 0.659 | Hits@1000: 1.000\n",
      "\n",
      "min_count = 1, window = 9 with Skip-Gram\n"
     ]
    },
    {
     "data": {
      "application/vnd.jupyter.widget-view+json": {
       "model_id": "68a913994a4d45f3aa73c0c91bf69f38",
       "version_major": 2,
       "version_minor": 0
      },
      "text/plain": [
       "  0%|          | 0/6 [00:00<?, ?it/s]"
      ]
     },
     "metadata": {},
     "output_type": "display_data"
    },
    {
     "name": "stdout",
     "output_type": "stream",
     "text": [
      "DCG@   1: 0.512 | Hits@   1: 0.512\n",
      "DCG@   5: 0.596 | Hits@   5: 0.670\n",
      "DCG@  10: 0.615 | Hits@  10: 0.730\n",
      "DCG@ 100: 0.652 | Hits@ 100: 0.907\n",
      "DCG@ 500: 0.662 | Hits@ 500: 0.983\n",
      "DCG@1000: 0.664 | Hits@1000: 1.000\n",
      "\n",
      "min_count = 1, window = 10 with Skip-Gram\n"
     ]
    },
    {
     "data": {
      "application/vnd.jupyter.widget-view+json": {
       "model_id": "3554bee37bef49828e48ec2d71608a4b",
       "version_major": 2,
       "version_minor": 0
      },
      "text/plain": [
       "  0%|          | 0/6 [00:00<?, ?it/s]"
      ]
     },
     "metadata": {},
     "output_type": "display_data"
    },
    {
     "name": "stdout",
     "output_type": "stream",
     "text": [
      "DCG@   1: 0.511 | Hits@   1: 0.511\n",
      "DCG@   5: 0.597 | Hits@   5: 0.672\n",
      "DCG@  10: 0.613 | Hits@  10: 0.723\n",
      "DCG@ 100: 0.651 | Hits@ 100: 0.902\n",
      "DCG@ 500: 0.662 | Hits@ 500: 0.983\n",
      "DCG@1000: 0.664 | Hits@1000: 1.000\n",
      "\n",
      "min_count = 2, window = 1 with Skip-Gram\n"
     ]
    },
    {
     "data": {
      "application/vnd.jupyter.widget-view+json": {
       "model_id": "348834c2c97d4cdeb799330cc11bf4fc",
       "version_major": 2,
       "version_minor": 0
      },
      "text/plain": [
       "  0%|          | 0/6 [00:00<?, ?it/s]"
      ]
     },
     "metadata": {},
     "output_type": "display_data"
    },
    {
     "name": "stdout",
     "output_type": "stream",
     "text": [
      "DCG@   1: 0.423 | Hits@   1: 0.423\n",
      "DCG@   5: 0.516 | Hits@   5: 0.597\n",
      "DCG@  10: 0.534 | Hits@  10: 0.655\n",
      "DCG@ 100: 0.576 | Hits@ 100: 0.860\n",
      "DCG@ 500: 0.590 | Hits@ 500: 0.964\n",
      "DCG@1000: 0.594 | Hits@1000: 1.000\n",
      "\n",
      "min_count = 2, window = 2 with Skip-Gram\n"
     ]
    },
    {
     "data": {
      "application/vnd.jupyter.widget-view+json": {
       "model_id": "cc4e4598de9a4b96bd1ed36790d42e28",
       "version_major": 2,
       "version_minor": 0
      },
      "text/plain": [
       "  0%|          | 0/6 [00:00<?, ?it/s]"
      ]
     },
     "metadata": {},
     "output_type": "display_data"
    },
    {
     "name": "stdout",
     "output_type": "stream",
     "text": [
      "DCG@   1: 0.457 | Hits@   1: 0.457\n",
      "DCG@   5: 0.548 | Hits@   5: 0.624\n",
      "DCG@  10: 0.570 | Hits@  10: 0.695\n",
      "DCG@ 100: 0.608 | Hits@ 100: 0.881\n",
      "DCG@ 500: 0.620 | Hits@ 500: 0.970\n",
      "DCG@1000: 0.623 | Hits@1000: 1.000\n",
      "\n",
      "min_count = 2, window = 3 with Skip-Gram\n"
     ]
    },
    {
     "data": {
      "application/vnd.jupyter.widget-view+json": {
       "model_id": "2873746ce96341f69f850f83e0415ecd",
       "version_major": 2,
       "version_minor": 0
      },
      "text/plain": [
       "  0%|          | 0/6 [00:00<?, ?it/s]"
      ]
     },
     "metadata": {},
     "output_type": "display_data"
    },
    {
     "name": "stdout",
     "output_type": "stream",
     "text": [
      "DCG@   1: 0.478 | Hits@   1: 0.478\n",
      "DCG@   5: 0.563 | Hits@   5: 0.636\n",
      "DCG@  10: 0.585 | Hits@  10: 0.703\n",
      "DCG@ 100: 0.624 | Hits@ 100: 0.892\n",
      "DCG@ 500: 0.635 | Hits@ 500: 0.977\n",
      "DCG@1000: 0.638 | Hits@1000: 1.000\n",
      "\n",
      "min_count = 2, window = 4 with Skip-Gram\n"
     ]
    },
    {
     "data": {
      "application/vnd.jupyter.widget-view+json": {
       "model_id": "77594273d59d4e25acbfc99f0de068cd",
       "version_major": 2,
       "version_minor": 0
      },
      "text/plain": [
       "  0%|          | 0/6 [00:00<?, ?it/s]"
      ]
     },
     "metadata": {},
     "output_type": "display_data"
    },
    {
     "name": "stdout",
     "output_type": "stream",
     "text": [
      "DCG@   1: 0.492 | Hits@   1: 0.492\n",
      "DCG@   5: 0.575 | Hits@   5: 0.646\n",
      "DCG@  10: 0.597 | Hits@  10: 0.714\n",
      "DCG@ 100: 0.635 | Hits@ 100: 0.901\n",
      "DCG@ 500: 0.646 | Hits@ 500: 0.981\n",
      "DCG@1000: 0.648 | Hits@1000: 1.000\n",
      "\n",
      "min_count = 2, window = 5 with Skip-Gram\n"
     ]
    },
    {
     "data": {
      "application/vnd.jupyter.widget-view+json": {
       "model_id": "89b777085e18480fbf4eea8961e873a8",
       "version_major": 2,
       "version_minor": 0
      },
      "text/plain": [
       "  0%|          | 0/6 [00:00<?, ?it/s]"
      ]
     },
     "metadata": {},
     "output_type": "display_data"
    },
    {
     "name": "stdout",
     "output_type": "stream",
     "text": [
      "DCG@   1: 0.499 | Hits@   1: 0.499\n",
      "DCG@   5: 0.584 | Hits@   5: 0.658\n",
      "DCG@  10: 0.604 | Hits@  10: 0.722\n",
      "DCG@ 100: 0.641 | Hits@ 100: 0.901\n",
      "DCG@ 500: 0.652 | Hits@ 500: 0.982\n",
      "DCG@1000: 0.654 | Hits@1000: 1.000\n",
      "\n",
      "min_count = 2, window = 6 with Skip-Gram\n"
     ]
    },
    {
     "data": {
      "application/vnd.jupyter.widget-view+json": {
       "model_id": "d765ae27d27f462c89420c61b5fbb47d",
       "version_major": 2,
       "version_minor": 0
      },
      "text/plain": [
       "  0%|          | 0/6 [00:00<?, ?it/s]"
      ]
     },
     "metadata": {},
     "output_type": "display_data"
    },
    {
     "name": "stdout",
     "output_type": "stream",
     "text": [
      "DCG@   1: 0.507 | Hits@   1: 0.507\n",
      "DCG@   5: 0.588 | Hits@   5: 0.657\n",
      "DCG@  10: 0.608 | Hits@  10: 0.722\n",
      "DCG@ 100: 0.648 | Hits@ 100: 0.908\n",
      "DCG@ 500: 0.658 | Hits@ 500: 0.984\n",
      "DCG@1000: 0.659 | Hits@1000: 1.000\n",
      "\n",
      "min_count = 2, window = 7 with Skip-Gram\n"
     ]
    },
    {
     "data": {
      "application/vnd.jupyter.widget-view+json": {
       "model_id": "8fe49774760849a9ba3c0aa96eecc2ae",
       "version_major": 2,
       "version_minor": 0
      },
      "text/plain": [
       "  0%|          | 0/6 [00:00<?, ?it/s]"
      ]
     },
     "metadata": {},
     "output_type": "display_data"
    },
    {
     "name": "stdout",
     "output_type": "stream",
     "text": [
      "DCG@   1: 0.519 | Hits@   1: 0.519\n",
      "DCG@   5: 0.599 | Hits@   5: 0.670\n",
      "DCG@  10: 0.619 | Hits@  10: 0.733\n",
      "DCG@ 100: 0.657 | Hits@ 100: 0.914\n",
      "DCG@ 500: 0.666 | Hits@ 500: 0.984\n",
      "DCG@1000: 0.668 | Hits@1000: 1.000\n",
      "\n",
      "min_count = 2, window = 8 with Skip-Gram\n"
     ]
    },
    {
     "data": {
      "application/vnd.jupyter.widget-view+json": {
       "model_id": "46a07282fc0e4c5c8c19d2777549fc9c",
       "version_major": 2,
       "version_minor": 0
      },
      "text/plain": [
       "  0%|          | 0/6 [00:00<?, ?it/s]"
      ]
     },
     "metadata": {},
     "output_type": "display_data"
    },
    {
     "name": "stdout",
     "output_type": "stream",
     "text": [
      "DCG@   1: 0.512 | Hits@   1: 0.512\n",
      "DCG@   5: 0.597 | Hits@   5: 0.670\n",
      "DCG@  10: 0.616 | Hits@  10: 0.731\n",
      "DCG@ 100: 0.654 | Hits@ 100: 0.907\n",
      "DCG@ 500: 0.664 | Hits@ 500: 0.982\n",
      "DCG@1000: 0.665 | Hits@1000: 1.000\n",
      "\n",
      "min_count = 2, window = 9 with Skip-Gram\n"
     ]
    },
    {
     "data": {
      "application/vnd.jupyter.widget-view+json": {
       "model_id": "95d08797b2fc4128b7b5d654a9a5fc8f",
       "version_major": 2,
       "version_minor": 0
      },
      "text/plain": [
       "  0%|          | 0/6 [00:00<?, ?it/s]"
      ]
     },
     "metadata": {},
     "output_type": "display_data"
    },
    {
     "name": "stdout",
     "output_type": "stream",
     "text": [
      "DCG@   1: 0.520 | Hits@   1: 0.520\n",
      "DCG@   5: 0.604 | Hits@   5: 0.679\n",
      "DCG@  10: 0.621 | Hits@  10: 0.734\n",
      "DCG@ 100: 0.659 | Hits@ 100: 0.914\n",
      "DCG@ 500: 0.669 | Hits@ 500: 0.988\n",
      "DCG@1000: 0.670 | Hits@1000: 1.000\n",
      "\n",
      "min_count = 2, window = 10 with Skip-Gram\n"
     ]
    },
    {
     "data": {
      "application/vnd.jupyter.widget-view+json": {
       "model_id": "6f0002bba1864cb18e8a58db6b16b553",
       "version_major": 2,
       "version_minor": 0
      },
      "text/plain": [
       "  0%|          | 0/6 [00:00<?, ?it/s]"
      ]
     },
     "metadata": {},
     "output_type": "display_data"
    },
    {
     "name": "stdout",
     "output_type": "stream",
     "text": [
      "DCG@   1: 0.517 | Hits@   1: 0.517\n",
      "DCG@   5: 0.603 | Hits@   5: 0.677\n",
      "DCG@  10: 0.623 | Hits@  10: 0.740\n",
      "DCG@ 100: 0.660 | Hits@ 100: 0.915\n",
      "DCG@ 500: 0.669 | Hits@ 500: 0.985\n",
      "DCG@1000: 0.671 | Hits@1000: 1.000\n",
      "\n",
      "min_count = 3, window = 1 with Skip-Gram\n"
     ]
    },
    {
     "data": {
      "application/vnd.jupyter.widget-view+json": {
       "model_id": "54fae733f9d04d14872de5b5dd980164",
       "version_major": 2,
       "version_minor": 0
      },
      "text/plain": [
       "  0%|          | 0/6 [00:00<?, ?it/s]"
      ]
     },
     "metadata": {},
     "output_type": "display_data"
    },
    {
     "name": "stdout",
     "output_type": "stream",
     "text": [
      "DCG@   1: 0.434 | Hits@   1: 0.434\n",
      "DCG@   5: 0.527 | Hits@   5: 0.609\n",
      "DCG@  10: 0.545 | Hits@  10: 0.664\n",
      "DCG@ 100: 0.586 | Hits@ 100: 0.864\n",
      "DCG@ 500: 0.600 | Hits@ 500: 0.967\n",
      "DCG@1000: 0.603 | Hits@1000: 1.000\n",
      "\n",
      "min_count = 3, window = 2 with Skip-Gram\n"
     ]
    },
    {
     "data": {
      "application/vnd.jupyter.widget-view+json": {
       "model_id": "b8229c5aa59d448ea6972ae41627157f",
       "version_major": 2,
       "version_minor": 0
      },
      "text/plain": [
       "  0%|          | 0/6 [00:00<?, ?it/s]"
      ]
     },
     "metadata": {},
     "output_type": "display_data"
    },
    {
     "name": "stdout",
     "output_type": "stream",
     "text": [
      "DCG@   1: 0.469 | Hits@   1: 0.469\n",
      "DCG@   5: 0.557 | Hits@   5: 0.633\n",
      "DCG@  10: 0.575 | Hits@  10: 0.689\n",
      "DCG@ 100: 0.617 | Hits@ 100: 0.891\n",
      "DCG@ 500: 0.628 | Hits@ 500: 0.975\n",
      "DCG@1000: 0.630 | Hits@1000: 1.000\n",
      "\n",
      "min_count = 3, window = 3 with Skip-Gram\n"
     ]
    },
    {
     "data": {
      "application/vnd.jupyter.widget-view+json": {
       "model_id": "2d4cbf3c97e64172b5aa25d2a7d207c3",
       "version_major": 2,
       "version_minor": 0
      },
      "text/plain": [
       "  0%|          | 0/6 [00:00<?, ?it/s]"
      ]
     },
     "metadata": {},
     "output_type": "display_data"
    },
    {
     "name": "stdout",
     "output_type": "stream",
     "text": [
      "DCG@   1: 0.482 | Hits@   1: 0.482\n",
      "DCG@   5: 0.571 | Hits@   5: 0.646\n",
      "DCG@  10: 0.590 | Hits@  10: 0.704\n",
      "DCG@ 100: 0.630 | Hits@ 100: 0.896\n",
      "DCG@ 500: 0.640 | Hits@ 500: 0.978\n",
      "DCG@1000: 0.643 | Hits@1000: 1.000\n",
      "\n",
      "min_count = 3, window = 4 with Skip-Gram\n"
     ]
    },
    {
     "data": {
      "application/vnd.jupyter.widget-view+json": {
       "model_id": "4120e61fece540fe8e01956a34cc32a8",
       "version_major": 2,
       "version_minor": 0
      },
      "text/plain": [
       "  0%|          | 0/6 [00:00<?, ?it/s]"
      ]
     },
     "metadata": {},
     "output_type": "display_data"
    },
    {
     "name": "stdout",
     "output_type": "stream",
     "text": [
      "DCG@   1: 0.499 | Hits@   1: 0.499\n",
      "DCG@   5: 0.583 | Hits@   5: 0.652\n",
      "DCG@  10: 0.602 | Hits@  10: 0.713\n",
      "DCG@ 100: 0.641 | Hits@ 100: 0.899\n",
      "DCG@ 500: 0.652 | Hits@ 500: 0.981\n",
      "DCG@1000: 0.654 | Hits@1000: 1.000\n",
      "\n",
      "min_count = 3, window = 5 with Skip-Gram\n"
     ]
    },
    {
     "data": {
      "application/vnd.jupyter.widget-view+json": {
       "model_id": "16cb1a4f2bec401d87d07b7d31e1555f",
       "version_major": 2,
       "version_minor": 0
      },
      "text/plain": [
       "  0%|          | 0/6 [00:00<?, ?it/s]"
      ]
     },
     "metadata": {},
     "output_type": "display_data"
    },
    {
     "name": "stdout",
     "output_type": "stream",
     "text": [
      "DCG@   1: 0.504 | Hits@   1: 0.504\n",
      "DCG@   5: 0.588 | Hits@   5: 0.660\n",
      "DCG@  10: 0.608 | Hits@  10: 0.721\n",
      "DCG@ 100: 0.647 | Hits@ 100: 0.907\n",
      "DCG@ 500: 0.657 | Hits@ 500: 0.982\n",
      "DCG@1000: 0.659 | Hits@1000: 1.000\n",
      "\n",
      "min_count = 3, window = 6 with Skip-Gram\n"
     ]
    },
    {
     "data": {
      "application/vnd.jupyter.widget-view+json": {
       "model_id": "1e7ca2cf4e2b4512a6a31da825bfe906",
       "version_major": 2,
       "version_minor": 0
      },
      "text/plain": [
       "  0%|          | 0/6 [00:00<?, ?it/s]"
      ]
     },
     "metadata": {},
     "output_type": "display_data"
    },
    {
     "name": "stdout",
     "output_type": "stream",
     "text": [
      "DCG@   1: 0.515 | Hits@   1: 0.515\n",
      "DCG@   5: 0.596 | Hits@   5: 0.667\n",
      "DCG@  10: 0.615 | Hits@  10: 0.725\n",
      "DCG@ 100: 0.654 | Hits@ 100: 0.909\n",
      "DCG@ 500: 0.663 | Hits@ 500: 0.981\n",
      "DCG@1000: 0.665 | Hits@1000: 1.000\n",
      "\n",
      "min_count = 3, window = 7 with Skip-Gram\n"
     ]
    },
    {
     "data": {
      "application/vnd.jupyter.widget-view+json": {
       "model_id": "6e4377151e574f80a5e51725c4fc6fe0",
       "version_major": 2,
       "version_minor": 0
      },
      "text/plain": [
       "  0%|          | 0/6 [00:00<?, ?it/s]"
      ]
     },
     "metadata": {},
     "output_type": "display_data"
    },
    {
     "name": "stdout",
     "output_type": "stream",
     "text": [
      "DCG@   1: 0.519 | Hits@   1: 0.519\n",
      "DCG@   5: 0.599 | Hits@   5: 0.669\n",
      "DCG@  10: 0.621 | Hits@  10: 0.736\n",
      "DCG@ 100: 0.657 | Hits@ 100: 0.909\n",
      "DCG@ 500: 0.667 | Hits@ 500: 0.984\n",
      "DCG@1000: 0.669 | Hits@1000: 1.000\n",
      "\n",
      "min_count = 3, window = 8 with Skip-Gram\n"
     ]
    },
    {
     "data": {
      "application/vnd.jupyter.widget-view+json": {
       "model_id": "1e90758706d94024865ec9e3653b2aa7",
       "version_major": 2,
       "version_minor": 0
      },
      "text/plain": [
       "  0%|          | 0/6 [00:00<?, ?it/s]"
      ]
     },
     "metadata": {},
     "output_type": "display_data"
    },
    {
     "name": "stdout",
     "output_type": "stream",
     "text": [
      "DCG@   1: 0.519 | Hits@   1: 0.519\n",
      "DCG@   5: 0.605 | Hits@   5: 0.679\n",
      "DCG@  10: 0.623 | Hits@  10: 0.737\n",
      "DCG@ 100: 0.661 | Hits@ 100: 0.916\n",
      "DCG@ 500: 0.670 | Hits@ 500: 0.985\n",
      "DCG@1000: 0.671 | Hits@1000: 1.000\n",
      "\n",
      "min_count = 3, window = 9 with Skip-Gram\n"
     ]
    },
    {
     "data": {
      "application/vnd.jupyter.widget-view+json": {
       "model_id": "8a2b5a7fb9a94ede89676f203edf2b50",
       "version_major": 2,
       "version_minor": 0
      },
      "text/plain": [
       "  0%|          | 0/6 [00:00<?, ?it/s]"
      ]
     },
     "metadata": {},
     "output_type": "display_data"
    },
    {
     "name": "stdout",
     "output_type": "stream",
     "text": [
      "DCG@   1: 0.519 | Hits@   1: 0.519\n",
      "DCG@   5: 0.605 | Hits@   5: 0.678\n",
      "DCG@  10: 0.625 | Hits@  10: 0.738\n",
      "DCG@ 100: 0.662 | Hits@ 100: 0.912\n",
      "DCG@ 500: 0.672 | Hits@ 500: 0.986\n",
      "DCG@1000: 0.673 | Hits@1000: 1.000\n",
      "\n",
      "min_count = 3, window = 10 with Skip-Gram\n"
     ]
    },
    {
     "data": {
      "application/vnd.jupyter.widget-view+json": {
       "model_id": "2e646c2715654483ad402f4b6b27192b",
       "version_major": 2,
       "version_minor": 0
      },
      "text/plain": [
       "  0%|          | 0/6 [00:00<?, ?it/s]"
      ]
     },
     "metadata": {},
     "output_type": "display_data"
    },
    {
     "name": "stdout",
     "output_type": "stream",
     "text": [
      "DCG@   1: 0.523 | Hits@   1: 0.523\n",
      "DCG@   5: 0.608 | Hits@   5: 0.680\n",
      "DCG@  10: 0.629 | Hits@  10: 0.745\n",
      "DCG@ 100: 0.665 | Hits@ 100: 0.915\n",
      "DCG@ 500: 0.674 | Hits@ 500: 0.986\n",
      "DCG@1000: 0.675 | Hits@1000: 1.000\n",
      "\n",
      "min_count = 4, window = 1 with Skip-Gram\n"
     ]
    },
    {
     "data": {
      "application/vnd.jupyter.widget-view+json": {
       "model_id": "91fbf15f33f143489448fc7d67e2eb50",
       "version_major": 2,
       "version_minor": 0
      },
      "text/plain": [
       "  0%|          | 0/6 [00:00<?, ?it/s]"
      ]
     },
     "metadata": {},
     "output_type": "display_data"
    },
    {
     "name": "stdout",
     "output_type": "stream",
     "text": [
      "DCG@   1: 0.445 | Hits@   1: 0.445\n",
      "DCG@   5: 0.537 | Hits@   5: 0.618\n",
      "DCG@  10: 0.554 | Hits@  10: 0.671\n",
      "DCG@ 100: 0.595 | Hits@ 100: 0.871\n",
      "DCG@ 500: 0.607 | Hits@ 500: 0.968\n",
      "DCG@1000: 0.611 | Hits@1000: 1.000\n",
      "\n",
      "min_count = 4, window = 2 with Skip-Gram\n"
     ]
    },
    {
     "data": {
      "application/vnd.jupyter.widget-view+json": {
       "model_id": "123a910a87754761ae7423baabb5c3c1",
       "version_major": 2,
       "version_minor": 0
      },
      "text/plain": [
       "  0%|          | 0/6 [00:00<?, ?it/s]"
      ]
     },
     "metadata": {},
     "output_type": "display_data"
    },
    {
     "name": "stdout",
     "output_type": "stream",
     "text": [
      "DCG@   1: 0.468 | Hits@   1: 0.468\n",
      "DCG@   5: 0.556 | Hits@   5: 0.630\n",
      "DCG@  10: 0.579 | Hits@  10: 0.702\n",
      "DCG@ 100: 0.618 | Hits@ 100: 0.889\n",
      "DCG@ 500: 0.629 | Hits@ 500: 0.978\n",
      "DCG@1000: 0.632 | Hits@1000: 1.000\n",
      "\n",
      "min_count = 4, window = 3 with Skip-Gram\n"
     ]
    },
    {
     "data": {
      "application/vnd.jupyter.widget-view+json": {
       "model_id": "a86e08af29d945ec920ad8075eeed383",
       "version_major": 2,
       "version_minor": 0
      },
      "text/plain": [
       "  0%|          | 0/6 [00:00<?, ?it/s]"
      ]
     },
     "metadata": {},
     "output_type": "display_data"
    },
    {
     "name": "stdout",
     "output_type": "stream",
     "text": [
      "DCG@   1: 0.488 | Hits@   1: 0.488\n",
      "DCG@   5: 0.576 | Hits@   5: 0.648\n",
      "DCG@  10: 0.596 | Hits@  10: 0.710\n",
      "DCG@ 100: 0.635 | Hits@ 100: 0.899\n",
      "DCG@ 500: 0.646 | Hits@ 500: 0.980\n",
      "DCG@1000: 0.648 | Hits@1000: 1.000\n",
      "\n",
      "min_count = 4, window = 4 with Skip-Gram\n"
     ]
    },
    {
     "data": {
      "application/vnd.jupyter.widget-view+json": {
       "model_id": "8e8d829186e447b8b686ee74ea278062",
       "version_major": 2,
       "version_minor": 0
      },
      "text/plain": [
       "  0%|          | 0/6 [00:00<?, ?it/s]"
      ]
     },
     "metadata": {},
     "output_type": "display_data"
    },
    {
     "name": "stdout",
     "output_type": "stream",
     "text": [
      "DCG@   1: 0.489 | Hits@   1: 0.489\n",
      "DCG@   5: 0.580 | Hits@   5: 0.656\n",
      "DCG@  10: 0.602 | Hits@  10: 0.724\n",
      "DCG@ 100: 0.639 | Hits@ 100: 0.902\n",
      "DCG@ 500: 0.649 | Hits@ 500: 0.981\n",
      "DCG@1000: 0.651 | Hits@1000: 1.000\n",
      "\n",
      "min_count = 4, window = 5 with Skip-Gram\n"
     ]
    },
    {
     "data": {
      "application/vnd.jupyter.widget-view+json": {
       "model_id": "1ee44d798b7445b78d337f4143918d42",
       "version_major": 2,
       "version_minor": 0
      },
      "text/plain": [
       "  0%|          | 0/6 [00:00<?, ?it/s]"
      ]
     },
     "metadata": {},
     "output_type": "display_data"
    },
    {
     "name": "stdout",
     "output_type": "stream",
     "text": [
      "DCG@   1: 0.508 | Hits@   1: 0.508\n",
      "DCG@   5: 0.594 | Hits@   5: 0.668\n",
      "DCG@  10: 0.615 | Hits@  10: 0.732\n",
      "DCG@ 100: 0.652 | Hits@ 100: 0.911\n",
      "DCG@ 500: 0.661 | Hits@ 500: 0.982\n",
      "DCG@1000: 0.663 | Hits@1000: 1.000\n",
      "\n",
      "min_count = 4, window = 6 with Skip-Gram\n"
     ]
    },
    {
     "data": {
      "application/vnd.jupyter.widget-view+json": {
       "model_id": "058383d00bbe4976b7a1176492f20aeb",
       "version_major": 2,
       "version_minor": 0
      },
      "text/plain": [
       "  0%|          | 0/6 [00:00<?, ?it/s]"
      ]
     },
     "metadata": {},
     "output_type": "display_data"
    },
    {
     "name": "stdout",
     "output_type": "stream",
     "text": [
      "DCG@   1: 0.521 | Hits@   1: 0.521\n",
      "DCG@   5: 0.599 | Hits@   5: 0.668\n",
      "DCG@  10: 0.618 | Hits@  10: 0.728\n",
      "DCG@ 100: 0.657 | Hits@ 100: 0.912\n",
      "DCG@ 500: 0.667 | Hits@ 500: 0.986\n",
      "DCG@1000: 0.668 | Hits@1000: 1.000\n",
      "\n",
      "min_count = 4, window = 7 with Skip-Gram\n"
     ]
    },
    {
     "data": {
      "application/vnd.jupyter.widget-view+json": {
       "model_id": "3ac3df5ef80247049613668f10419bfe",
       "version_major": 2,
       "version_minor": 0
      },
      "text/plain": [
       "  0%|          | 0/6 [00:00<?, ?it/s]"
      ]
     },
     "metadata": {},
     "output_type": "display_data"
    },
    {
     "name": "stdout",
     "output_type": "stream",
     "text": [
      "DCG@   1: 0.529 | Hits@   1: 0.529\n",
      "DCG@   5: 0.610 | Hits@   5: 0.681\n",
      "DCG@  10: 0.626 | Hits@  10: 0.732\n",
      "DCG@ 100: 0.665 | Hits@ 100: 0.916\n",
      "DCG@ 500: 0.675 | Hits@ 500: 0.987\n",
      "DCG@1000: 0.676 | Hits@1000: 1.000\n",
      "\n",
      "min_count = 4, window = 8 with Skip-Gram\n"
     ]
    },
    {
     "data": {
      "application/vnd.jupyter.widget-view+json": {
       "model_id": "c76b4267568449179402c227ede98eb4",
       "version_major": 2,
       "version_minor": 0
      },
      "text/plain": [
       "  0%|          | 0/6 [00:00<?, ?it/s]"
      ]
     },
     "metadata": {},
     "output_type": "display_data"
    },
    {
     "name": "stdout",
     "output_type": "stream",
     "text": [
      "DCG@   1: 0.525 | Hits@   1: 0.525\n",
      "DCG@   5: 0.608 | Hits@   5: 0.679\n",
      "DCG@  10: 0.628 | Hits@  10: 0.741\n",
      "DCG@ 100: 0.664 | Hits@ 100: 0.913\n",
      "DCG@ 500: 0.674 | Hits@ 500: 0.989\n",
      "DCG@1000: 0.675 | Hits@1000: 1.000\n",
      "\n",
      "min_count = 4, window = 9 with Skip-Gram\n"
     ]
    },
    {
     "data": {
      "application/vnd.jupyter.widget-view+json": {
       "model_id": "6cd564fbf1b34551b1239ccc99db239a",
       "version_major": 2,
       "version_minor": 0
      },
      "text/plain": [
       "  0%|          | 0/6 [00:00<?, ?it/s]"
      ]
     },
     "metadata": {},
     "output_type": "display_data"
    },
    {
     "name": "stdout",
     "output_type": "stream",
     "text": [
      "DCG@   1: 0.527 | Hits@   1: 0.527\n",
      "DCG@   5: 0.611 | Hits@   5: 0.687\n",
      "DCG@  10: 0.629 | Hits@  10: 0.743\n",
      "DCG@ 100: 0.666 | Hits@ 100: 0.918\n",
      "DCG@ 500: 0.675 | Hits@ 500: 0.985\n",
      "DCG@1000: 0.676 | Hits@1000: 1.000\n",
      "\n",
      "min_count = 4, window = 10 with Skip-Gram\n"
     ]
    },
    {
     "data": {
      "application/vnd.jupyter.widget-view+json": {
       "model_id": "5c8f3846bfa44e3993f6f0a668deb5dd",
       "version_major": 2,
       "version_minor": 0
      },
      "text/plain": [
       "  0%|          | 0/6 [00:00<?, ?it/s]"
      ]
     },
     "metadata": {},
     "output_type": "display_data"
    },
    {
     "name": "stdout",
     "output_type": "stream",
     "text": [
      "DCG@   1: 0.529 | Hits@   1: 0.529\n",
      "DCG@   5: 0.614 | Hits@   5: 0.686\n",
      "DCG@  10: 0.635 | Hits@  10: 0.751\n",
      "DCG@ 100: 0.670 | Hits@ 100: 0.920\n",
      "DCG@ 500: 0.679 | Hits@ 500: 0.988\n",
      "DCG@1000: 0.681 | Hits@1000: 1.000\n",
      "\n",
      "min_count = 5, window = 1 with Skip-Gram\n"
     ]
    },
    {
     "data": {
      "application/vnd.jupyter.widget-view+json": {
       "model_id": "83bd8c6312ab4e778105883d96299af5",
       "version_major": 2,
       "version_minor": 0
      },
      "text/plain": [
       "  0%|          | 0/6 [00:00<?, ?it/s]"
      ]
     },
     "metadata": {},
     "output_type": "display_data"
    },
    {
     "name": "stdout",
     "output_type": "stream",
     "text": [
      "DCG@   1: 0.433 | Hits@   1: 0.433\n",
      "DCG@   5: 0.530 | Hits@   5: 0.612\n",
      "DCG@  10: 0.547 | Hits@  10: 0.667\n",
      "DCG@ 100: 0.590 | Hits@ 100: 0.873\n",
      "DCG@ 500: 0.603 | Hits@ 500: 0.972\n",
      "DCG@1000: 0.606 | Hits@1000: 1.000\n",
      "\n",
      "min_count = 5, window = 2 with Skip-Gram\n"
     ]
    },
    {
     "data": {
      "application/vnd.jupyter.widget-view+json": {
       "model_id": "9f80c086b8b14626a83f971b3a4aac69",
       "version_major": 2,
       "version_minor": 0
      },
      "text/plain": [
       "  0%|          | 0/6 [00:00<?, ?it/s]"
      ]
     },
     "metadata": {},
     "output_type": "display_data"
    },
    {
     "name": "stdout",
     "output_type": "stream",
     "text": [
      "DCG@   1: 0.465 | Hits@   1: 0.465\n",
      "DCG@   5: 0.557 | Hits@   5: 0.635\n",
      "DCG@  10: 0.576 | Hits@  10: 0.692\n",
      "DCG@ 100: 0.618 | Hits@ 100: 0.896\n",
      "DCG@ 500: 0.629 | Hits@ 500: 0.979\n",
      "DCG@1000: 0.631 | Hits@1000: 1.000\n",
      "\n",
      "min_count = 5, window = 3 with Skip-Gram\n"
     ]
    },
    {
     "data": {
      "application/vnd.jupyter.widget-view+json": {
       "model_id": "81f100b3d65042edb584a7d2895e8ecc",
       "version_major": 2,
       "version_minor": 0
      },
      "text/plain": [
       "  0%|          | 0/6 [00:00<?, ?it/s]"
      ]
     },
     "metadata": {},
     "output_type": "display_data"
    },
    {
     "name": "stdout",
     "output_type": "stream",
     "text": [
      "DCG@   1: 0.481 | Hits@   1: 0.481\n",
      "DCG@   5: 0.572 | Hits@   5: 0.649\n",
      "DCG@  10: 0.591 | Hits@  10: 0.706\n",
      "DCG@ 100: 0.631 | Hits@ 100: 0.897\n",
      "DCG@ 500: 0.642 | Hits@ 500: 0.981\n",
      "DCG@1000: 0.644 | Hits@1000: 1.000\n",
      "\n",
      "min_count = 5, window = 4 with Skip-Gram\n"
     ]
    },
    {
     "data": {
      "application/vnd.jupyter.widget-view+json": {
       "model_id": "2f8fe01b95184cc3a9730f3db2068a50",
       "version_major": 2,
       "version_minor": 0
      },
      "text/plain": [
       "  0%|          | 0/6 [00:00<?, ?it/s]"
      ]
     },
     "metadata": {},
     "output_type": "display_data"
    },
    {
     "name": "stdout",
     "output_type": "stream",
     "text": [
      "DCG@   1: 0.507 | Hits@   1: 0.507\n",
      "DCG@   5: 0.591 | Hits@   5: 0.663\n",
      "DCG@  10: 0.609 | Hits@  10: 0.721\n",
      "DCG@ 100: 0.648 | Hits@ 100: 0.907\n",
      "DCG@ 500: 0.658 | Hits@ 500: 0.983\n",
      "DCG@1000: 0.660 | Hits@1000: 1.000\n",
      "\n",
      "min_count = 5, window = 5 with Skip-Gram\n"
     ]
    },
    {
     "data": {
      "application/vnd.jupyter.widget-view+json": {
       "model_id": "ec5f8bff41944eeca5aa52a1fbc1c4ed",
       "version_major": 2,
       "version_minor": 0
      },
      "text/plain": [
       "  0%|          | 0/6 [00:00<?, ?it/s]"
      ]
     },
     "metadata": {},
     "output_type": "display_data"
    },
    {
     "name": "stdout",
     "output_type": "stream",
     "text": [
      "DCG@   1: 0.508 | Hits@   1: 0.508\n",
      "DCG@   5: 0.595 | Hits@   5: 0.668\n",
      "DCG@  10: 0.614 | Hits@  10: 0.727\n",
      "DCG@ 100: 0.652 | Hits@ 100: 0.910\n",
      "DCG@ 500: 0.662 | Hits@ 500: 0.980\n",
      "DCG@1000: 0.664 | Hits@1000: 1.000\n",
      "\n",
      "min_count = 5, window = 6 with Skip-Gram\n"
     ]
    },
    {
     "data": {
      "application/vnd.jupyter.widget-view+json": {
       "model_id": "b997153de9784d6fbe88cf583b1a10c3",
       "version_major": 2,
       "version_minor": 0
      },
      "text/plain": [
       "  0%|          | 0/6 [00:00<?, ?it/s]"
      ]
     },
     "metadata": {},
     "output_type": "display_data"
    },
    {
     "name": "stdout",
     "output_type": "stream",
     "text": [
      "DCG@   1: 0.522 | Hits@   1: 0.522\n",
      "DCG@   5: 0.604 | Hits@   5: 0.678\n",
      "DCG@  10: 0.620 | Hits@  10: 0.729\n",
      "DCG@ 100: 0.658 | Hits@ 100: 0.907\n",
      "DCG@ 500: 0.668 | Hits@ 500: 0.984\n",
      "DCG@1000: 0.670 | Hits@1000: 1.000\n",
      "\n",
      "min_count = 5, window = 7 with Skip-Gram\n"
     ]
    },
    {
     "data": {
      "application/vnd.jupyter.widget-view+json": {
       "model_id": "9485b1410d364e649f0c032f861e4718",
       "version_major": 2,
       "version_minor": 0
      },
      "text/plain": [
       "  0%|          | 0/6 [00:00<?, ?it/s]"
      ]
     },
     "metadata": {},
     "output_type": "display_data"
    },
    {
     "name": "stdout",
     "output_type": "stream",
     "text": [
      "DCG@   1: 0.522 | Hits@   1: 0.522\n",
      "DCG@   5: 0.603 | Hits@   5: 0.675\n",
      "DCG@  10: 0.623 | Hits@  10: 0.735\n",
      "DCG@ 100: 0.660 | Hits@ 100: 0.908\n",
      "DCG@ 500: 0.670 | Hits@ 500: 0.984\n",
      "DCG@1000: 0.671 | Hits@1000: 1.000\n",
      "\n",
      "min_count = 5, window = 8 with Skip-Gram\n"
     ]
    },
    {
     "data": {
      "application/vnd.jupyter.widget-view+json": {
       "model_id": "661d7fa584b24907bfcc784863bef059",
       "version_major": 2,
       "version_minor": 0
      },
      "text/plain": [
       "  0%|          | 0/6 [00:00<?, ?it/s]"
      ]
     },
     "metadata": {},
     "output_type": "display_data"
    },
    {
     "name": "stdout",
     "output_type": "stream",
     "text": [
      "DCG@   1: 0.520 | Hits@   1: 0.520\n",
      "DCG@   5: 0.605 | Hits@   5: 0.680\n",
      "DCG@  10: 0.625 | Hits@  10: 0.739\n",
      "DCG@ 100: 0.662 | Hits@ 100: 0.916\n",
      "DCG@ 500: 0.672 | Hits@ 500: 0.989\n",
      "DCG@1000: 0.673 | Hits@1000: 1.000\n",
      "\n",
      "min_count = 5, window = 9 with Skip-Gram\n"
     ]
    },
    {
     "data": {
      "application/vnd.jupyter.widget-view+json": {
       "model_id": "8c0675cdf1904ba8938eed1ed495d316",
       "version_major": 2,
       "version_minor": 0
      },
      "text/plain": [
       "  0%|          | 0/6 [00:00<?, ?it/s]"
      ]
     },
     "metadata": {},
     "output_type": "display_data"
    },
    {
     "name": "stdout",
     "output_type": "stream",
     "text": [
      "DCG@   1: 0.528 | Hits@   1: 0.528\n",
      "DCG@   5: 0.612 | Hits@   5: 0.685\n",
      "DCG@  10: 0.632 | Hits@  10: 0.746\n",
      "DCG@ 100: 0.667 | Hits@ 100: 0.913\n",
      "DCG@ 500: 0.677 | Hits@ 500: 0.988\n",
      "DCG@1000: 0.678 | Hits@1000: 1.000\n",
      "\n",
      "min_count = 5, window = 10 with Skip-Gram\n"
     ]
    },
    {
     "data": {
      "application/vnd.jupyter.widget-view+json": {
       "model_id": "99e7b01fb4d1409db4076046da874564",
       "version_major": 2,
       "version_minor": 0
      },
      "text/plain": [
       "  0%|          | 0/6 [00:00<?, ?it/s]"
      ]
     },
     "metadata": {},
     "output_type": "display_data"
    },
    {
     "name": "stdout",
     "output_type": "stream",
     "text": [
      "DCG@   1: 0.527 | Hits@   1: 0.527\n",
      "DCG@   5: 0.611 | Hits@   5: 0.683\n",
      "DCG@  10: 0.632 | Hits@  10: 0.746\n",
      "DCG@ 100: 0.667 | Hits@ 100: 0.915\n",
      "DCG@ 500: 0.677 | Hits@ 500: 0.988\n",
      "DCG@1000: 0.678 | Hits@1000: 1.000\n",
      "\n",
      "min_count = 6, window = 1 with Skip-Gram\n"
     ]
    },
    {
     "data": {
      "application/vnd.jupyter.widget-view+json": {
       "model_id": "edb2aada8ecc45b39df934e563c61f86",
       "version_major": 2,
       "version_minor": 0
      },
      "text/plain": [
       "  0%|          | 0/6 [00:00<?, ?it/s]"
      ]
     },
     "metadata": {},
     "output_type": "display_data"
    },
    {
     "name": "stdout",
     "output_type": "stream",
     "text": [
      "DCG@   1: 0.430 | Hits@   1: 0.430\n",
      "DCG@   5: 0.531 | Hits@   5: 0.618\n",
      "DCG@  10: 0.547 | Hits@  10: 0.667\n",
      "DCG@ 100: 0.590 | Hits@ 100: 0.872\n",
      "DCG@ 500: 0.603 | Hits@ 500: 0.971\n",
      "DCG@1000: 0.606 | Hits@1000: 1.000\n",
      "\n",
      "min_count = 6, window = 2 with Skip-Gram\n"
     ]
    },
    {
     "data": {
      "application/vnd.jupyter.widget-view+json": {
       "model_id": "8da471ddfe164a0f9d91d983ccae880d",
       "version_major": 2,
       "version_minor": 0
      },
      "text/plain": [
       "  0%|          | 0/6 [00:00<?, ?it/s]"
      ]
     },
     "metadata": {},
     "output_type": "display_data"
    },
    {
     "name": "stdout",
     "output_type": "stream",
     "text": [
      "DCG@   1: 0.474 | Hits@   1: 0.474\n",
      "DCG@   5: 0.563 | Hits@   5: 0.638\n",
      "DCG@  10: 0.581 | Hits@  10: 0.694\n",
      "DCG@ 100: 0.623 | Hits@ 100: 0.897\n",
      "DCG@ 500: 0.634 | Hits@ 500: 0.978\n",
      "DCG@1000: 0.636 | Hits@1000: 1.000\n",
      "\n",
      "min_count = 6, window = 3 with Skip-Gram\n"
     ]
    },
    {
     "data": {
      "application/vnd.jupyter.widget-view+json": {
       "model_id": "a08a408af08740b99b375be156f7a565",
       "version_major": 2,
       "version_minor": 0
      },
      "text/plain": [
       "  0%|          | 0/6 [00:00<?, ?it/s]"
      ]
     },
     "metadata": {},
     "output_type": "display_data"
    },
    {
     "name": "stdout",
     "output_type": "stream",
     "text": [
      "DCG@   1: 0.484 | Hits@   1: 0.484\n",
      "DCG@   5: 0.577 | Hits@   5: 0.655\n",
      "DCG@  10: 0.593 | Hits@  10: 0.703\n",
      "DCG@ 100: 0.634 | Hits@ 100: 0.897\n",
      "DCG@ 500: 0.645 | Hits@ 500: 0.981\n",
      "DCG@1000: 0.647 | Hits@1000: 1.000\n",
      "\n",
      "min_count = 6, window = 4 with Skip-Gram\n"
     ]
    },
    {
     "data": {
      "application/vnd.jupyter.widget-view+json": {
       "model_id": "2477cf40aacc43319d249adaf534ed75",
       "version_major": 2,
       "version_minor": 0
      },
      "text/plain": [
       "  0%|          | 0/6 [00:00<?, ?it/s]"
      ]
     },
     "metadata": {},
     "output_type": "display_data"
    },
    {
     "name": "stdout",
     "output_type": "stream",
     "text": [
      "DCG@   1: 0.497 | Hits@   1: 0.497\n",
      "DCG@   5: 0.586 | Hits@   5: 0.660\n",
      "DCG@  10: 0.604 | Hits@  10: 0.717\n",
      "DCG@ 100: 0.645 | Hits@ 100: 0.910\n",
      "DCG@ 500: 0.654 | Hits@ 500: 0.982\n",
      "DCG@1000: 0.656 | Hits@1000: 1.000\n",
      "\n",
      "min_count = 6, window = 5 with Skip-Gram\n"
     ]
    },
    {
     "data": {
      "application/vnd.jupyter.widget-view+json": {
       "model_id": "b8bcdcd98a054eeeb5351a51680ab01e",
       "version_major": 2,
       "version_minor": 0
      },
      "text/plain": [
       "  0%|          | 0/6 [00:00<?, ?it/s]"
      ]
     },
     "metadata": {},
     "output_type": "display_data"
    },
    {
     "name": "stdout",
     "output_type": "stream",
     "text": [
      "DCG@   1: 0.514 | Hits@   1: 0.514\n",
      "DCG@   5: 0.597 | Hits@   5: 0.671\n",
      "DCG@  10: 0.615 | Hits@  10: 0.727\n",
      "DCG@ 100: 0.654 | Hits@ 100: 0.910\n",
      "DCG@ 500: 0.663 | Hits@ 500: 0.980\n",
      "DCG@1000: 0.665 | Hits@1000: 1.000\n",
      "\n",
      "min_count = 6, window = 6 with Skip-Gram\n"
     ]
    },
    {
     "data": {
      "application/vnd.jupyter.widget-view+json": {
       "model_id": "ccbfa9bb67524c18821fe249cc0e7a54",
       "version_major": 2,
       "version_minor": 0
      },
      "text/plain": [
       "  0%|          | 0/6 [00:00<?, ?it/s]"
      ]
     },
     "metadata": {},
     "output_type": "display_data"
    },
    {
     "name": "stdout",
     "output_type": "stream",
     "text": [
      "DCG@   1: 0.521 | Hits@   1: 0.521\n",
      "DCG@   5: 0.604 | Hits@   5: 0.680\n",
      "DCG@  10: 0.621 | Hits@  10: 0.732\n",
      "DCG@ 100: 0.659 | Hits@ 100: 0.916\n",
      "DCG@ 500: 0.668 | Hits@ 500: 0.985\n",
      "DCG@1000: 0.670 | Hits@1000: 1.000\n",
      "\n",
      "min_count = 6, window = 7 with Skip-Gram\n"
     ]
    },
    {
     "data": {
      "application/vnd.jupyter.widget-view+json": {
       "model_id": "8a0fe7aef2e2453ebb8d63819d5696a7",
       "version_major": 2,
       "version_minor": 0
      },
      "text/plain": [
       "  0%|          | 0/6 [00:00<?, ?it/s]"
      ]
     },
     "metadata": {},
     "output_type": "display_data"
    },
    {
     "name": "stdout",
     "output_type": "stream",
     "text": [
      "DCG@   1: 0.523 | Hits@   1: 0.523\n",
      "DCG@   5: 0.605 | Hits@   5: 0.676\n",
      "DCG@  10: 0.626 | Hits@  10: 0.739\n",
      "DCG@ 100: 0.663 | Hits@ 100: 0.918\n",
      "DCG@ 500: 0.672 | Hits@ 500: 0.987\n",
      "DCG@1000: 0.674 | Hits@1000: 1.000\n",
      "\n",
      "min_count = 6, window = 8 with Skip-Gram\n"
     ]
    },
    {
     "data": {
      "application/vnd.jupyter.widget-view+json": {
       "model_id": "6decef83efe7457f8b1cf098be0d07fc",
       "version_major": 2,
       "version_minor": 0
      },
      "text/plain": [
       "  0%|          | 0/6 [00:00<?, ?it/s]"
      ]
     },
     "metadata": {},
     "output_type": "display_data"
    },
    {
     "name": "stdout",
     "output_type": "stream",
     "text": [
      "DCG@   1: 0.527 | Hits@   1: 0.527\n",
      "DCG@   5: 0.611 | Hits@   5: 0.682\n",
      "DCG@  10: 0.627 | Hits@  10: 0.734\n",
      "DCG@ 100: 0.666 | Hits@ 100: 0.917\n",
      "DCG@ 500: 0.675 | Hits@ 500: 0.986\n",
      "DCG@1000: 0.677 | Hits@1000: 1.000\n",
      "\n",
      "min_count = 6, window = 9 with Skip-Gram\n"
     ]
    },
    {
     "data": {
      "application/vnd.jupyter.widget-view+json": {
       "model_id": "f463bbb4b5734f979faf5774f8503a6d",
       "version_major": 2,
       "version_minor": 0
      },
      "text/plain": [
       "  0%|          | 0/6 [00:00<?, ?it/s]"
      ]
     },
     "metadata": {},
     "output_type": "display_data"
    },
    {
     "name": "stdout",
     "output_type": "stream",
     "text": [
      "DCG@   1: 0.527 | Hits@   1: 0.527\n",
      "DCG@   5: 0.611 | Hits@   5: 0.684\n",
      "DCG@  10: 0.630 | Hits@  10: 0.743\n",
      "DCG@ 100: 0.667 | Hits@ 100: 0.915\n",
      "DCG@ 500: 0.676 | Hits@ 500: 0.986\n",
      "DCG@1000: 0.677 | Hits@1000: 1.000\n",
      "\n",
      "min_count = 6, window = 10 with Skip-Gram\n"
     ]
    },
    {
     "data": {
      "application/vnd.jupyter.widget-view+json": {
       "model_id": "a29f84bc1a41431eaffe3a2cf344e503",
       "version_major": 2,
       "version_minor": 0
      },
      "text/plain": [
       "  0%|          | 0/6 [00:00<?, ?it/s]"
      ]
     },
     "metadata": {},
     "output_type": "display_data"
    },
    {
     "name": "stdout",
     "output_type": "stream",
     "text": [
      "DCG@   1: 0.528 | Hits@   1: 0.528\n",
      "DCG@   5: 0.615 | Hits@   5: 0.688\n",
      "DCG@  10: 0.632 | Hits@  10: 0.743\n",
      "DCG@ 100: 0.669 | Hits@ 100: 0.917\n",
      "DCG@ 500: 0.679 | Hits@ 500: 0.988\n",
      "DCG@1000: 0.680 | Hits@1000: 1.000\n",
      "\n",
      "min_count = 7, window = 1 with Skip-Gram\n"
     ]
    },
    {
     "data": {
      "application/vnd.jupyter.widget-view+json": {
       "model_id": "e964133da7a44bb5ae078b31daf237f0",
       "version_major": 2,
       "version_minor": 0
      },
      "text/plain": [
       "  0%|          | 0/6 [00:00<?, ?it/s]"
      ]
     },
     "metadata": {},
     "output_type": "display_data"
    },
    {
     "name": "stdout",
     "output_type": "stream",
     "text": [
      "DCG@   1: 0.446 | Hits@   1: 0.446\n",
      "DCG@   5: 0.539 | Hits@   5: 0.620\n",
      "DCG@  10: 0.554 | Hits@  10: 0.667\n",
      "DCG@ 100: 0.596 | Hits@ 100: 0.874\n",
      "DCG@ 500: 0.609 | Hits@ 500: 0.968\n",
      "DCG@1000: 0.612 | Hits@1000: 1.000\n",
      "\n",
      "min_count = 7, window = 2 with Skip-Gram\n"
     ]
    },
    {
     "data": {
      "application/vnd.jupyter.widget-view+json": {
       "model_id": "10887c16b49a4a22b445a60c3e7a71c0",
       "version_major": 2,
       "version_minor": 0
      },
      "text/plain": [
       "  0%|          | 0/6 [00:00<?, ?it/s]"
      ]
     },
     "metadata": {},
     "output_type": "display_data"
    },
    {
     "name": "stdout",
     "output_type": "stream",
     "text": [
      "DCG@   1: 0.474 | Hits@   1: 0.474\n",
      "DCG@   5: 0.564 | Hits@   5: 0.638\n",
      "DCG@  10: 0.582 | Hits@  10: 0.696\n",
      "DCG@ 100: 0.624 | Hits@ 100: 0.895\n",
      "DCG@ 500: 0.634 | Hits@ 500: 0.979\n",
      "DCG@1000: 0.637 | Hits@1000: 1.000\n",
      "\n",
      "min_count = 7, window = 3 with Skip-Gram\n"
     ]
    },
    {
     "data": {
      "application/vnd.jupyter.widget-view+json": {
       "model_id": "4518fe365b0a466aa68c72de8c4c3dc1",
       "version_major": 2,
       "version_minor": 0
      },
      "text/plain": [
       "  0%|          | 0/6 [00:00<?, ?it/s]"
      ]
     },
     "metadata": {},
     "output_type": "display_data"
    },
    {
     "name": "stdout",
     "output_type": "stream",
     "text": [
      "DCG@   1: 0.485 | Hits@   1: 0.485\n",
      "DCG@   5: 0.576 | Hits@   5: 0.653\n",
      "DCG@  10: 0.593 | Hits@  10: 0.707\n",
      "DCG@ 100: 0.635 | Hits@ 100: 0.905\n",
      "DCG@ 500: 0.645 | Hits@ 500: 0.981\n",
      "DCG@1000: 0.647 | Hits@1000: 1.000\n",
      "\n",
      "min_count = 7, window = 4 with Skip-Gram\n"
     ]
    },
    {
     "data": {
      "application/vnd.jupyter.widget-view+json": {
       "model_id": "c081e4aa01814ceca303cf6473e06d86",
       "version_major": 2,
       "version_minor": 0
      },
      "text/plain": [
       "  0%|          | 0/6 [00:00<?, ?it/s]"
      ]
     },
     "metadata": {},
     "output_type": "display_data"
    },
    {
     "name": "stdout",
     "output_type": "stream",
     "text": [
      "DCG@   1: 0.503 | Hits@   1: 0.503\n",
      "DCG@   5: 0.588 | Hits@   5: 0.658\n",
      "DCG@  10: 0.607 | Hits@  10: 0.718\n",
      "DCG@ 100: 0.647 | Hits@ 100: 0.906\n",
      "DCG@ 500: 0.656 | Hits@ 500: 0.980\n",
      "DCG@1000: 0.659 | Hits@1000: 1.000\n",
      "\n",
      "min_count = 7, window = 5 with Skip-Gram\n"
     ]
    },
    {
     "data": {
      "application/vnd.jupyter.widget-view+json": {
       "model_id": "57f3020fb53e4adf90f1d6d85ff7706c",
       "version_major": 2,
       "version_minor": 0
      },
      "text/plain": [
       "  0%|          | 0/6 [00:00<?, ?it/s]"
      ]
     },
     "metadata": {},
     "output_type": "display_data"
    },
    {
     "name": "stdout",
     "output_type": "stream",
     "text": [
      "DCG@   1: 0.510 | Hits@   1: 0.510\n",
      "DCG@   5: 0.596 | Hits@   5: 0.667\n",
      "DCG@  10: 0.613 | Hits@  10: 0.722\n",
      "DCG@ 100: 0.654 | Hits@ 100: 0.912\n",
      "DCG@ 500: 0.663 | Hits@ 500: 0.984\n",
      "DCG@1000: 0.665 | Hits@1000: 1.000\n",
      "\n",
      "min_count = 7, window = 6 with Skip-Gram\n"
     ]
    },
    {
     "data": {
      "application/vnd.jupyter.widget-view+json": {
       "model_id": "bd46eb8da58f446abfac155b31f8f85a",
       "version_major": 2,
       "version_minor": 0
      },
      "text/plain": [
       "  0%|          | 0/6 [00:00<?, ?it/s]"
      ]
     },
     "metadata": {},
     "output_type": "display_data"
    },
    {
     "name": "stdout",
     "output_type": "stream",
     "text": [
      "DCG@   1: 0.514 | Hits@   1: 0.514\n",
      "DCG@   5: 0.601 | Hits@   5: 0.674\n",
      "DCG@  10: 0.619 | Hits@  10: 0.731\n",
      "DCG@ 100: 0.657 | Hits@ 100: 0.913\n",
      "DCG@ 500: 0.667 | Hits@ 500: 0.984\n",
      "DCG@1000: 0.668 | Hits@1000: 1.000\n",
      "\n",
      "min_count = 7, window = 7 with Skip-Gram\n"
     ]
    },
    {
     "data": {
      "application/vnd.jupyter.widget-view+json": {
       "model_id": "cfdf5d6096504039b548e71e214c8485",
       "version_major": 2,
       "version_minor": 0
      },
      "text/plain": [
       "  0%|          | 0/6 [00:00<?, ?it/s]"
      ]
     },
     "metadata": {},
     "output_type": "display_data"
    },
    {
     "name": "stdout",
     "output_type": "stream",
     "text": [
      "DCG@   1: 0.523 | Hits@   1: 0.523\n",
      "DCG@   5: 0.605 | Hits@   5: 0.675\n",
      "DCG@  10: 0.626 | Hits@  10: 0.740\n",
      "DCG@ 100: 0.663 | Hits@ 100: 0.918\n",
      "DCG@ 500: 0.672 | Hits@ 500: 0.985\n",
      "DCG@1000: 0.673 | Hits@1000: 1.000\n",
      "\n",
      "min_count = 7, window = 8 with Skip-Gram\n"
     ]
    },
    {
     "data": {
      "application/vnd.jupyter.widget-view+json": {
       "model_id": "2408c1f8dbd949ecac08d625197a2569",
       "version_major": 2,
       "version_minor": 0
      },
      "text/plain": [
       "  0%|          | 0/6 [00:00<?, ?it/s]"
      ]
     },
     "metadata": {},
     "output_type": "display_data"
    },
    {
     "name": "stdout",
     "output_type": "stream",
     "text": [
      "DCG@   1: 0.521 | Hits@   1: 0.521\n",
      "DCG@   5: 0.610 | Hits@   5: 0.687\n",
      "DCG@  10: 0.627 | Hits@  10: 0.740\n",
      "DCG@ 100: 0.665 | Hits@ 100: 0.918\n",
      "DCG@ 500: 0.674 | Hits@ 500: 0.987\n",
      "DCG@1000: 0.675 | Hits@1000: 1.000\n",
      "\n",
      "min_count = 7, window = 9 with Skip-Gram\n"
     ]
    },
    {
     "data": {
      "application/vnd.jupyter.widget-view+json": {
       "model_id": "96acb5529eef4dcc88e03c126558bbf1",
       "version_major": 2,
       "version_minor": 0
      },
      "text/plain": [
       "  0%|          | 0/6 [00:00<?, ?it/s]"
      ]
     },
     "metadata": {},
     "output_type": "display_data"
    },
    {
     "name": "stdout",
     "output_type": "stream",
     "text": [
      "DCG@   1: 0.521 | Hits@   1: 0.521\n",
      "DCG@   5: 0.610 | Hits@   5: 0.688\n",
      "DCG@  10: 0.628 | Hits@  10: 0.743\n",
      "DCG@ 100: 0.664 | Hits@ 100: 0.914\n",
      "DCG@ 500: 0.674 | Hits@ 500: 0.987\n",
      "DCG@1000: 0.675 | Hits@1000: 1.000\n",
      "\n",
      "min_count = 7, window = 10 with Skip-Gram\n"
     ]
    },
    {
     "data": {
      "application/vnd.jupyter.widget-view+json": {
       "model_id": "544fb59ac2d24eedbf5d5076683d716b",
       "version_major": 2,
       "version_minor": 0
      },
      "text/plain": [
       "  0%|          | 0/6 [00:00<?, ?it/s]"
      ]
     },
     "metadata": {},
     "output_type": "display_data"
    },
    {
     "name": "stdout",
     "output_type": "stream",
     "text": [
      "DCG@   1: 0.526 | Hits@   1: 0.526\n",
      "DCG@   5: 0.611 | Hits@   5: 0.686\n",
      "DCG@  10: 0.630 | Hits@  10: 0.745\n",
      "DCG@ 100: 0.666 | Hits@ 100: 0.914\n",
      "DCG@ 500: 0.676 | Hits@ 500: 0.987\n",
      "DCG@1000: 0.677 | Hits@1000: 1.000\n",
      "\n",
      "min_count = 8, window = 1 with Skip-Gram\n"
     ]
    },
    {
     "data": {
      "application/vnd.jupyter.widget-view+json": {
       "model_id": "805ca754aba84de896035deeca1bb486",
       "version_major": 2,
       "version_minor": 0
      },
      "text/plain": [
       "  0%|          | 0/6 [00:00<?, ?it/s]"
      ]
     },
     "metadata": {},
     "output_type": "display_data"
    },
    {
     "name": "stdout",
     "output_type": "stream",
     "text": [
      "DCG@   1: 0.439 | Hits@   1: 0.439\n",
      "DCG@   5: 0.535 | Hits@   5: 0.616\n",
      "DCG@  10: 0.553 | Hits@  10: 0.672\n",
      "DCG@ 100: 0.594 | Hits@ 100: 0.873\n",
      "DCG@ 500: 0.607 | Hits@ 500: 0.973\n",
      "DCG@1000: 0.610 | Hits@1000: 1.000\n",
      "\n",
      "min_count = 8, window = 2 with Skip-Gram\n"
     ]
    },
    {
     "data": {
      "application/vnd.jupyter.widget-view+json": {
       "model_id": "cca7e4d3f47947e98d6a626a7b1279b8",
       "version_major": 2,
       "version_minor": 0
      },
      "text/plain": [
       "  0%|          | 0/6 [00:00<?, ?it/s]"
      ]
     },
     "metadata": {},
     "output_type": "display_data"
    },
    {
     "name": "stdout",
     "output_type": "stream",
     "text": [
      "DCG@   1: 0.466 | Hits@   1: 0.466\n",
      "DCG@   5: 0.559 | Hits@   5: 0.635\n",
      "DCG@  10: 0.580 | Hits@  10: 0.700\n",
      "DCG@ 100: 0.620 | Hits@ 100: 0.897\n",
      "DCG@ 500: 0.631 | Hits@ 500: 0.977\n",
      "DCG@1000: 0.633 | Hits@1000: 1.000\n",
      "\n",
      "min_count = 8, window = 3 with Skip-Gram\n"
     ]
    },
    {
     "data": {
      "application/vnd.jupyter.widget-view+json": {
       "model_id": "4806e970ea8a441ea21ed5b663c9b011",
       "version_major": 2,
       "version_minor": 0
      },
      "text/plain": [
       "  0%|          | 0/6 [00:00<?, ?it/s]"
      ]
     },
     "metadata": {},
     "output_type": "display_data"
    },
    {
     "name": "stdout",
     "output_type": "stream",
     "text": [
      "DCG@   1: 0.491 | Hits@   1: 0.491\n",
      "DCG@   5: 0.582 | Hits@   5: 0.660\n",
      "DCG@  10: 0.599 | Hits@  10: 0.711\n",
      "DCG@ 100: 0.638 | Hits@ 100: 0.896\n",
      "DCG@ 500: 0.649 | Hits@ 500: 0.980\n",
      "DCG@1000: 0.651 | Hits@1000: 1.000\n",
      "\n",
      "min_count = 8, window = 4 with Skip-Gram\n"
     ]
    },
    {
     "data": {
      "application/vnd.jupyter.widget-view+json": {
       "model_id": "8f4c653709d849af935443c403701dd8",
       "version_major": 2,
       "version_minor": 0
      },
      "text/plain": [
       "  0%|          | 0/6 [00:00<?, ?it/s]"
      ]
     },
     "metadata": {},
     "output_type": "display_data"
    },
    {
     "name": "stdout",
     "output_type": "stream",
     "text": [
      "DCG@   1: 0.503 | Hits@   1: 0.503\n",
      "DCG@   5: 0.591 | Hits@   5: 0.668\n",
      "DCG@  10: 0.608 | Hits@  10: 0.718\n",
      "DCG@ 100: 0.648 | Hits@ 100: 0.905\n",
      "DCG@ 500: 0.657 | Hits@ 500: 0.981\n",
      "DCG@1000: 0.659 | Hits@1000: 1.000\n",
      "\n",
      "min_count = 8, window = 5 with Skip-Gram\n"
     ]
    },
    {
     "data": {
      "application/vnd.jupyter.widget-view+json": {
       "model_id": "e3fd2d967212444381afb1079d6c776f",
       "version_major": 2,
       "version_minor": 0
      },
      "text/plain": [
       "  0%|          | 0/6 [00:00<?, ?it/s]"
      ]
     },
     "metadata": {},
     "output_type": "display_data"
    },
    {
     "name": "stdout",
     "output_type": "stream",
     "text": [
      "DCG@   1: 0.511 | Hits@   1: 0.511\n",
      "DCG@   5: 0.598 | Hits@   5: 0.672\n",
      "DCG@  10: 0.618 | Hits@  10: 0.732\n",
      "DCG@ 100: 0.654 | Hits@ 100: 0.908\n",
      "DCG@ 500: 0.664 | Hits@ 500: 0.982\n",
      "DCG@1000: 0.666 | Hits@1000: 1.000\n",
      "\n",
      "min_count = 8, window = 6 with Skip-Gram\n"
     ]
    },
    {
     "data": {
      "application/vnd.jupyter.widget-view+json": {
       "model_id": "75955f3172544c4181ef18fb497abd09",
       "version_major": 2,
       "version_minor": 0
      },
      "text/plain": [
       "  0%|          | 0/6 [00:00<?, ?it/s]"
      ]
     },
     "metadata": {},
     "output_type": "display_data"
    },
    {
     "name": "stdout",
     "output_type": "stream",
     "text": [
      "DCG@   1: 0.517 | Hits@   1: 0.517\n",
      "DCG@   5: 0.601 | Hits@   5: 0.676\n",
      "DCG@  10: 0.619 | Hits@  10: 0.733\n",
      "DCG@ 100: 0.658 | Hits@ 100: 0.914\n",
      "DCG@ 500: 0.667 | Hits@ 500: 0.984\n",
      "DCG@1000: 0.668 | Hits@1000: 1.000\n",
      "\n",
      "min_count = 8, window = 7 with Skip-Gram\n"
     ]
    },
    {
     "data": {
      "application/vnd.jupyter.widget-view+json": {
       "model_id": "3eae3522cf5d4c27b3439990e3543051",
       "version_major": 2,
       "version_minor": 0
      },
      "text/plain": [
       "  0%|          | 0/6 [00:00<?, ?it/s]"
      ]
     },
     "metadata": {},
     "output_type": "display_data"
    },
    {
     "name": "stdout",
     "output_type": "stream",
     "text": [
      "DCG@   1: 0.517 | Hits@   1: 0.517\n",
      "DCG@   5: 0.606 | Hits@   5: 0.680\n",
      "DCG@  10: 0.626 | Hits@  10: 0.743\n",
      "DCG@ 100: 0.662 | Hits@ 100: 0.917\n",
      "DCG@ 500: 0.671 | Hits@ 500: 0.984\n",
      "DCG@1000: 0.672 | Hits@1000: 1.000\n",
      "\n",
      "min_count = 8, window = 8 with Skip-Gram\n"
     ]
    },
    {
     "data": {
      "application/vnd.jupyter.widget-view+json": {
       "model_id": "4db22483c9054f61b509166475696cb7",
       "version_major": 2,
       "version_minor": 0
      },
      "text/plain": [
       "  0%|          | 0/6 [00:00<?, ?it/s]"
      ]
     },
     "metadata": {},
     "output_type": "display_data"
    },
    {
     "name": "stdout",
     "output_type": "stream",
     "text": [
      "DCG@   1: 0.529 | Hits@   1: 0.529\n",
      "DCG@   5: 0.613 | Hits@   5: 0.688\n",
      "DCG@  10: 0.629 | Hits@  10: 0.740\n",
      "DCG@ 100: 0.667 | Hits@ 100: 0.919\n",
      "DCG@ 500: 0.676 | Hits@ 500: 0.984\n",
      "DCG@1000: 0.677 | Hits@1000: 1.000\n",
      "\n",
      "min_count = 8, window = 9 with Skip-Gram\n"
     ]
    },
    {
     "data": {
      "application/vnd.jupyter.widget-view+json": {
       "model_id": "4e910d241abe4ddb8fe9c9f54ca5cf1e",
       "version_major": 2,
       "version_minor": 0
      },
      "text/plain": [
       "  0%|          | 0/6 [00:00<?, ?it/s]"
      ]
     },
     "metadata": {},
     "output_type": "display_data"
    },
    {
     "name": "stdout",
     "output_type": "stream",
     "text": [
      "DCG@   1: 0.533 | Hits@   1: 0.533\n",
      "DCG@   5: 0.615 | Hits@   5: 0.686\n",
      "DCG@  10: 0.634 | Hits@  10: 0.744\n",
      "DCG@ 100: 0.670 | Hits@ 100: 0.917\n",
      "DCG@ 500: 0.679 | Hits@ 500: 0.985\n",
      "DCG@1000: 0.681 | Hits@1000: 1.000\n",
      "\n",
      "min_count = 8, window = 10 with Skip-Gram\n"
     ]
    },
    {
     "data": {
      "application/vnd.jupyter.widget-view+json": {
       "model_id": "2defa60b96ac49aa9328e96e22088b14",
       "version_major": 2,
       "version_minor": 0
      },
      "text/plain": [
       "  0%|          | 0/6 [00:00<?, ?it/s]"
      ]
     },
     "metadata": {},
     "output_type": "display_data"
    },
    {
     "name": "stdout",
     "output_type": "stream",
     "text": [
      "DCG@   1: 0.529 | Hits@   1: 0.529\n",
      "DCG@   5: 0.616 | Hits@   5: 0.691\n",
      "DCG@  10: 0.634 | Hits@  10: 0.747\n",
      "DCG@ 100: 0.670 | Hits@ 100: 0.917\n",
      "DCG@ 500: 0.679 | Hits@ 500: 0.987\n",
      "DCG@1000: 0.681 | Hits@1000: 1.000\n",
      "\n",
      "min_count = 9, window = 1 with Skip-Gram\n"
     ]
    },
    {
     "data": {
      "application/vnd.jupyter.widget-view+json": {
       "model_id": "7d988e5ae16043a3828bf7269bba798b",
       "version_major": 2,
       "version_minor": 0
      },
      "text/plain": [
       "  0%|          | 0/6 [00:00<?, ?it/s]"
      ]
     },
     "metadata": {},
     "output_type": "display_data"
    },
    {
     "name": "stdout",
     "output_type": "stream",
     "text": [
      "DCG@   1: 0.448 | Hits@   1: 0.448\n",
      "DCG@   5: 0.539 | Hits@   5: 0.616\n",
      "DCG@  10: 0.556 | Hits@  10: 0.668\n",
      "DCG@ 100: 0.598 | Hits@ 100: 0.873\n",
      "DCG@ 500: 0.611 | Hits@ 500: 0.971\n",
      "DCG@1000: 0.614 | Hits@1000: 1.000\n",
      "\n",
      "min_count = 9, window = 2 with Skip-Gram\n"
     ]
    },
    {
     "data": {
      "application/vnd.jupyter.widget-view+json": {
       "model_id": "f9ee55e7dd6949d4bbca72c4c9f3b15f",
       "version_major": 2,
       "version_minor": 0
      },
      "text/plain": [
       "  0%|          | 0/6 [00:00<?, ?it/s]"
      ]
     },
     "metadata": {},
     "output_type": "display_data"
    },
    {
     "name": "stdout",
     "output_type": "stream",
     "text": [
      "DCG@   1: 0.472 | Hits@   1: 0.472\n",
      "DCG@   5: 0.566 | Hits@   5: 0.645\n",
      "DCG@  10: 0.584 | Hits@  10: 0.701\n",
      "DCG@ 100: 0.624 | Hits@ 100: 0.894\n",
      "DCG@ 500: 0.635 | Hits@ 500: 0.976\n",
      "DCG@1000: 0.638 | Hits@1000: 1.000\n",
      "\n",
      "min_count = 9, window = 3 with Skip-Gram\n"
     ]
    },
    {
     "data": {
      "application/vnd.jupyter.widget-view+json": {
       "model_id": "939166d11a454f6b887ae5404576ab33",
       "version_major": 2,
       "version_minor": 0
      },
      "text/plain": [
       "  0%|          | 0/6 [00:00<?, ?it/s]"
      ]
     },
     "metadata": {},
     "output_type": "display_data"
    },
    {
     "name": "stdout",
     "output_type": "stream",
     "text": [
      "DCG@   1: 0.488 | Hits@   1: 0.488\n",
      "DCG@   5: 0.578 | Hits@   5: 0.656\n",
      "DCG@  10: 0.594 | Hits@  10: 0.706\n",
      "DCG@ 100: 0.635 | Hits@ 100: 0.896\n",
      "DCG@ 500: 0.646 | Hits@ 500: 0.979\n",
      "DCG@1000: 0.648 | Hits@1000: 1.000\n",
      "\n",
      "min_count = 9, window = 4 with Skip-Gram\n"
     ]
    },
    {
     "data": {
      "application/vnd.jupyter.widget-view+json": {
       "model_id": "0cf9bbf37eb24addbd6cb0719c821168",
       "version_major": 2,
       "version_minor": 0
      },
      "text/plain": [
       "  0%|          | 0/6 [00:00<?, ?it/s]"
      ]
     },
     "metadata": {},
     "output_type": "display_data"
    },
    {
     "name": "stdout",
     "output_type": "stream",
     "text": [
      "DCG@   1: 0.497 | Hits@   1: 0.497\n",
      "DCG@   5: 0.587 | Hits@   5: 0.663\n",
      "DCG@  10: 0.604 | Hits@  10: 0.716\n",
      "DCG@ 100: 0.643 | Hits@ 100: 0.901\n",
      "DCG@ 500: 0.654 | Hits@ 500: 0.981\n",
      "DCG@1000: 0.656 | Hits@1000: 1.000\n",
      "\n",
      "min_count = 9, window = 5 with Skip-Gram\n"
     ]
    },
    {
     "data": {
      "application/vnd.jupyter.widget-view+json": {
       "model_id": "2ae3cae61fc24fca9afb20551994fa9d",
       "version_major": 2,
       "version_minor": 0
      },
      "text/plain": [
       "  0%|          | 0/6 [00:00<?, ?it/s]"
      ]
     },
     "metadata": {},
     "output_type": "display_data"
    },
    {
     "name": "stdout",
     "output_type": "stream",
     "text": [
      "DCG@   1: 0.513 | Hits@   1: 0.513\n",
      "DCG@   5: 0.598 | Hits@   5: 0.673\n",
      "DCG@  10: 0.617 | Hits@  10: 0.730\n",
      "DCG@ 100: 0.654 | Hits@ 100: 0.911\n",
      "DCG@ 500: 0.664 | Hits@ 500: 0.982\n",
      "DCG@1000: 0.666 | Hits@1000: 1.000\n",
      "\n",
      "min_count = 9, window = 6 with Skip-Gram\n"
     ]
    },
    {
     "data": {
      "application/vnd.jupyter.widget-view+json": {
       "model_id": "c92ffc5a288941dab8ff0fa0770c8730",
       "version_major": 2,
       "version_minor": 0
      },
      "text/plain": [
       "  0%|          | 0/6 [00:00<?, ?it/s]"
      ]
     },
     "metadata": {},
     "output_type": "display_data"
    },
    {
     "name": "stdout",
     "output_type": "stream",
     "text": [
      "DCG@   1: 0.518 | Hits@   1: 0.518\n",
      "DCG@   5: 0.602 | Hits@   5: 0.675\n",
      "DCG@  10: 0.619 | Hits@  10: 0.731\n",
      "DCG@ 100: 0.659 | Hits@ 100: 0.919\n",
      "DCG@ 500: 0.668 | Hits@ 500: 0.982\n",
      "DCG@1000: 0.669 | Hits@1000: 1.000\n",
      "\n",
      "min_count = 9, window = 7 with Skip-Gram\n"
     ]
    },
    {
     "data": {
      "application/vnd.jupyter.widget-view+json": {
       "model_id": "68b50fce4523426c8718b8543049c048",
       "version_major": 2,
       "version_minor": 0
      },
      "text/plain": [
       "  0%|          | 0/6 [00:00<?, ?it/s]"
      ]
     },
     "metadata": {},
     "output_type": "display_data"
    },
    {
     "name": "stdout",
     "output_type": "stream",
     "text": [
      "DCG@   1: 0.520 | Hits@   1: 0.520\n",
      "DCG@   5: 0.607 | Hits@   5: 0.681\n",
      "DCG@  10: 0.624 | Hits@  10: 0.735\n",
      "DCG@ 100: 0.662 | Hits@ 100: 0.914\n",
      "DCG@ 500: 0.671 | Hits@ 500: 0.984\n",
      "DCG@1000: 0.673 | Hits@1000: 1.000\n",
      "\n",
      "min_count = 9, window = 8 with Skip-Gram\n"
     ]
    },
    {
     "data": {
      "application/vnd.jupyter.widget-view+json": {
       "model_id": "ddebf808e3f44bec9a381367514d1095",
       "version_major": 2,
       "version_minor": 0
      },
      "text/plain": [
       "  0%|          | 0/6 [00:00<?, ?it/s]"
      ]
     },
     "metadata": {},
     "output_type": "display_data"
    },
    {
     "name": "stdout",
     "output_type": "stream",
     "text": [
      "DCG@   1: 0.527 | Hits@   1: 0.527\n",
      "DCG@   5: 0.610 | Hits@   5: 0.680\n",
      "DCG@  10: 0.631 | Hits@  10: 0.744\n",
      "DCG@ 100: 0.667 | Hits@ 100: 0.915\n",
      "DCG@ 500: 0.676 | Hits@ 500: 0.984\n",
      "DCG@1000: 0.677 | Hits@1000: 1.000\n",
      "\n",
      "min_count = 9, window = 9 with Skip-Gram\n"
     ]
    },
    {
     "data": {
      "application/vnd.jupyter.widget-view+json": {
       "model_id": "505943654ca542c2aaf039343a248440",
       "version_major": 2,
       "version_minor": 0
      },
      "text/plain": [
       "  0%|          | 0/6 [00:00<?, ?it/s]"
      ]
     },
     "metadata": {},
     "output_type": "display_data"
    },
    {
     "name": "stdout",
     "output_type": "stream",
     "text": [
      "DCG@   1: 0.533 | Hits@   1: 0.533\n",
      "DCG@   5: 0.614 | Hits@   5: 0.684\n",
      "DCG@  10: 0.633 | Hits@  10: 0.744\n",
      "DCG@ 100: 0.670 | Hits@ 100: 0.921\n",
      "DCG@ 500: 0.678 | Hits@ 500: 0.984\n",
      "DCG@1000: 0.680 | Hits@1000: 1.000\n",
      "\n",
      "min_count = 9, window = 10 with Skip-Gram\n"
     ]
    },
    {
     "data": {
      "application/vnd.jupyter.widget-view+json": {
       "model_id": "05b5aabaf916474a9f2261816c490e5a",
       "version_major": 2,
       "version_minor": 0
      },
      "text/plain": [
       "  0%|          | 0/6 [00:00<?, ?it/s]"
      ]
     },
     "metadata": {},
     "output_type": "display_data"
    },
    {
     "name": "stdout",
     "output_type": "stream",
     "text": [
      "DCG@   1: 0.534 | Hits@   1: 0.534\n",
      "DCG@   5: 0.616 | Hits@   5: 0.685\n",
      "DCG@  10: 0.634 | Hits@  10: 0.743\n",
      "DCG@ 100: 0.670 | Hits@ 100: 0.912\n",
      "DCG@ 500: 0.680 | Hits@ 500: 0.986\n",
      "DCG@1000: 0.682 | Hits@1000: 1.000\n",
      "\n",
      "min_count = 10, window = 1 with Skip-Gram\n"
     ]
    },
    {
     "data": {
      "application/vnd.jupyter.widget-view+json": {
       "model_id": "efc1884d4759418bb3586bba671edbe0",
       "version_major": 2,
       "version_minor": 0
      },
      "text/plain": [
       "  0%|          | 0/6 [00:00<?, ?it/s]"
      ]
     },
     "metadata": {},
     "output_type": "display_data"
    },
    {
     "name": "stdout",
     "output_type": "stream",
     "text": [
      "DCG@   1: 0.442 | Hits@   1: 0.442\n",
      "DCG@   5: 0.538 | Hits@   5: 0.618\n",
      "DCG@  10: 0.554 | Hits@  10: 0.670\n",
      "DCG@ 100: 0.597 | Hits@ 100: 0.873\n",
      "DCG@ 500: 0.610 | Hits@ 500: 0.974\n",
      "DCG@1000: 0.613 | Hits@1000: 1.000\n",
      "\n",
      "min_count = 10, window = 2 with Skip-Gram\n"
     ]
    },
    {
     "data": {
      "application/vnd.jupyter.widget-view+json": {
       "model_id": "098ebfa9fc2f472a879afd2ffa73d3fe",
       "version_major": 2,
       "version_minor": 0
      },
      "text/plain": [
       "  0%|          | 0/6 [00:00<?, ?it/s]"
      ]
     },
     "metadata": {},
     "output_type": "display_data"
    },
    {
     "name": "stdout",
     "output_type": "stream",
     "text": [
      "DCG@   1: 0.479 | Hits@   1: 0.479\n",
      "DCG@   5: 0.570 | Hits@   5: 0.652\n",
      "DCG@  10: 0.586 | Hits@  10: 0.700\n",
      "DCG@ 100: 0.626 | Hits@ 100: 0.892\n",
      "DCG@ 500: 0.637 | Hits@ 500: 0.976\n",
      "DCG@1000: 0.639 | Hits@1000: 1.000\n",
      "\n",
      "min_count = 10, window = 3 with Skip-Gram\n"
     ]
    },
    {
     "data": {
      "application/vnd.jupyter.widget-view+json": {
       "model_id": "242653f7030942a19cf87f2dd711f6f1",
       "version_major": 2,
       "version_minor": 0
      },
      "text/plain": [
       "  0%|          | 0/6 [00:00<?, ?it/s]"
      ]
     },
     "metadata": {},
     "output_type": "display_data"
    },
    {
     "name": "stdout",
     "output_type": "stream",
     "text": [
      "DCG@   1: 0.489 | Hits@   1: 0.489\n",
      "DCG@   5: 0.580 | Hits@   5: 0.657\n",
      "DCG@  10: 0.600 | Hits@  10: 0.717\n",
      "DCG@ 100: 0.638 | Hits@ 100: 0.898\n",
      "DCG@ 500: 0.648 | Hits@ 500: 0.977\n",
      "DCG@1000: 0.650 | Hits@1000: 1.000\n",
      "\n",
      "min_count = 10, window = 4 with Skip-Gram\n"
     ]
    },
    {
     "data": {
      "application/vnd.jupyter.widget-view+json": {
       "model_id": "ede9fecba52444b4ae0e21904e7150c3",
       "version_major": 2,
       "version_minor": 0
      },
      "text/plain": [
       "  0%|          | 0/6 [00:00<?, ?it/s]"
      ]
     },
     "metadata": {},
     "output_type": "display_data"
    },
    {
     "name": "stdout",
     "output_type": "stream",
     "text": [
      "DCG@   1: 0.501 | Hits@   1: 0.501\n",
      "DCG@   5: 0.587 | Hits@   5: 0.658\n",
      "DCG@  10: 0.605 | Hits@  10: 0.715\n",
      "DCG@ 100: 0.645 | Hits@ 100: 0.903\n",
      "DCG@ 500: 0.656 | Hits@ 500: 0.982\n",
      "DCG@1000: 0.658 | Hits@1000: 1.000\n",
      "\n",
      "min_count = 10, window = 5 with Skip-Gram\n"
     ]
    },
    {
     "data": {
      "application/vnd.jupyter.widget-view+json": {
       "model_id": "651e2eb8d60147fd81a92775ff12e524",
       "version_major": 2,
       "version_minor": 0
      },
      "text/plain": [
       "  0%|          | 0/6 [00:00<?, ?it/s]"
      ]
     },
     "metadata": {},
     "output_type": "display_data"
    },
    {
     "name": "stdout",
     "output_type": "stream",
     "text": [
      "DCG@   1: 0.513 | Hits@   1: 0.513\n",
      "DCG@   5: 0.595 | Hits@   5: 0.665\n",
      "DCG@  10: 0.617 | Hits@  10: 0.731\n",
      "DCG@ 100: 0.654 | Hits@ 100: 0.909\n",
      "DCG@ 500: 0.664 | Hits@ 500: 0.983\n",
      "DCG@1000: 0.666 | Hits@1000: 1.000\n",
      "\n",
      "min_count = 10, window = 6 with Skip-Gram\n"
     ]
    },
    {
     "data": {
      "application/vnd.jupyter.widget-view+json": {
       "model_id": "ec8f7b4a1e9f4463808bd74abad90d38",
       "version_major": 2,
       "version_minor": 0
      },
      "text/plain": [
       "  0%|          | 0/6 [00:00<?, ?it/s]"
      ]
     },
     "metadata": {},
     "output_type": "display_data"
    },
    {
     "name": "stdout",
     "output_type": "stream",
     "text": [
      "DCG@   1: 0.513 | Hits@   1: 0.513\n",
      "DCG@   5: 0.599 | Hits@   5: 0.674\n",
      "DCG@  10: 0.619 | Hits@  10: 0.734\n",
      "DCG@ 100: 0.656 | Hits@ 100: 0.913\n",
      "DCG@ 500: 0.666 | Hits@ 500: 0.984\n",
      "DCG@1000: 0.667 | Hits@1000: 1.000\n",
      "\n",
      "min_count = 10, window = 7 with Skip-Gram\n"
     ]
    },
    {
     "data": {
      "application/vnd.jupyter.widget-view+json": {
       "model_id": "b2427e50a1c14848a9dbbd4c542a6ba6",
       "version_major": 2,
       "version_minor": 0
      },
      "text/plain": [
       "  0%|          | 0/6 [00:00<?, ?it/s]"
      ]
     },
     "metadata": {},
     "output_type": "display_data"
    },
    {
     "name": "stdout",
     "output_type": "stream",
     "text": [
      "DCG@   1: 0.523 | Hits@   1: 0.523\n",
      "DCG@   5: 0.606 | Hits@   5: 0.677\n",
      "DCG@  10: 0.625 | Hits@  10: 0.735\n",
      "DCG@ 100: 0.662 | Hits@ 100: 0.910\n",
      "DCG@ 500: 0.672 | Hits@ 500: 0.985\n",
      "DCG@1000: 0.674 | Hits@1000: 1.000\n",
      "\n",
      "min_count = 10, window = 8 with Skip-Gram\n"
     ]
    },
    {
     "data": {
      "application/vnd.jupyter.widget-view+json": {
       "model_id": "dd811560e8f249758ba0136ff7ed8e11",
       "version_major": 2,
       "version_minor": 0
      },
      "text/plain": [
       "  0%|          | 0/6 [00:00<?, ?it/s]"
      ]
     },
     "metadata": {},
     "output_type": "display_data"
    },
    {
     "name": "stdout",
     "output_type": "stream",
     "text": [
      "DCG@   1: 0.529 | Hits@   1: 0.529\n",
      "DCG@   5: 0.610 | Hits@   5: 0.679\n",
      "DCG@  10: 0.629 | Hits@  10: 0.740\n",
      "DCG@ 100: 0.666 | Hits@ 100: 0.915\n",
      "DCG@ 500: 0.675 | Hits@ 500: 0.986\n",
      "DCG@1000: 0.677 | Hits@1000: 1.000\n",
      "\n",
      "min_count = 10, window = 9 with Skip-Gram\n"
     ]
    },
    {
     "data": {
      "application/vnd.jupyter.widget-view+json": {
       "model_id": "b7a56fc52b614cc8bde90aaa973fd1b9",
       "version_major": 2,
       "version_minor": 0
      },
      "text/plain": [
       "  0%|          | 0/6 [00:00<?, ?it/s]"
      ]
     },
     "metadata": {},
     "output_type": "display_data"
    },
    {
     "name": "stdout",
     "output_type": "stream",
     "text": [
      "DCG@   1: 0.526 | Hits@   1: 0.526\n",
      "DCG@   5: 0.613 | Hits@   5: 0.687\n",
      "DCG@  10: 0.632 | Hits@  10: 0.746\n",
      "DCG@ 100: 0.667 | Hits@ 100: 0.914\n",
      "DCG@ 500: 0.676 | Hits@ 500: 0.985\n",
      "DCG@1000: 0.678 | Hits@1000: 1.000\n",
      "\n",
      "min_count = 10, window = 10 with Skip-Gram\n"
     ]
    },
    {
     "data": {
      "application/vnd.jupyter.widget-view+json": {
       "model_id": "1c57ecf03fce4eb289d76c7244427ff6",
       "version_major": 2,
       "version_minor": 0
      },
      "text/plain": [
       "  0%|          | 0/6 [00:00<?, ?it/s]"
      ]
     },
     "metadata": {},
     "output_type": "display_data"
    },
    {
     "name": "stdout",
     "output_type": "stream",
     "text": [
      "DCG@   1: 0.533 | Hits@   1: 0.533\n",
      "DCG@   5: 0.618 | Hits@   5: 0.690\n",
      "DCG@  10: 0.637 | Hits@  10: 0.750\n",
      "DCG@ 100: 0.672 | Hits@ 100: 0.920\n",
      "DCG@ 500: 0.681 | Hits@ 500: 0.986\n",
      "DCG@1000: 0.682 | Hits@1000: 1.000\n",
      "\n"
     ]
    }
   ],
   "source": [
    "dcg_history = []\n",
    "hits_history = []\n",
    "for min_count in range(1,11):\n",
    "    for window in range(1,11):\n",
    "        embeddings_trained = Word2Vec(words,                    # data for model to train on\n",
    "                                      vector_size=200,          # embedding vector size\n",
    "                                      min_count=min_count,      # Ignores all words with total frequency lower than this. Consider words that occured at least 5 times\n",
    "                                      window=window,            # Maximum distance between the current and predicted word within a sentence\n",
    "                                      workers=4,                # Use these many worker threads to train the model\n",
    "                                      sg=1).wv                  # sg=0 - CBOW, sg=1 - Skip-Gram\n",
    "        wv_ranking = []\n",
    "        max_validation_examples = 1000\n",
    "        tokenizer = MyTokenizer()\n",
    "        for i, line in enumerate(validation_data):\n",
    "            if i == max_validation_examples:\n",
    "                break\n",
    "            q, *ex = line\n",
    "            ranks = rank_candidates(q, ex, embeddings_trained, tokenizer)\n",
    "            wv_ranking.append([r[0] for r in ranks].index(0) + 1)\n",
    "        print(f'min_count = {min_count}, window = {window} with Skip-Gram')\n",
    "        for k in tqdm([1, 5, 10, 100, 500, 1000]):\n",
    "            print(\"DCG@%4d: %.3f | Hits@%4d: %.3f\" % (k, dcg_score(wv_ranking, k), k, hits_count(wv_ranking, k)))\n",
    "            dcg_history.append(dcg_score(wv_ranking, k))\n",
    "            hits_history.append(hits_count(wv_ranking, k))\n",
    "        print()"
   ]
  },
  {
   "cell_type": "code",
   "execution_count": 64,
   "metadata": {},
   "outputs": [
    {
     "data": {
      "text/html": [
       "<div>\n",
       "<style scoped>\n",
       "    .dataframe tbody tr th:only-of-type {\n",
       "        vertical-align: middle;\n",
       "    }\n",
       "\n",
       "    .dataframe tbody tr th {\n",
       "        vertical-align: top;\n",
       "    }\n",
       "\n",
       "    .dataframe thead th {\n",
       "        text-align: right;\n",
       "    }\n",
       "</style>\n",
       "<table border=\"1\" class=\"dataframe\">\n",
       "  <thead>\n",
       "    <tr style=\"text-align: right;\">\n",
       "      <th></th>\n",
       "      <th>DCG@1</th>\n",
       "      <th>DCG@5</th>\n",
       "      <th>DCG@10</th>\n",
       "      <th>DCG@100</th>\n",
       "      <th>DCG@500</th>\n",
       "      <th>DCG@1000</th>\n",
       "      <th>Hits@1</th>\n",
       "      <th>Hits@5</th>\n",
       "      <th>Hits@10</th>\n",
       "      <th>Hits@100</th>\n",
       "      <th>Hits@500</th>\n",
       "      <th>Hits@1000</th>\n",
       "      <th>SUM</th>\n",
       "    </tr>\n",
       "  </thead>\n",
       "  <tbody>\n",
       "    <tr>\n",
       "      <th>Min_1/Win_1</th>\n",
       "      <td>0.412</td>\n",
       "      <td>0.503</td>\n",
       "      <td>0.522</td>\n",
       "      <td>0.563</td>\n",
       "      <td>0.578</td>\n",
       "      <td>0.582</td>\n",
       "      <td>0.412</td>\n",
       "      <td>0.584</td>\n",
       "      <td>0.642</td>\n",
       "      <td>0.842</td>\n",
       "      <td>0.956</td>\n",
       "      <td>1.0</td>\n",
       "      <td>7.596</td>\n",
       "    </tr>\n",
       "    <tr>\n",
       "      <th>Min_1/Win_2</th>\n",
       "      <td>0.446</td>\n",
       "      <td>0.530</td>\n",
       "      <td>0.553</td>\n",
       "      <td>0.592</td>\n",
       "      <td>0.606</td>\n",
       "      <td>0.609</td>\n",
       "      <td>0.446</td>\n",
       "      <td>0.604</td>\n",
       "      <td>0.673</td>\n",
       "      <td>0.861</td>\n",
       "      <td>0.967</td>\n",
       "      <td>1.0</td>\n",
       "      <td>7.887</td>\n",
       "    </tr>\n",
       "    <tr>\n",
       "      <th>Min_1/Win_3</th>\n",
       "      <td>0.463</td>\n",
       "      <td>0.549</td>\n",
       "      <td>0.568</td>\n",
       "      <td>0.608</td>\n",
       "      <td>0.621</td>\n",
       "      <td>0.624</td>\n",
       "      <td>0.463</td>\n",
       "      <td>0.623</td>\n",
       "      <td>0.680</td>\n",
       "      <td>0.870</td>\n",
       "      <td>0.970</td>\n",
       "      <td>1.0</td>\n",
       "      <td>8.039</td>\n",
       "    </tr>\n",
       "    <tr>\n",
       "      <th>Min_1/Win_4</th>\n",
       "      <td>0.482</td>\n",
       "      <td>0.559</td>\n",
       "      <td>0.582</td>\n",
       "      <td>0.621</td>\n",
       "      <td>0.632</td>\n",
       "      <td>0.635</td>\n",
       "      <td>0.482</td>\n",
       "      <td>0.628</td>\n",
       "      <td>0.700</td>\n",
       "      <td>0.887</td>\n",
       "      <td>0.973</td>\n",
       "      <td>1.0</td>\n",
       "      <td>8.181</td>\n",
       "    </tr>\n",
       "    <tr>\n",
       "      <th>Min_1/Win_5</th>\n",
       "      <td>0.494</td>\n",
       "      <td>0.575</td>\n",
       "      <td>0.593</td>\n",
       "      <td>0.633</td>\n",
       "      <td>0.644</td>\n",
       "      <td>0.646</td>\n",
       "      <td>0.494</td>\n",
       "      <td>0.645</td>\n",
       "      <td>0.701</td>\n",
       "      <td>0.893</td>\n",
       "      <td>0.976</td>\n",
       "      <td>1.0</td>\n",
       "      <td>8.294</td>\n",
       "    </tr>\n",
       "    <tr>\n",
       "      <th>...</th>\n",
       "      <td>...</td>\n",
       "      <td>...</td>\n",
       "      <td>...</td>\n",
       "      <td>...</td>\n",
       "      <td>...</td>\n",
       "      <td>...</td>\n",
       "      <td>...</td>\n",
       "      <td>...</td>\n",
       "      <td>...</td>\n",
       "      <td>...</td>\n",
       "      <td>...</td>\n",
       "      <td>...</td>\n",
       "      <td>...</td>\n",
       "    </tr>\n",
       "    <tr>\n",
       "      <th>Min_10/Win_6</th>\n",
       "      <td>0.513</td>\n",
       "      <td>0.599</td>\n",
       "      <td>0.619</td>\n",
       "      <td>0.656</td>\n",
       "      <td>0.666</td>\n",
       "      <td>0.667</td>\n",
       "      <td>0.513</td>\n",
       "      <td>0.674</td>\n",
       "      <td>0.734</td>\n",
       "      <td>0.913</td>\n",
       "      <td>0.984</td>\n",
       "      <td>1.0</td>\n",
       "      <td>8.538</td>\n",
       "    </tr>\n",
       "    <tr>\n",
       "      <th>Min_10/Win_7</th>\n",
       "      <td>0.523</td>\n",
       "      <td>0.606</td>\n",
       "      <td>0.625</td>\n",
       "      <td>0.662</td>\n",
       "      <td>0.672</td>\n",
       "      <td>0.674</td>\n",
       "      <td>0.523</td>\n",
       "      <td>0.677</td>\n",
       "      <td>0.735</td>\n",
       "      <td>0.910</td>\n",
       "      <td>0.985</td>\n",
       "      <td>1.0</td>\n",
       "      <td>8.592</td>\n",
       "    </tr>\n",
       "    <tr>\n",
       "      <th>Min_10/Win_8</th>\n",
       "      <td>0.529</td>\n",
       "      <td>0.610</td>\n",
       "      <td>0.629</td>\n",
       "      <td>0.666</td>\n",
       "      <td>0.675</td>\n",
       "      <td>0.677</td>\n",
       "      <td>0.529</td>\n",
       "      <td>0.679</td>\n",
       "      <td>0.740</td>\n",
       "      <td>0.915</td>\n",
       "      <td>0.986</td>\n",
       "      <td>1.0</td>\n",
       "      <td>8.635</td>\n",
       "    </tr>\n",
       "    <tr>\n",
       "      <th>Min_10/Win_9</th>\n",
       "      <td>0.526</td>\n",
       "      <td>0.613</td>\n",
       "      <td>0.632</td>\n",
       "      <td>0.667</td>\n",
       "      <td>0.676</td>\n",
       "      <td>0.678</td>\n",
       "      <td>0.526</td>\n",
       "      <td>0.687</td>\n",
       "      <td>0.746</td>\n",
       "      <td>0.914</td>\n",
       "      <td>0.985</td>\n",
       "      <td>1.0</td>\n",
       "      <td>8.650</td>\n",
       "    </tr>\n",
       "    <tr>\n",
       "      <th>Min_10/Win_10</th>\n",
       "      <td>0.533</td>\n",
       "      <td>0.618</td>\n",
       "      <td>0.637</td>\n",
       "      <td>0.672</td>\n",
       "      <td>0.681</td>\n",
       "      <td>0.682</td>\n",
       "      <td>0.533</td>\n",
       "      <td>0.690</td>\n",
       "      <td>0.750</td>\n",
       "      <td>0.920</td>\n",
       "      <td>0.986</td>\n",
       "      <td>1.0</td>\n",
       "      <td>8.702</td>\n",
       "    </tr>\n",
       "  </tbody>\n",
       "</table>\n",
       "<p>100 rows × 13 columns</p>\n",
       "</div>"
      ],
      "text/plain": [
       "               DCG@1  DCG@5  DCG@10  DCG@100  DCG@500  DCG@1000  Hits@1  \\\n",
       "Min_1/Win_1    0.412  0.503   0.522    0.563    0.578     0.582   0.412   \n",
       "Min_1/Win_2    0.446  0.530   0.553    0.592    0.606     0.609   0.446   \n",
       "Min_1/Win_3    0.463  0.549   0.568    0.608    0.621     0.624   0.463   \n",
       "Min_1/Win_4    0.482  0.559   0.582    0.621    0.632     0.635   0.482   \n",
       "Min_1/Win_5    0.494  0.575   0.593    0.633    0.644     0.646   0.494   \n",
       "...              ...    ...     ...      ...      ...       ...     ...   \n",
       "Min_10/Win_6   0.513  0.599   0.619    0.656    0.666     0.667   0.513   \n",
       "Min_10/Win_7   0.523  0.606   0.625    0.662    0.672     0.674   0.523   \n",
       "Min_10/Win_8   0.529  0.610   0.629    0.666    0.675     0.677   0.529   \n",
       "Min_10/Win_9   0.526  0.613   0.632    0.667    0.676     0.678   0.526   \n",
       "Min_10/Win_10  0.533  0.618   0.637    0.672    0.681     0.682   0.533   \n",
       "\n",
       "               Hits@5  Hits@10  Hits@100  Hits@500  Hits@1000    SUM  \n",
       "Min_1/Win_1     0.584    0.642     0.842     0.956        1.0  7.596  \n",
       "Min_1/Win_2     0.604    0.673     0.861     0.967        1.0  7.887  \n",
       "Min_1/Win_3     0.623    0.680     0.870     0.970        1.0  8.039  \n",
       "Min_1/Win_4     0.628    0.700     0.887     0.973        1.0  8.181  \n",
       "Min_1/Win_5     0.645    0.701     0.893     0.976        1.0  8.294  \n",
       "...               ...      ...       ...       ...        ...    ...  \n",
       "Min_10/Win_6    0.674    0.734     0.913     0.984        1.0  8.538  \n",
       "Min_10/Win_7    0.677    0.735     0.910     0.985        1.0  8.592  \n",
       "Min_10/Win_8    0.679    0.740     0.915     0.986        1.0  8.635  \n",
       "Min_10/Win_9    0.687    0.746     0.914     0.985        1.0  8.650  \n",
       "Min_10/Win_10   0.690    0.750     0.920     0.986        1.0  8.702  \n",
       "\n",
       "[100 rows x 13 columns]"
      ]
     },
     "execution_count": 64,
     "metadata": {},
     "output_type": "execute_result"
    }
   ],
   "source": [
    "columns = ['DCG@1','DCG@5','DCG@10','DCG@100','DCG@500','DCG@1000',\n",
    "           'Hits@1','Hits@5','Hits@10','Hits@100','Hits@500','Hits@1000']\n",
    "row_list = []\n",
    "for i in range(1,11):\n",
    "    for j in range(1,11):\n",
    "        row_list.append('Min_'+str(i)+'/Win_'+str(j))\n",
    "\n",
    "df = pd.DataFrame()\n",
    "m = n = 0\n",
    "for row in row_list:\n",
    "    for dcg in columns[:6]:\n",
    "        df.loc[row,dcg] = dcg_history[m]\n",
    "        m+=1\n",
    "    for hits in columns[6:]:\n",
    "        df.loc[row,hits] = hits_history[n]\n",
    "        n+=1\n",
    "\n",
    "df['SUM'] = df.sum(axis=1)\n",
    "df"
   ]
  },
  {
   "cell_type": "code",
   "execution_count": 65,
   "metadata": {},
   "outputs": [
    {
     "data": {
      "text/html": [
       "<div>\n",
       "<style scoped>\n",
       "    .dataframe tbody tr th:only-of-type {\n",
       "        vertical-align: middle;\n",
       "    }\n",
       "\n",
       "    .dataframe tbody tr th {\n",
       "        vertical-align: top;\n",
       "    }\n",
       "\n",
       "    .dataframe thead th {\n",
       "        text-align: right;\n",
       "    }\n",
       "</style>\n",
       "<table border=\"1\" class=\"dataframe\">\n",
       "  <thead>\n",
       "    <tr style=\"text-align: right;\">\n",
       "      <th></th>\n",
       "      <th>DCG@1</th>\n",
       "      <th>DCG@5</th>\n",
       "      <th>DCG@10</th>\n",
       "      <th>DCG@100</th>\n",
       "      <th>DCG@500</th>\n",
       "      <th>DCG@1000</th>\n",
       "      <th>Hits@1</th>\n",
       "      <th>Hits@5</th>\n",
       "      <th>Hits@10</th>\n",
       "      <th>Hits@100</th>\n",
       "      <th>Hits@500</th>\n",
       "      <th>Hits@1000</th>\n",
       "      <th>SUM</th>\n",
       "    </tr>\n",
       "  </thead>\n",
       "  <tbody>\n",
       "    <tr>\n",
       "      <th>Min_9/Win_10</th>\n",
       "      <td>0.534</td>\n",
       "      <td>0.616</td>\n",
       "      <td>0.634</td>\n",
       "      <td>0.67</td>\n",
       "      <td>0.68</td>\n",
       "      <td>0.682</td>\n",
       "      <td>0.534</td>\n",
       "      <td>0.685</td>\n",
       "      <td>0.743</td>\n",
       "      <td>0.912</td>\n",
       "      <td>0.986</td>\n",
       "      <td>1.0</td>\n",
       "      <td>8.676</td>\n",
       "    </tr>\n",
       "  </tbody>\n",
       "</table>\n",
       "</div>"
      ],
      "text/plain": [
       "              DCG@1  DCG@5  DCG@10  DCG@100  DCG@500  DCG@1000  Hits@1  \\\n",
       "Min_9/Win_10  0.534  0.616   0.634     0.67     0.68     0.682   0.534   \n",
       "\n",
       "              Hits@5  Hits@10  Hits@100  Hits@500  Hits@1000    SUM  \n",
       "Min_9/Win_10   0.685    0.743     0.912     0.986        1.0  8.676  "
      ]
     },
     "execution_count": 65,
     "metadata": {},
     "output_type": "execute_result"
    }
   ],
   "source": [
    "# Строка с максимальным значением Hits@1\n",
    "df[df['Hits@1']==df['Hits@1'].max()]"
   ]
  },
  {
   "cell_type": "code",
   "execution_count": 67,
   "metadata": {},
   "outputs": [
    {
     "data": {
      "text/html": [
       "<div>\n",
       "<style scoped>\n",
       "    .dataframe tbody tr th:only-of-type {\n",
       "        vertical-align: middle;\n",
       "    }\n",
       "\n",
       "    .dataframe tbody tr th {\n",
       "        vertical-align: top;\n",
       "    }\n",
       "\n",
       "    .dataframe thead th {\n",
       "        text-align: right;\n",
       "    }\n",
       "</style>\n",
       "<table border=\"1\" class=\"dataframe\">\n",
       "  <thead>\n",
       "    <tr style=\"text-align: right;\">\n",
       "      <th></th>\n",
       "      <th>DCG@1</th>\n",
       "      <th>DCG@5</th>\n",
       "      <th>DCG@10</th>\n",
       "      <th>DCG@100</th>\n",
       "      <th>DCG@500</th>\n",
       "      <th>DCG@1000</th>\n",
       "      <th>Hits@1</th>\n",
       "      <th>Hits@5</th>\n",
       "      <th>Hits@10</th>\n",
       "      <th>Hits@100</th>\n",
       "      <th>Hits@500</th>\n",
       "      <th>Hits@1000</th>\n",
       "      <th>SUM</th>\n",
       "    </tr>\n",
       "  </thead>\n",
       "  <tbody>\n",
       "    <tr>\n",
       "      <th>Min_10/Win_10</th>\n",
       "      <td>0.533</td>\n",
       "      <td>0.618</td>\n",
       "      <td>0.637</td>\n",
       "      <td>0.672</td>\n",
       "      <td>0.681</td>\n",
       "      <td>0.682</td>\n",
       "      <td>0.533</td>\n",
       "      <td>0.69</td>\n",
       "      <td>0.75</td>\n",
       "      <td>0.92</td>\n",
       "      <td>0.986</td>\n",
       "      <td>1.0</td>\n",
       "      <td>8.702</td>\n",
       "    </tr>\n",
       "  </tbody>\n",
       "</table>\n",
       "</div>"
      ],
      "text/plain": [
       "               DCG@1  DCG@5  DCG@10  DCG@100  DCG@500  DCG@1000  Hits@1  \\\n",
       "Min_10/Win_10  0.533  0.618   0.637    0.672    0.681     0.682   0.533   \n",
       "\n",
       "               Hits@5  Hits@10  Hits@100  Hits@500  Hits@1000    SUM  \n",
       "Min_10/Win_10    0.69     0.75      0.92     0.986        1.0  8.702  "
      ]
     },
     "execution_count": 67,
     "metadata": {},
     "output_type": "execute_result"
    }
   ],
   "source": [
    "# Строка с максимальным значением суммы всех метрик (DCG@1 + DCG@5 + .... + Hits@500 + Hits@1000)\n",
    "df[df['SUM']==df['SUM'].max()]"
   ]
  },
  {
   "cell_type": "code",
   "execution_count": 270,
   "metadata": {},
   "outputs": [
    {
     "data": {
      "image/png": "[encoded data removed]",
      "text/plain": [
       "<Figure size 1080x360 with 1 Axes>"
      ]
     },
     "metadata": {
      "needs_background": "light"
     },
     "output_type": "display_data"
    }
   ],
   "source": [
    "fig, ax = plt.subplots(figsize=(15, 5))\n",
    "fig.suptitle('DCG@1 / Hits@1 with Skip-Gram', fontsize=20, fontfamily = 'Verdana', fontstyle = 'normal', color = 'midnightblue')\n",
    "ax.plot(df.index, df[['DCG@1','Hits@1']])\n",
    "\n",
    "plt.xticks(np.arange(0, 100, 4),rotation=45)\n",
    "\n",
    "plt.legend(df[['DCG@1','Hits@1']],loc = 'upper left', shadow = False,\n",
    "          facecolor = 'yellow', edgecolor = 'r', framealpha = .1, fontsize=16)\n",
    "plt.tick_params(axis = 'both', which = 'major', direction = 'inout', color = 'm',\n",
    "               labelcolor = 'b', bottom = True, left = True, labelbottom = True, labelleft = True)\n",
    "plt.tick_params(axis = 'both', which = 'minor', direction = 'out', color = 'm',\n",
    "               labelcolor = 'r', bottom = True, left = True)\n",
    "plt.grid(which='major', color = 'm', linestyle = '--')\n",
    "\n",
    "plt.minorticks_on()\n",
    "plt.grid(which='minor', color = 'm', linestyle = ':')\n",
    "\n",
    "ax.set_xlabel('', fontsize = 20, color = 'midnightblue', fontstyle = 'oblique')\n",
    "ax.set_ylabel('', fontsize = 20, color = 'midnightblue', fontstyle = 'oblique')\n",
    "plt.setp(ax, xlabel = 'MIN_COUNT / WINDOW', ylabel = 'VALUES')\n",
    "plt.show()"
   ]
  },
  {
   "cell_type": "markdown",
   "metadata": {},
   "source": [
    "### with CBOW"
   ]
  },
  {
   "cell_type": "code",
   "execution_count": 272,
   "metadata": {
    "scrolled": true
   },
   "outputs": [
    {
     "name": "stdout",
     "output_type": "stream",
     "text": [
      "min_count = 1, window = 1 with CBOW\n",
      "DCG@   1: 0.358 | Hits@   1: 0.358\n",
      "DCG@   5: 0.447 | Hits@   5: 0.525\n",
      "DCG@  10: 0.476 | Hits@  10: 0.614\n",
      "DCG@ 100: 0.518 | Hits@ 100: 0.824\n",
      "DCG@ 500: 0.534 | Hits@ 500: 0.949\n",
      "DCG@1000: 0.540 | Hits@1000: 1.000\n",
      "\n",
      "min_count = 1, window = 2 with CBOW\n",
      "DCG@   1: 0.367 | Hits@   1: 0.367\n",
      "DCG@   5: 0.464 | Hits@   5: 0.550\n",
      "DCG@  10: 0.485 | Hits@  10: 0.617\n",
      "DCG@ 100: 0.532 | Hits@ 100: 0.850\n",
      "DCG@ 500: 0.547 | Hits@ 500: 0.968\n",
      "DCG@1000: 0.551 | Hits@1000: 1.000\n",
      "\n",
      "min_count = 1, window = 3 with CBOW\n",
      "DCG@   1: 0.377 | Hits@   1: 0.377\n",
      "DCG@   5: 0.470 | Hits@   5: 0.554\n",
      "DCG@  10: 0.494 | Hits@  10: 0.630\n",
      "DCG@ 100: 0.541 | Hits@ 100: 0.859\n",
      "DCG@ 500: 0.556 | Hits@ 500: 0.974\n",
      "DCG@1000: 0.559 | Hits@1000: 1.000\n",
      "\n",
      "min_count = 1, window = 4 with CBOW\n",
      "DCG@   1: 0.385 | Hits@   1: 0.385\n",
      "DCG@   5: 0.475 | Hits@   5: 0.554\n",
      "DCG@  10: 0.500 | Hits@  10: 0.634\n",
      "DCG@ 100: 0.548 | Hits@ 100: 0.866\n",
      "DCG@ 500: 0.563 | Hits@ 500: 0.976\n",
      "DCG@1000: 0.565 | Hits@1000: 1.000\n",
      "\n",
      "min_count = 1, window = 5 with CBOW\n",
      "DCG@   1: 0.393 | Hits@   1: 0.393\n",
      "DCG@   5: 0.479 | Hits@   5: 0.555\n",
      "DCG@  10: 0.509 | Hits@  10: 0.648\n",
      "DCG@ 100: 0.554 | Hits@ 100: 0.866\n",
      "DCG@ 500: 0.568 | Hits@ 500: 0.977\n",
      "DCG@1000: 0.571 | Hits@1000: 1.000\n",
      "\n",
      "min_count = 1, window = 6 with CBOW\n",
      "DCG@   1: 0.395 | Hits@   1: 0.395\n",
      "DCG@   5: 0.485 | Hits@   5: 0.565\n",
      "DCG@  10: 0.511 | Hits@  10: 0.646\n",
      "DCG@ 100: 0.559 | Hits@ 100: 0.879\n",
      "DCG@ 500: 0.572 | Hits@ 500: 0.977\n",
      "DCG@1000: 0.575 | Hits@1000: 1.000\n",
      "\n",
      "min_count = 1, window = 7 with CBOW\n",
      "DCG@   1: 0.396 | Hits@   1: 0.396\n",
      "DCG@   5: 0.493 | Hits@   5: 0.578\n",
      "DCG@  10: 0.517 | Hits@  10: 0.652\n",
      "DCG@ 100: 0.564 | Hits@ 100: 0.880\n",
      "DCG@ 500: 0.576 | Hits@ 500: 0.976\n",
      "DCG@1000: 0.579 | Hits@1000: 1.000\n",
      "\n",
      "min_count = 1, window = 8 with CBOW\n",
      "DCG@   1: 0.397 | Hits@   1: 0.397\n",
      "DCG@   5: 0.493 | Hits@   5: 0.578\n",
      "DCG@  10: 0.517 | Hits@  10: 0.651\n",
      "DCG@ 100: 0.564 | Hits@ 100: 0.880\n",
      "DCG@ 500: 0.577 | Hits@ 500: 0.977\n",
      "DCG@1000: 0.579 | Hits@1000: 1.000\n",
      "\n",
      "min_count = 1, window = 9 with CBOW\n",
      "DCG@   1: 0.405 | Hits@   1: 0.405\n",
      "DCG@   5: 0.493 | Hits@   5: 0.572\n",
      "DCG@  10: 0.520 | Hits@  10: 0.654\n",
      "DCG@ 100: 0.567 | Hits@ 100: 0.879\n",
      "DCG@ 500: 0.580 | Hits@ 500: 0.981\n",
      "DCG@1000: 0.582 | Hits@1000: 1.000\n",
      "\n",
      "min_count = 1, window = 10 with CBOW\n",
      "DCG@   1: 0.410 | Hits@   1: 0.410\n",
      "DCG@   5: 0.500 | Hits@   5: 0.578\n",
      "DCG@  10: 0.523 | Hits@  10: 0.648\n",
      "DCG@ 100: 0.573 | Hits@ 100: 0.886\n",
      "DCG@ 500: 0.584 | Hits@ 500: 0.978\n",
      "DCG@1000: 0.587 | Hits@1000: 1.000\n",
      "\n",
      "min_count = 2, window = 1 with CBOW\n",
      "DCG@   1: 0.381 | Hits@   1: 0.381\n",
      "DCG@   5: 0.463 | Hits@   5: 0.539\n",
      "DCG@  10: 0.491 | Hits@  10: 0.626\n",
      "DCG@ 100: 0.534 | Hits@ 100: 0.836\n",
      "DCG@ 500: 0.550 | Hits@ 500: 0.963\n",
      "DCG@1000: 0.554 | Hits@1000: 1.000\n",
      "\n",
      "min_count = 2, window = 2 with CBOW\n",
      "DCG@   1: 0.379 | Hits@   1: 0.379\n",
      "DCG@   5: 0.472 | Hits@   5: 0.554\n",
      "DCG@  10: 0.498 | Hits@  10: 0.635\n",
      "DCG@ 100: 0.544 | Hits@ 100: 0.861\n",
      "DCG@ 500: 0.558 | Hits@ 500: 0.973\n",
      "DCG@1000: 0.561 | Hits@1000: 1.000\n",
      "\n",
      "min_count = 2, window = 3 with CBOW\n",
      "DCG@   1: 0.382 | Hits@   1: 0.382\n",
      "DCG@   5: 0.477 | Hits@   5: 0.560\n",
      "DCG@  10: 0.502 | Hits@  10: 0.637\n",
      "DCG@ 100: 0.549 | Hits@ 100: 0.869\n",
      "DCG@ 500: 0.563 | Hits@ 500: 0.975\n",
      "DCG@1000: 0.566 | Hits@1000: 1.000\n",
      "\n",
      "min_count = 2, window = 4 with CBOW\n",
      "DCG@   1: 0.394 | Hits@   1: 0.394\n",
      "DCG@   5: 0.484 | Hits@   5: 0.566\n",
      "DCG@  10: 0.510 | Hits@  10: 0.647\n",
      "DCG@ 100: 0.556 | Hits@ 100: 0.870\n",
      "DCG@ 500: 0.570 | Hits@ 500: 0.972\n",
      "DCG@1000: 0.573 | Hits@1000: 1.000\n",
      "\n",
      "min_count = 2, window = 5 with CBOW\n",
      "DCG@   1: 0.400 | Hits@   1: 0.400\n",
      "DCG@   5: 0.491 | Hits@   5: 0.570\n",
      "DCG@  10: 0.516 | Hits@  10: 0.649\n",
      "DCG@ 100: 0.563 | Hits@ 100: 0.880\n",
      "DCG@ 500: 0.576 | Hits@ 500: 0.976\n",
      "DCG@1000: 0.579 | Hits@1000: 1.000\n",
      "\n",
      "min_count = 2, window = 6 with CBOW\n",
      "DCG@   1: 0.401 | Hits@   1: 0.401\n",
      "DCG@   5: 0.494 | Hits@   5: 0.575\n",
      "DCG@  10: 0.520 | Hits@  10: 0.656\n",
      "DCG@ 100: 0.565 | Hits@ 100: 0.879\n",
      "DCG@ 500: 0.578 | Hits@ 500: 0.976\n",
      "DCG@1000: 0.581 | Hits@1000: 1.000\n",
      "\n",
      "min_count = 2, window = 7 with CBOW\n",
      "DCG@   1: 0.398 | Hits@   1: 0.398\n",
      "DCG@   5: 0.496 | Hits@   5: 0.578\n",
      "DCG@  10: 0.522 | Hits@  10: 0.658\n",
      "DCG@ 100: 0.568 | Hits@ 100: 0.882\n",
      "DCG@ 500: 0.580 | Hits@ 500: 0.979\n",
      "DCG@1000: 0.583 | Hits@1000: 1.000\n",
      "\n",
      "min_count = 2, window = 8 with CBOW\n",
      "DCG@   1: 0.403 | Hits@   1: 0.403\n",
      "DCG@   5: 0.498 | Hits@   5: 0.580\n",
      "DCG@  10: 0.523 | Hits@  10: 0.658\n",
      "DCG@ 100: 0.570 | Hits@ 100: 0.885\n",
      "DCG@ 500: 0.582 | Hits@ 500: 0.977\n",
      "DCG@1000: 0.585 | Hits@1000: 1.000\n",
      "\n",
      "min_count = 2, window = 9 with CBOW\n",
      "DCG@   1: 0.412 | Hits@   1: 0.412\n",
      "DCG@   5: 0.504 | Hits@   5: 0.587\n",
      "DCG@  10: 0.529 | Hits@  10: 0.664\n",
      "DCG@ 100: 0.574 | Hits@ 100: 0.884\n",
      "DCG@ 500: 0.586 | Hits@ 500: 0.977\n",
      "DCG@1000: 0.588 | Hits@1000: 1.000\n",
      "\n",
      "min_count = 2, window = 10 with CBOW\n",
      "DCG@   1: 0.406 | Hits@   1: 0.406\n",
      "DCG@   5: 0.502 | Hits@   5: 0.584\n",
      "DCG@  10: 0.528 | Hits@  10: 0.661\n",
      "DCG@ 100: 0.574 | Hits@ 100: 0.882\n",
      "DCG@ 500: 0.586 | Hits@ 500: 0.979\n",
      "DCG@1000: 0.589 | Hits@1000: 1.000\n",
      "\n",
      "min_count = 3, window = 1 with CBOW\n",
      "DCG@   1: 0.382 | Hits@   1: 0.382\n",
      "DCG@   5: 0.467 | Hits@   5: 0.546\n",
      "DCG@  10: 0.495 | Hits@  10: 0.631\n",
      "DCG@ 100: 0.538 | Hits@ 100: 0.843\n",
      "DCG@ 500: 0.553 | Hits@ 500: 0.959\n",
      "DCG@1000: 0.558 | Hits@1000: 1.000\n",
      "\n",
      "min_count = 3, window = 2 with CBOW\n",
      "DCG@   1: 0.380 | Hits@   1: 0.380\n",
      "DCG@   5: 0.472 | Hits@   5: 0.555\n",
      "DCG@  10: 0.498 | Hits@  10: 0.636\n",
      "DCG@ 100: 0.545 | Hits@ 100: 0.864\n",
      "DCG@ 500: 0.558 | Hits@ 500: 0.969\n",
      "DCG@1000: 0.562 | Hits@1000: 1.000\n",
      "\n",
      "min_count = 3, window = 3 with CBOW\n",
      "DCG@   1: 0.387 | Hits@   1: 0.387\n",
      "DCG@   5: 0.481 | Hits@   5: 0.562\n",
      "DCG@  10: 0.507 | Hits@  10: 0.643\n",
      "DCG@ 100: 0.553 | Hits@ 100: 0.872\n",
      "DCG@ 500: 0.567 | Hits@ 500: 0.975\n",
      "DCG@1000: 0.569 | Hits@1000: 1.000\n",
      "\n",
      "min_count = 3, window = 4 with CBOW\n",
      "DCG@   1: 0.389 | Hits@   1: 0.389\n",
      "DCG@   5: 0.483 | Hits@   5: 0.567\n",
      "DCG@  10: 0.510 | Hits@  10: 0.651\n",
      "DCG@ 100: 0.556 | Hits@ 100: 0.872\n",
      "DCG@ 500: 0.569 | Hits@ 500: 0.976\n",
      "DCG@1000: 0.572 | Hits@1000: 1.000\n",
      "\n",
      "min_count = 3, window = 5 with CBOW\n",
      "DCG@   1: 0.399 | Hits@   1: 0.399\n",
      "DCG@   5: 0.495 | Hits@   5: 0.580\n",
      "DCG@  10: 0.518 | Hits@  10: 0.653\n",
      "DCG@ 100: 0.564 | Hits@ 100: 0.875\n",
      "DCG@ 500: 0.577 | Hits@ 500: 0.978\n",
      "DCG@1000: 0.580 | Hits@1000: 1.000\n",
      "\n",
      "min_count = 3, window = 6 with CBOW\n",
      "DCG@   1: 0.405 | Hits@   1: 0.405\n",
      "DCG@   5: 0.496 | Hits@   5: 0.575\n",
      "DCG@  10: 0.520 | Hits@  10: 0.650\n",
      "DCG@ 100: 0.568 | Hits@ 100: 0.881\n",
      "DCG@ 500: 0.580 | Hits@ 500: 0.976\n",
      "DCG@1000: 0.583 | Hits@1000: 1.000\n",
      "\n",
      "min_count = 3, window = 7 with CBOW\n",
      "DCG@   1: 0.408 | Hits@   1: 0.408\n",
      "DCG@   5: 0.501 | Hits@   5: 0.583\n",
      "DCG@  10: 0.524 | Hits@  10: 0.655\n",
      "DCG@ 100: 0.572 | Hits@ 100: 0.883\n",
      "DCG@ 500: 0.584 | Hits@ 500: 0.978\n",
      "DCG@1000: 0.586 | Hits@1000: 1.000\n",
      "\n",
      "min_count = 3, window = 8 with CBOW\n",
      "DCG@   1: 0.406 | Hits@   1: 0.406\n",
      "DCG@   5: 0.500 | Hits@   5: 0.582\n",
      "DCG@  10: 0.528 | Hits@  10: 0.668\n",
      "DCG@ 100: 0.571 | Hits@ 100: 0.882\n",
      "DCG@ 500: 0.584 | Hits@ 500: 0.977\n",
      "DCG@1000: 0.586 | Hits@1000: 1.000\n",
      "\n",
      "min_count = 3, window = 9 with CBOW\n",
      "DCG@   1: 0.408 | Hits@   1: 0.408\n",
      "DCG@   5: 0.501 | Hits@   5: 0.581\n",
      "DCG@  10: 0.528 | Hits@  10: 0.661\n",
      "DCG@ 100: 0.573 | Hits@ 100: 0.881\n",
      "DCG@ 500: 0.586 | Hits@ 500: 0.980\n",
      "DCG@1000: 0.588 | Hits@1000: 1.000\n",
      "\n",
      "min_count = 3, window = 10 with CBOW\n",
      "DCG@   1: 0.409 | Hits@   1: 0.409\n",
      "DCG@   5: 0.505 | Hits@   5: 0.588\n",
      "DCG@  10: 0.529 | Hits@  10: 0.659\n",
      "DCG@ 100: 0.576 | Hits@ 100: 0.885\n",
      "DCG@ 500: 0.588 | Hits@ 500: 0.980\n",
      "DCG@1000: 0.590 | Hits@1000: 1.000\n",
      "\n",
      "min_count = 4, window = 1 with CBOW\n",
      "DCG@   1: 0.384 | Hits@   1: 0.384\n",
      "DCG@   5: 0.471 | Hits@   5: 0.550\n",
      "DCG@  10: 0.499 | Hits@  10: 0.634\n",
      "DCG@ 100: 0.542 | Hits@ 100: 0.847\n",
      "DCG@ 500: 0.557 | Hits@ 500: 0.964\n",
      "DCG@1000: 0.561 | Hits@1000: 1.000\n",
      "\n",
      "min_count = 4, window = 2 with CBOW\n",
      "DCG@   1: 0.385 | Hits@   1: 0.385\n",
      "DCG@   5: 0.479 | Hits@   5: 0.563\n",
      "DCG@  10: 0.502 | Hits@  10: 0.635\n",
      "DCG@ 100: 0.549 | Hits@ 100: 0.869\n",
      "DCG@ 500: 0.563 | Hits@ 500: 0.970\n",
      "DCG@1000: 0.566 | Hits@1000: 1.000\n",
      "\n",
      "min_count = 4, window = 3 with CBOW\n",
      "DCG@   1: 0.389 | Hits@   1: 0.389\n",
      "DCG@   5: 0.480 | Hits@   5: 0.561\n",
      "DCG@  10: 0.506 | Hits@  10: 0.641\n",
      "DCG@ 100: 0.553 | Hits@ 100: 0.868\n",
      "DCG@ 500: 0.567 | Hits@ 500: 0.980\n",
      "DCG@1000: 0.570 | Hits@1000: 1.000\n",
      "\n",
      "min_count = 4, window = 4 with CBOW\n",
      "DCG@   1: 0.394 | Hits@   1: 0.394\n",
      "DCG@   5: 0.487 | Hits@   5: 0.570\n",
      "DCG@  10: 0.512 | Hits@  10: 0.647\n",
      "DCG@ 100: 0.558 | Hits@ 100: 0.869\n",
      "DCG@ 500: 0.572 | Hits@ 500: 0.976\n",
      "DCG@1000: 0.574 | Hits@1000: 1.000\n",
      "\n"
     ]
    },
    {
     "name": "stdout",
     "output_type": "stream",
     "text": [
      "min_count = 4, window = 5 with CBOW\n",
      "DCG@   1: 0.398 | Hits@   1: 0.398\n",
      "DCG@   5: 0.493 | Hits@   5: 0.576\n",
      "DCG@  10: 0.518 | Hits@  10: 0.655\n",
      "DCG@ 100: 0.564 | Hits@ 100: 0.881\n",
      "DCG@ 500: 0.577 | Hits@ 500: 0.977\n",
      "DCG@1000: 0.579 | Hits@1000: 1.000\n",
      "\n",
      "min_count = 4, window = 6 with CBOW\n",
      "DCG@   1: 0.407 | Hits@   1: 0.407\n",
      "DCG@   5: 0.498 | Hits@   5: 0.577\n",
      "DCG@  10: 0.524 | Hits@  10: 0.657\n",
      "DCG@ 100: 0.570 | Hits@ 100: 0.879\n",
      "DCG@ 500: 0.583 | Hits@ 500: 0.976\n",
      "DCG@1000: 0.585 | Hits@1000: 1.000\n",
      "\n",
      "min_count = 4, window = 7 with CBOW\n",
      "DCG@   1: 0.397 | Hits@   1: 0.397\n",
      "DCG@   5: 0.499 | Hits@   5: 0.589\n",
      "DCG@  10: 0.523 | Hits@  10: 0.662\n",
      "DCG@ 100: 0.568 | Hits@ 100: 0.883\n",
      "DCG@ 500: 0.580 | Hits@ 500: 0.976\n",
      "DCG@1000: 0.583 | Hits@1000: 1.000\n",
      "\n",
      "min_count = 4, window = 8 with CBOW\n",
      "DCG@   1: 0.409 | Hits@   1: 0.409\n",
      "DCG@   5: 0.502 | Hits@   5: 0.585\n",
      "DCG@  10: 0.525 | Hits@  10: 0.654\n",
      "DCG@ 100: 0.573 | Hits@ 100: 0.882\n",
      "DCG@ 500: 0.585 | Hits@ 500: 0.977\n",
      "DCG@1000: 0.587 | Hits@1000: 1.000\n",
      "\n",
      "min_count = 4, window = 9 with CBOW\n",
      "DCG@   1: 0.410 | Hits@   1: 0.410\n",
      "DCG@   5: 0.507 | Hits@   5: 0.591\n",
      "DCG@  10: 0.530 | Hits@  10: 0.661\n",
      "DCG@ 100: 0.576 | Hits@ 100: 0.885\n",
      "DCG@ 500: 0.588 | Hits@ 500: 0.976\n",
      "DCG@1000: 0.591 | Hits@1000: 1.000\n",
      "\n",
      "min_count = 4, window = 10 with CBOW\n",
      "DCG@   1: 0.416 | Hits@   1: 0.416\n",
      "DCG@   5: 0.509 | Hits@   5: 0.591\n",
      "DCG@  10: 0.533 | Hits@  10: 0.662\n",
      "DCG@ 100: 0.579 | Hits@ 100: 0.886\n",
      "DCG@ 500: 0.591 | Hits@ 500: 0.975\n",
      "DCG@1000: 0.594 | Hits@1000: 1.000\n",
      "\n",
      "min_count = 5, window = 1 with CBOW\n",
      "DCG@   1: 0.392 | Hits@   1: 0.392\n",
      "DCG@   5: 0.478 | Hits@   5: 0.557\n",
      "DCG@  10: 0.506 | Hits@  10: 0.644\n",
      "DCG@ 100: 0.548 | Hits@ 100: 0.852\n",
      "DCG@ 500: 0.562 | Hits@ 500: 0.964\n",
      "DCG@1000: 0.566 | Hits@1000: 1.000\n",
      "\n",
      "min_count = 5, window = 2 with CBOW\n",
      "DCG@   1: 0.386 | Hits@   1: 0.386\n",
      "DCG@   5: 0.478 | Hits@   5: 0.559\n",
      "DCG@  10: 0.504 | Hits@  10: 0.640\n",
      "DCG@ 100: 0.550 | Hits@ 100: 0.867\n",
      "DCG@ 500: 0.563 | Hits@ 500: 0.971\n",
      "DCG@1000: 0.567 | Hits@1000: 1.000\n",
      "\n",
      "min_count = 5, window = 3 with CBOW\n",
      "DCG@   1: 0.384 | Hits@   1: 0.384\n",
      "DCG@   5: 0.483 | Hits@   5: 0.567\n",
      "DCG@  10: 0.507 | Hits@  10: 0.643\n",
      "DCG@ 100: 0.553 | Hits@ 100: 0.865\n",
      "DCG@ 500: 0.568 | Hits@ 500: 0.978\n",
      "DCG@1000: 0.570 | Hits@1000: 1.000\n",
      "\n",
      "min_count = 5, window = 4 with CBOW\n",
      "DCG@   1: 0.396 | Hits@   1: 0.396\n",
      "DCG@   5: 0.490 | Hits@   5: 0.572\n",
      "DCG@  10: 0.513 | Hits@  10: 0.645\n",
      "DCG@ 100: 0.560 | Hits@ 100: 0.872\n",
      "DCG@ 500: 0.573 | Hits@ 500: 0.974\n",
      "DCG@1000: 0.576 | Hits@1000: 1.000\n",
      "\n",
      "min_count = 5, window = 5 with CBOW\n",
      "DCG@   1: 0.399 | Hits@   1: 0.399\n",
      "DCG@   5: 0.494 | Hits@   5: 0.577\n",
      "DCG@  10: 0.517 | Hits@  10: 0.650\n",
      "DCG@ 100: 0.564 | Hits@ 100: 0.876\n",
      "DCG@ 500: 0.578 | Hits@ 500: 0.979\n",
      "DCG@1000: 0.580 | Hits@1000: 1.000\n",
      "\n",
      "min_count = 5, window = 6 with CBOW\n",
      "DCG@   1: 0.405 | Hits@   1: 0.405\n",
      "DCG@   5: 0.497 | Hits@   5: 0.578\n",
      "DCG@  10: 0.524 | Hits@  10: 0.659\n",
      "DCG@ 100: 0.569 | Hits@ 100: 0.880\n",
      "DCG@ 500: 0.582 | Hits@ 500: 0.978\n",
      "DCG@1000: 0.584 | Hits@1000: 1.000\n",
      "\n",
      "min_count = 5, window = 7 with CBOW\n",
      "DCG@   1: 0.410 | Hits@   1: 0.410\n",
      "DCG@   5: 0.502 | Hits@   5: 0.582\n",
      "DCG@  10: 0.527 | Hits@  10: 0.658\n",
      "DCG@ 100: 0.573 | Hits@ 100: 0.880\n",
      "DCG@ 500: 0.586 | Hits@ 500: 0.979\n",
      "DCG@1000: 0.588 | Hits@1000: 1.000\n",
      "\n",
      "min_count = 5, window = 8 with CBOW\n",
      "DCG@   1: 0.407 | Hits@   1: 0.407\n",
      "DCG@   5: 0.503 | Hits@   5: 0.585\n",
      "DCG@  10: 0.528 | Hits@  10: 0.664\n",
      "DCG@ 100: 0.573 | Hits@ 100: 0.882\n",
      "DCG@ 500: 0.586 | Hits@ 500: 0.977\n",
      "DCG@1000: 0.588 | Hits@1000: 1.000\n",
      "\n",
      "min_count = 5, window = 9 with CBOW\n",
      "DCG@   1: 0.411 | Hits@   1: 0.411\n",
      "DCG@   5: 0.505 | Hits@   5: 0.588\n",
      "DCG@  10: 0.530 | Hits@  10: 0.664\n",
      "DCG@ 100: 0.575 | Hits@ 100: 0.879\n",
      "DCG@ 500: 0.588 | Hits@ 500: 0.978\n",
      "DCG@1000: 0.590 | Hits@1000: 1.000\n",
      "\n",
      "min_count = 5, window = 10 with CBOW\n",
      "DCG@   1: 0.414 | Hits@   1: 0.414\n",
      "DCG@   5: 0.509 | Hits@   5: 0.591\n",
      "DCG@  10: 0.535 | Hits@  10: 0.671\n",
      "DCG@ 100: 0.579 | Hits@ 100: 0.885\n",
      "DCG@ 500: 0.591 | Hits@ 500: 0.978\n",
      "DCG@1000: 0.593 | Hits@1000: 1.000\n",
      "\n",
      "min_count = 6, window = 1 with CBOW\n",
      "DCG@   1: 0.385 | Hits@   1: 0.385\n",
      "DCG@   5: 0.476 | Hits@   5: 0.558\n",
      "DCG@  10: 0.504 | Hits@  10: 0.645\n",
      "DCG@ 100: 0.545 | Hits@ 100: 0.849\n",
      "DCG@ 500: 0.560 | Hits@ 500: 0.965\n",
      "DCG@1000: 0.564 | Hits@1000: 1.000\n",
      "\n",
      "min_count = 6, window = 2 with CBOW\n",
      "DCG@   1: 0.389 | Hits@   1: 0.389\n",
      "DCG@   5: 0.480 | Hits@   5: 0.562\n",
      "DCG@  10: 0.503 | Hits@  10: 0.634\n",
      "DCG@ 100: 0.551 | Hits@ 100: 0.867\n",
      "DCG@ 500: 0.564 | Hits@ 500: 0.970\n",
      "DCG@1000: 0.568 | Hits@1000: 1.000\n",
      "\n",
      "min_count = 6, window = 3 with CBOW\n",
      "DCG@   1: 0.384 | Hits@   1: 0.384\n",
      "DCG@   5: 0.481 | Hits@   5: 0.566\n",
      "DCG@  10: 0.508 | Hits@  10: 0.648\n",
      "DCG@ 100: 0.552 | Hits@ 100: 0.864\n",
      "DCG@ 500: 0.567 | Hits@ 500: 0.976\n",
      "DCG@1000: 0.569 | Hits@1000: 1.000\n",
      "\n",
      "min_count = 6, window = 4 with CBOW\n",
      "DCG@   1: 0.392 | Hits@   1: 0.392\n",
      "DCG@   5: 0.488 | Hits@   5: 0.574\n",
      "DCG@  10: 0.511 | Hits@  10: 0.645\n",
      "DCG@ 100: 0.558 | Hits@ 100: 0.872\n",
      "DCG@ 500: 0.572 | Hits@ 500: 0.976\n",
      "DCG@1000: 0.574 | Hits@1000: 1.000\n",
      "\n",
      "min_count = 6, window = 5 with CBOW\n",
      "DCG@   1: 0.404 | Hits@   1: 0.404\n",
      "DCG@   5: 0.495 | Hits@   5: 0.578\n",
      "DCG@  10: 0.519 | Hits@  10: 0.652\n",
      "DCG@ 100: 0.565 | Hits@ 100: 0.872\n",
      "DCG@ 500: 0.579 | Hits@ 500: 0.979\n",
      "DCG@1000: 0.581 | Hits@1000: 1.000\n",
      "\n",
      "min_count = 6, window = 6 with CBOW\n",
      "DCG@   1: 0.401 | Hits@   1: 0.401\n",
      "DCG@   5: 0.496 | Hits@   5: 0.575\n",
      "DCG@  10: 0.523 | Hits@  10: 0.659\n",
      "DCG@ 100: 0.569 | Hits@ 100: 0.882\n",
      "DCG@ 500: 0.581 | Hits@ 500: 0.976\n",
      "DCG@1000: 0.584 | Hits@1000: 1.000\n",
      "\n",
      "min_count = 6, window = 7 with CBOW\n",
      "DCG@   1: 0.411 | Hits@   1: 0.411\n",
      "DCG@   5: 0.505 | Hits@   5: 0.587\n",
      "DCG@  10: 0.528 | Hits@  10: 0.659\n",
      "DCG@ 100: 0.573 | Hits@ 100: 0.875\n",
      "DCG@ 500: 0.586 | Hits@ 500: 0.975\n",
      "DCG@1000: 0.589 | Hits@1000: 1.000\n",
      "\n",
      "min_count = 6, window = 8 with CBOW\n",
      "DCG@   1: 0.406 | Hits@   1: 0.406\n",
      "DCG@   5: 0.502 | Hits@   5: 0.584\n",
      "DCG@  10: 0.525 | Hits@  10: 0.654\n",
      "DCG@ 100: 0.573 | Hits@ 100: 0.884\n",
      "DCG@ 500: 0.585 | Hits@ 500: 0.976\n",
      "DCG@1000: 0.588 | Hits@1000: 1.000\n",
      "\n",
      "min_count = 6, window = 9 with CBOW\n",
      "DCG@   1: 0.416 | Hits@   1: 0.416\n",
      "DCG@   5: 0.510 | Hits@   5: 0.593\n",
      "DCG@  10: 0.534 | Hits@  10: 0.665\n",
      "DCG@ 100: 0.579 | Hits@ 100: 0.885\n",
      "DCG@ 500: 0.591 | Hits@ 500: 0.981\n",
      "DCG@1000: 0.593 | Hits@1000: 1.000\n",
      "\n",
      "min_count = 6, window = 10 with CBOW\n",
      "DCG@   1: 0.417 | Hits@   1: 0.417\n",
      "DCG@   5: 0.510 | Hits@   5: 0.592\n",
      "DCG@  10: 0.533 | Hits@  10: 0.662\n",
      "DCG@ 100: 0.579 | Hits@ 100: 0.884\n",
      "DCG@ 500: 0.592 | Hits@ 500: 0.981\n",
      "DCG@1000: 0.594 | Hits@1000: 1.000\n",
      "\n",
      "min_count = 7, window = 1 with CBOW\n",
      "DCG@   1: 0.391 | Hits@   1: 0.391\n",
      "DCG@   5: 0.476 | Hits@   5: 0.553\n",
      "DCG@  10: 0.504 | Hits@  10: 0.639\n",
      "DCG@ 100: 0.547 | Hits@ 100: 0.850\n",
      "DCG@ 500: 0.562 | Hits@ 500: 0.964\n",
      "DCG@1000: 0.565 | Hits@1000: 1.000\n",
      "\n",
      "min_count = 7, window = 2 with CBOW\n",
      "DCG@   1: 0.383 | Hits@   1: 0.383\n",
      "DCG@   5: 0.478 | Hits@   5: 0.563\n",
      "DCG@  10: 0.504 | Hits@  10: 0.643\n",
      "DCG@ 100: 0.549 | Hits@ 100: 0.871\n",
      "DCG@ 500: 0.562 | Hits@ 500: 0.972\n",
      "DCG@1000: 0.565 | Hits@1000: 1.000\n",
      "\n",
      "min_count = 7, window = 3 with CBOW\n",
      "DCG@   1: 0.385 | Hits@   1: 0.385\n",
      "DCG@   5: 0.481 | Hits@   5: 0.565\n",
      "DCG@  10: 0.506 | Hits@  10: 0.645\n",
      "DCG@ 100: 0.552 | Hits@ 100: 0.866\n",
      "DCG@ 500: 0.566 | Hits@ 500: 0.978\n",
      "DCG@1000: 0.569 | Hits@1000: 1.000\n",
      "\n",
      "min_count = 7, window = 4 with CBOW\n",
      "DCG@   1: 0.396 | Hits@   1: 0.396\n",
      "DCG@   5: 0.492 | Hits@   5: 0.576\n",
      "DCG@  10: 0.515 | Hits@  10: 0.648\n",
      "DCG@ 100: 0.561 | Hits@ 100: 0.874\n",
      "DCG@ 500: 0.575 | Hits@ 500: 0.976\n",
      "DCG@1000: 0.577 | Hits@1000: 1.000\n",
      "\n",
      "min_count = 7, window = 5 with CBOW\n",
      "DCG@   1: 0.399 | Hits@   1: 0.399\n",
      "DCG@   5: 0.494 | Hits@   5: 0.575\n",
      "DCG@  10: 0.517 | Hits@  10: 0.647\n",
      "DCG@ 100: 0.564 | Hits@ 100: 0.877\n",
      "DCG@ 500: 0.577 | Hits@ 500: 0.977\n",
      "DCG@1000: 0.580 | Hits@1000: 1.000\n",
      "\n",
      "min_count = 7, window = 6 with CBOW\n",
      "DCG@   1: 0.397 | Hits@   1: 0.397\n",
      "DCG@   5: 0.496 | Hits@   5: 0.582\n",
      "DCG@  10: 0.520 | Hits@  10: 0.659\n",
      "DCG@ 100: 0.565 | Hits@ 100: 0.878\n",
      "DCG@ 500: 0.578 | Hits@ 500: 0.976\n",
      "DCG@1000: 0.581 | Hits@1000: 1.000\n",
      "\n",
      "min_count = 7, window = 7 with CBOW\n",
      "DCG@   1: 0.403 | Hits@   1: 0.403\n",
      "DCG@   5: 0.501 | Hits@   5: 0.587\n",
      "DCG@  10: 0.524 | Hits@  10: 0.659\n",
      "DCG@ 100: 0.571 | Hits@ 100: 0.883\n",
      "DCG@ 500: 0.583 | Hits@ 500: 0.978\n",
      "DCG@1000: 0.585 | Hits@1000: 1.000\n",
      "\n",
      "min_count = 7, window = 8 with CBOW\n",
      "DCG@   1: 0.411 | Hits@   1: 0.411\n",
      "DCG@   5: 0.506 | Hits@   5: 0.589\n",
      "DCG@  10: 0.531 | Hits@  10: 0.667\n",
      "DCG@ 100: 0.575 | Hits@ 100: 0.881\n",
      "DCG@ 500: 0.588 | Hits@ 500: 0.978\n",
      "DCG@1000: 0.590 | Hits@1000: 1.000\n",
      "\n"
     ]
    },
    {
     "name": "stdout",
     "output_type": "stream",
     "text": [
      "min_count = 7, window = 9 with CBOW\n",
      "DCG@   1: 0.421 | Hits@   1: 0.421\n",
      "DCG@   5: 0.509 | Hits@   5: 0.587\n",
      "DCG@  10: 0.536 | Hits@  10: 0.669\n",
      "DCG@ 100: 0.580 | Hits@ 100: 0.884\n",
      "DCG@ 500: 0.592 | Hits@ 500: 0.976\n",
      "DCG@1000: 0.595 | Hits@1000: 1.000\n",
      "\n",
      "min_count = 7, window = 10 with CBOW\n",
      "DCG@   1: 0.412 | Hits@   1: 0.412\n",
      "DCG@   5: 0.507 | Hits@   5: 0.587\n",
      "DCG@  10: 0.532 | Hits@  10: 0.663\n",
      "DCG@ 100: 0.577 | Hits@ 100: 0.882\n",
      "DCG@ 500: 0.590 | Hits@ 500: 0.979\n",
      "DCG@1000: 0.592 | Hits@1000: 1.000\n",
      "\n",
      "min_count = 8, window = 1 with CBOW\n",
      "DCG@   1: 0.388 | Hits@   1: 0.388\n",
      "DCG@   5: 0.477 | Hits@   5: 0.558\n",
      "DCG@  10: 0.506 | Hits@  10: 0.647\n",
      "DCG@ 100: 0.547 | Hits@ 100: 0.852\n",
      "DCG@ 500: 0.562 | Hits@ 500: 0.964\n",
      "DCG@1000: 0.565 | Hits@1000: 1.000\n",
      "\n",
      "min_count = 8, window = 2 with CBOW\n",
      "DCG@   1: 0.389 | Hits@   1: 0.389\n",
      "DCG@   5: 0.483 | Hits@   5: 0.566\n",
      "DCG@  10: 0.507 | Hits@  10: 0.641\n",
      "DCG@ 100: 0.553 | Hits@ 100: 0.868\n",
      "DCG@ 500: 0.566 | Hits@ 500: 0.973\n",
      "DCG@1000: 0.569 | Hits@1000: 1.000\n",
      "\n",
      "min_count = 8, window = 3 with CBOW\n",
      "DCG@   1: 0.387 | Hits@   1: 0.387\n",
      "DCG@   5: 0.483 | Hits@   5: 0.568\n",
      "DCG@  10: 0.507 | Hits@  10: 0.643\n",
      "DCG@ 100: 0.552 | Hits@ 100: 0.863\n",
      "DCG@ 500: 0.567 | Hits@ 500: 0.975\n",
      "DCG@1000: 0.570 | Hits@1000: 1.000\n",
      "\n",
      "min_count = 8, window = 4 with CBOW\n",
      "DCG@   1: 0.397 | Hits@   1: 0.397\n",
      "DCG@   5: 0.491 | Hits@   5: 0.573\n",
      "DCG@  10: 0.514 | Hits@  10: 0.645\n",
      "DCG@ 100: 0.560 | Hits@ 100: 0.867\n",
      "DCG@ 500: 0.575 | Hits@ 500: 0.978\n",
      "DCG@1000: 0.577 | Hits@1000: 1.000\n",
      "\n",
      "min_count = 8, window = 5 with CBOW\n",
      "DCG@   1: 0.399 | Hits@   1: 0.399\n",
      "DCG@   5: 0.495 | Hits@   5: 0.579\n",
      "DCG@  10: 0.517 | Hits@  10: 0.647\n",
      "DCG@ 100: 0.564 | Hits@ 100: 0.874\n",
      "DCG@ 500: 0.578 | Hits@ 500: 0.978\n",
      "DCG@1000: 0.580 | Hits@1000: 1.000\n",
      "\n",
      "min_count = 8, window = 6 with CBOW\n",
      "DCG@   1: 0.400 | Hits@   1: 0.400\n",
      "DCG@   5: 0.498 | Hits@   5: 0.584\n",
      "DCG@  10: 0.519 | Hits@  10: 0.651\n",
      "DCG@ 100: 0.566 | Hits@ 100: 0.874\n",
      "DCG@ 500: 0.580 | Hits@ 500: 0.978\n",
      "DCG@1000: 0.582 | Hits@1000: 1.000\n",
      "\n",
      "min_count = 8, window = 7 with CBOW\n",
      "DCG@   1: 0.406 | Hits@   1: 0.406\n",
      "DCG@   5: 0.502 | Hits@   5: 0.583\n",
      "DCG@  10: 0.526 | Hits@  10: 0.658\n",
      "DCG@ 100: 0.572 | Hits@ 100: 0.882\n",
      "DCG@ 500: 0.585 | Hits@ 500: 0.978\n",
      "DCG@1000: 0.587 | Hits@1000: 1.000\n",
      "\n",
      "min_count = 8, window = 8 with CBOW\n",
      "DCG@   1: 0.405 | Hits@   1: 0.405\n",
      "DCG@   5: 0.502 | Hits@   5: 0.584\n",
      "DCG@  10: 0.528 | Hits@  10: 0.665\n",
      "DCG@ 100: 0.573 | Hits@ 100: 0.881\n",
      "DCG@ 500: 0.586 | Hits@ 500: 0.978\n",
      "DCG@1000: 0.588 | Hits@1000: 1.000\n",
      "\n",
      "min_count = 8, window = 9 with CBOW\n",
      "DCG@   1: 0.418 | Hits@   1: 0.418\n",
      "DCG@   5: 0.508 | Hits@   5: 0.588\n",
      "DCG@  10: 0.532 | Hits@  10: 0.664\n",
      "DCG@ 100: 0.577 | Hits@ 100: 0.878\n",
      "DCG@ 500: 0.590 | Hits@ 500: 0.980\n",
      "DCG@1000: 0.592 | Hits@1000: 1.000\n",
      "\n",
      "min_count = 8, window = 10 with CBOW\n",
      "DCG@   1: 0.416 | Hits@   1: 0.416\n",
      "DCG@   5: 0.510 | Hits@   5: 0.593\n",
      "DCG@  10: 0.534 | Hits@  10: 0.667\n",
      "DCG@ 100: 0.578 | Hits@ 100: 0.881\n",
      "DCG@ 500: 0.591 | Hits@ 500: 0.980\n",
      "DCG@1000: 0.593 | Hits@1000: 1.000\n",
      "\n",
      "min_count = 9, window = 1 with CBOW\n",
      "DCG@   1: 0.393 | Hits@   1: 0.393\n",
      "DCG@   5: 0.481 | Hits@   5: 0.563\n",
      "DCG@  10: 0.508 | Hits@  10: 0.646\n",
      "DCG@ 100: 0.550 | Hits@ 100: 0.854\n",
      "DCG@ 500: 0.564 | Hits@ 500: 0.965\n",
      "DCG@1000: 0.568 | Hits@1000: 1.000\n",
      "\n",
      "min_count = 9, window = 2 with CBOW\n",
      "DCG@   1: 0.391 | Hits@   1: 0.391\n",
      "DCG@   5: 0.480 | Hits@   5: 0.559\n",
      "DCG@  10: 0.507 | Hits@  10: 0.642\n",
      "DCG@ 100: 0.553 | Hits@ 100: 0.868\n",
      "DCG@ 500: 0.566 | Hits@ 500: 0.972\n",
      "DCG@1000: 0.569 | Hits@1000: 1.000\n",
      "\n",
      "min_count = 9, window = 3 with CBOW\n",
      "DCG@   1: 0.385 | Hits@   1: 0.385\n",
      "DCG@   5: 0.482 | Hits@   5: 0.567\n",
      "DCG@  10: 0.507 | Hits@  10: 0.644\n",
      "DCG@ 100: 0.553 | Hits@ 100: 0.870\n",
      "DCG@ 500: 0.567 | Hits@ 500: 0.976\n",
      "DCG@1000: 0.569 | Hits@1000: 1.000\n",
      "\n",
      "min_count = 9, window = 4 with CBOW\n",
      "DCG@   1: 0.396 | Hits@   1: 0.396\n",
      "DCG@   5: 0.490 | Hits@   5: 0.573\n",
      "DCG@  10: 0.513 | Hits@  10: 0.644\n",
      "DCG@ 100: 0.561 | Hits@ 100: 0.873\n",
      "DCG@ 500: 0.574 | Hits@ 500: 0.978\n",
      "DCG@1000: 0.577 | Hits@1000: 1.000\n",
      "\n",
      "min_count = 9, window = 5 with CBOW\n",
      "DCG@   1: 0.401 | Hits@   1: 0.401\n",
      "DCG@   5: 0.493 | Hits@   5: 0.574\n",
      "DCG@  10: 0.517 | Hits@  10: 0.652\n",
      "DCG@ 100: 0.564 | Hits@ 100: 0.876\n",
      "DCG@ 500: 0.577 | Hits@ 500: 0.978\n",
      "DCG@1000: 0.579 | Hits@1000: 1.000\n",
      "\n",
      "min_count = 9, window = 6 with CBOW\n",
      "DCG@   1: 0.401 | Hits@   1: 0.401\n",
      "DCG@   5: 0.497 | Hits@   5: 0.581\n",
      "DCG@  10: 0.519 | Hits@  10: 0.651\n",
      "DCG@ 100: 0.567 | Hits@ 100: 0.879\n",
      "DCG@ 500: 0.580 | Hits@ 500: 0.977\n",
      "DCG@1000: 0.582 | Hits@1000: 1.000\n",
      "\n",
      "min_count = 9, window = 7 with CBOW\n",
      "DCG@   1: 0.413 | Hits@   1: 0.413\n",
      "DCG@   5: 0.503 | Hits@   5: 0.582\n",
      "DCG@  10: 0.530 | Hits@  10: 0.667\n",
      "DCG@ 100: 0.575 | Hits@ 100: 0.883\n",
      "DCG@ 500: 0.587 | Hits@ 500: 0.975\n",
      "DCG@1000: 0.589 | Hits@1000: 1.000\n",
      "\n",
      "min_count = 9, window = 8 with CBOW\n",
      "DCG@   1: 0.410 | Hits@   1: 0.410\n",
      "DCG@   5: 0.504 | Hits@   5: 0.586\n",
      "DCG@  10: 0.529 | Hits@  10: 0.664\n",
      "DCG@ 100: 0.573 | Hits@ 100: 0.876\n",
      "DCG@ 500: 0.586 | Hits@ 500: 0.979\n",
      "DCG@1000: 0.589 | Hits@1000: 1.000\n",
      "\n",
      "min_count = 9, window = 9 with CBOW\n",
      "DCG@   1: 0.409 | Hits@   1: 0.409\n",
      "DCG@   5: 0.504 | Hits@   5: 0.585\n",
      "DCG@  10: 0.530 | Hits@  10: 0.665\n",
      "DCG@ 100: 0.575 | Hits@ 100: 0.880\n",
      "DCG@ 500: 0.587 | Hits@ 500: 0.976\n",
      "DCG@1000: 0.590 | Hits@1000: 1.000\n",
      "\n",
      "min_count = 9, window = 10 with CBOW\n",
      "DCG@   1: 0.417 | Hits@   1: 0.417\n",
      "DCG@   5: 0.511 | Hits@   5: 0.594\n",
      "DCG@  10: 0.533 | Hits@  10: 0.662\n",
      "DCG@ 100: 0.580 | Hits@ 100: 0.883\n",
      "DCG@ 500: 0.592 | Hits@ 500: 0.979\n",
      "DCG@1000: 0.594 | Hits@1000: 1.000\n",
      "\n",
      "min_count = 10, window = 1 with CBOW\n",
      "DCG@   1: 0.392 | Hits@   1: 0.392\n",
      "DCG@   5: 0.481 | Hits@   5: 0.563\n",
      "DCG@  10: 0.508 | Hits@  10: 0.647\n",
      "DCG@ 100: 0.550 | Hits@ 100: 0.851\n",
      "DCG@ 500: 0.564 | Hits@ 500: 0.963\n",
      "DCG@1000: 0.568 | Hits@1000: 1.000\n",
      "\n",
      "min_count = 10, window = 2 with CBOW\n",
      "DCG@   1: 0.389 | Hits@   1: 0.389\n",
      "DCG@   5: 0.477 | Hits@   5: 0.556\n",
      "DCG@  10: 0.504 | Hits@  10: 0.637\n",
      "DCG@ 100: 0.550 | Hits@ 100: 0.864\n",
      "DCG@ 500: 0.564 | Hits@ 500: 0.972\n",
      "DCG@1000: 0.567 | Hits@1000: 1.000\n",
      "\n",
      "min_count = 10, window = 3 with CBOW\n",
      "DCG@   1: 0.389 | Hits@   1: 0.389\n",
      "DCG@   5: 0.481 | Hits@   5: 0.563\n",
      "DCG@  10: 0.507 | Hits@  10: 0.642\n",
      "DCG@ 100: 0.552 | Hits@ 100: 0.862\n",
      "DCG@ 500: 0.567 | Hits@ 500: 0.978\n",
      "DCG@1000: 0.570 | Hits@1000: 1.000\n",
      "\n",
      "min_count = 10, window = 4 with CBOW\n",
      "DCG@   1: 0.396 | Hits@   1: 0.396\n",
      "DCG@   5: 0.488 | Hits@   5: 0.570\n",
      "DCG@  10: 0.514 | Hits@  10: 0.650\n",
      "DCG@ 100: 0.559 | Hits@ 100: 0.867\n",
      "DCG@ 500: 0.573 | Hits@ 500: 0.976\n",
      "DCG@1000: 0.576 | Hits@1000: 1.000\n",
      "\n",
      "min_count = 10, window = 5 with CBOW\n",
      "DCG@   1: 0.395 | Hits@   1: 0.395\n",
      "DCG@   5: 0.492 | Hits@   5: 0.578\n",
      "DCG@  10: 0.515 | Hits@  10: 0.648\n",
      "DCG@ 100: 0.563 | Hits@ 100: 0.880\n",
      "DCG@ 500: 0.575 | Hits@ 500: 0.974\n",
      "DCG@1000: 0.578 | Hits@1000: 1.000\n",
      "\n",
      "min_count = 10, window = 6 with CBOW\n",
      "DCG@   1: 0.406 | Hits@   1: 0.406\n",
      "DCG@   5: 0.499 | Hits@   5: 0.582\n",
      "DCG@  10: 0.522 | Hits@  10: 0.652\n",
      "DCG@ 100: 0.569 | Hits@ 100: 0.880\n",
      "DCG@ 500: 0.582 | Hits@ 500: 0.973\n",
      "DCG@1000: 0.584 | Hits@1000: 1.000\n",
      "\n",
      "min_count = 10, window = 7 with CBOW\n",
      "DCG@   1: 0.412 | Hits@   1: 0.412\n",
      "DCG@   5: 0.501 | Hits@   5: 0.577\n",
      "DCG@  10: 0.526 | Hits@  10: 0.653\n",
      "DCG@ 100: 0.573 | Hits@ 100: 0.880\n",
      "DCG@ 500: 0.586 | Hits@ 500: 0.978\n",
      "DCG@1000: 0.588 | Hits@1000: 1.000\n",
      "\n",
      "min_count = 10, window = 8 with CBOW\n",
      "DCG@   1: 0.405 | Hits@   1: 0.405\n",
      "DCG@   5: 0.503 | Hits@   5: 0.586\n",
      "DCG@  10: 0.527 | Hits@  10: 0.661\n",
      "DCG@ 100: 0.573 | Hits@ 100: 0.879\n",
      "DCG@ 500: 0.586 | Hits@ 500: 0.978\n",
      "DCG@1000: 0.588 | Hits@1000: 1.000\n",
      "\n",
      "min_count = 10, window = 9 with CBOW\n",
      "DCG@   1: 0.415 | Hits@   1: 0.415\n",
      "DCG@   5: 0.509 | Hits@   5: 0.592\n",
      "DCG@  10: 0.533 | Hits@  10: 0.665\n",
      "DCG@ 100: 0.578 | Hits@ 100: 0.881\n",
      "DCG@ 500: 0.591 | Hits@ 500: 0.980\n",
      "DCG@1000: 0.593 | Hits@1000: 1.000\n",
      "\n",
      "min_count = 10, window = 10 with CBOW\n",
      "DCG@   1: 0.416 | Hits@   1: 0.416\n",
      "DCG@   5: 0.513 | Hits@   5: 0.597\n",
      "DCG@  10: 0.535 | Hits@  10: 0.666\n",
      "DCG@ 100: 0.581 | Hits@ 100: 0.886\n",
      "DCG@ 500: 0.593 | Hits@ 500: 0.979\n",
      "DCG@1000: 0.595 | Hits@1000: 1.000\n",
      "\n"
     ]
    },
    {
     "data": {
      "text/html": [
       "<div>\n",
       "<style scoped>\n",
       "    .dataframe tbody tr th:only-of-type {\n",
       "        vertical-align: middle;\n",
       "    }\n",
       "\n",
       "    .dataframe tbody tr th {\n",
       "        vertical-align: top;\n",
       "    }\n",
       "\n",
       "    .dataframe thead th {\n",
       "        text-align: right;\n",
       "    }\n",
       "</style>\n",
       "<table border=\"1\" class=\"dataframe\">\n",
       "  <thead>\n",
       "    <tr style=\"text-align: right;\">\n",
       "      <th></th>\n",
       "      <th>DCG@1</th>\n",
       "      <th>DCG@5</th>\n",
       "      <th>DCG@10</th>\n",
       "      <th>DCG@100</th>\n",
       "      <th>DCG@500</th>\n",
       "      <th>DCG@1000</th>\n",
       "      <th>Hits@1</th>\n",
       "      <th>Hits@5</th>\n",
       "      <th>Hits@10</th>\n",
       "      <th>Hits@100</th>\n",
       "      <th>Hits@500</th>\n",
       "      <th>Hits@1000</th>\n",
       "      <th>SUM</th>\n",
       "    </tr>\n",
       "  </thead>\n",
       "  <tbody>\n",
       "    <tr>\n",
       "      <th>Min_1/Win_1</th>\n",
       "      <td>0.358</td>\n",
       "      <td>0.447</td>\n",
       "      <td>0.476</td>\n",
       "      <td>0.518</td>\n",
       "      <td>0.534</td>\n",
       "      <td>0.540</td>\n",
       "      <td>0.358</td>\n",
       "      <td>0.525</td>\n",
       "      <td>0.614</td>\n",
       "      <td>0.824</td>\n",
       "      <td>0.949</td>\n",
       "      <td>1.0</td>\n",
       "      <td>7.143</td>\n",
       "    </tr>\n",
       "    <tr>\n",
       "      <th>Min_1/Win_2</th>\n",
       "      <td>0.367</td>\n",
       "      <td>0.464</td>\n",
       "      <td>0.485</td>\n",
       "      <td>0.532</td>\n",
       "      <td>0.547</td>\n",
       "      <td>0.551</td>\n",
       "      <td>0.367</td>\n",
       "      <td>0.550</td>\n",
       "      <td>0.617</td>\n",
       "      <td>0.850</td>\n",
       "      <td>0.968</td>\n",
       "      <td>1.0</td>\n",
       "      <td>7.298</td>\n",
       "    </tr>\n",
       "    <tr>\n",
       "      <th>Min_1/Win_3</th>\n",
       "      <td>0.377</td>\n",
       "      <td>0.470</td>\n",
       "      <td>0.494</td>\n",
       "      <td>0.541</td>\n",
       "      <td>0.556</td>\n",
       "      <td>0.559</td>\n",
       "      <td>0.377</td>\n",
       "      <td>0.554</td>\n",
       "      <td>0.630</td>\n",
       "      <td>0.859</td>\n",
       "      <td>0.974</td>\n",
       "      <td>1.0</td>\n",
       "      <td>7.391</td>\n",
       "    </tr>\n",
       "    <tr>\n",
       "      <th>Min_1/Win_4</th>\n",
       "      <td>0.385</td>\n",
       "      <td>0.475</td>\n",
       "      <td>0.500</td>\n",
       "      <td>0.548</td>\n",
       "      <td>0.563</td>\n",
       "      <td>0.565</td>\n",
       "      <td>0.385</td>\n",
       "      <td>0.554</td>\n",
       "      <td>0.634</td>\n",
       "      <td>0.866</td>\n",
       "      <td>0.976</td>\n",
       "      <td>1.0</td>\n",
       "      <td>7.451</td>\n",
       "    </tr>\n",
       "    <tr>\n",
       "      <th>Min_1/Win_5</th>\n",
       "      <td>0.393</td>\n",
       "      <td>0.479</td>\n",
       "      <td>0.509</td>\n",
       "      <td>0.554</td>\n",
       "      <td>0.568</td>\n",
       "      <td>0.571</td>\n",
       "      <td>0.393</td>\n",
       "      <td>0.555</td>\n",
       "      <td>0.648</td>\n",
       "      <td>0.866</td>\n",
       "      <td>0.977</td>\n",
       "      <td>1.0</td>\n",
       "      <td>7.513</td>\n",
       "    </tr>\n",
       "    <tr>\n",
       "      <th>...</th>\n",
       "      <td>...</td>\n",
       "      <td>...</td>\n",
       "      <td>...</td>\n",
       "      <td>...</td>\n",
       "      <td>...</td>\n",
       "      <td>...</td>\n",
       "      <td>...</td>\n",
       "      <td>...</td>\n",
       "      <td>...</td>\n",
       "      <td>...</td>\n",
       "      <td>...</td>\n",
       "      <td>...</td>\n",
       "      <td>...</td>\n",
       "    </tr>\n",
       "    <tr>\n",
       "      <th>Min_10/Win_6</th>\n",
       "      <td>0.406</td>\n",
       "      <td>0.499</td>\n",
       "      <td>0.522</td>\n",
       "      <td>0.569</td>\n",
       "      <td>0.582</td>\n",
       "      <td>0.584</td>\n",
       "      <td>0.406</td>\n",
       "      <td>0.582</td>\n",
       "      <td>0.652</td>\n",
       "      <td>0.880</td>\n",
       "      <td>0.973</td>\n",
       "      <td>1.0</td>\n",
       "      <td>7.655</td>\n",
       "    </tr>\n",
       "    <tr>\n",
       "      <th>Min_10/Win_7</th>\n",
       "      <td>0.412</td>\n",
       "      <td>0.501</td>\n",
       "      <td>0.526</td>\n",
       "      <td>0.573</td>\n",
       "      <td>0.586</td>\n",
       "      <td>0.588</td>\n",
       "      <td>0.412</td>\n",
       "      <td>0.577</td>\n",
       "      <td>0.653</td>\n",
       "      <td>0.880</td>\n",
       "      <td>0.978</td>\n",
       "      <td>1.0</td>\n",
       "      <td>7.686</td>\n",
       "    </tr>\n",
       "    <tr>\n",
       "      <th>Min_10/Win_8</th>\n",
       "      <td>0.405</td>\n",
       "      <td>0.503</td>\n",
       "      <td>0.527</td>\n",
       "      <td>0.573</td>\n",
       "      <td>0.586</td>\n",
       "      <td>0.588</td>\n",
       "      <td>0.405</td>\n",
       "      <td>0.586</td>\n",
       "      <td>0.661</td>\n",
       "      <td>0.879</td>\n",
       "      <td>0.978</td>\n",
       "      <td>1.0</td>\n",
       "      <td>7.691</td>\n",
       "    </tr>\n",
       "    <tr>\n",
       "      <th>Min_10/Win_9</th>\n",
       "      <td>0.415</td>\n",
       "      <td>0.509</td>\n",
       "      <td>0.533</td>\n",
       "      <td>0.578</td>\n",
       "      <td>0.591</td>\n",
       "      <td>0.593</td>\n",
       "      <td>0.415</td>\n",
       "      <td>0.592</td>\n",
       "      <td>0.665</td>\n",
       "      <td>0.881</td>\n",
       "      <td>0.980</td>\n",
       "      <td>1.0</td>\n",
       "      <td>7.752</td>\n",
       "    </tr>\n",
       "    <tr>\n",
       "      <th>Min_10/Win_10</th>\n",
       "      <td>0.416</td>\n",
       "      <td>0.513</td>\n",
       "      <td>0.535</td>\n",
       "      <td>0.581</td>\n",
       "      <td>0.593</td>\n",
       "      <td>0.595</td>\n",
       "      <td>0.416</td>\n",
       "      <td>0.597</td>\n",
       "      <td>0.666</td>\n",
       "      <td>0.886</td>\n",
       "      <td>0.979</td>\n",
       "      <td>1.0</td>\n",
       "      <td>7.777</td>\n",
       "    </tr>\n",
       "  </tbody>\n",
       "</table>\n",
       "<p>100 rows × 13 columns</p>\n",
       "</div>"
      ],
      "text/plain": [
       "               DCG@1  DCG@5  DCG@10  DCG@100  DCG@500  DCG@1000  Hits@1  \\\n",
       "Min_1/Win_1    0.358  0.447   0.476    0.518    0.534     0.540   0.358   \n",
       "Min_1/Win_2    0.367  0.464   0.485    0.532    0.547     0.551   0.367   \n",
       "Min_1/Win_3    0.377  0.470   0.494    0.541    0.556     0.559   0.377   \n",
       "Min_1/Win_4    0.385  0.475   0.500    0.548    0.563     0.565   0.385   \n",
       "Min_1/Win_5    0.393  0.479   0.509    0.554    0.568     0.571   0.393   \n",
       "...              ...    ...     ...      ...      ...       ...     ...   \n",
       "Min_10/Win_6   0.406  0.499   0.522    0.569    0.582     0.584   0.406   \n",
       "Min_10/Win_7   0.412  0.501   0.526    0.573    0.586     0.588   0.412   \n",
       "Min_10/Win_8   0.405  0.503   0.527    0.573    0.586     0.588   0.405   \n",
       "Min_10/Win_9   0.415  0.509   0.533    0.578    0.591     0.593   0.415   \n",
       "Min_10/Win_10  0.416  0.513   0.535    0.581    0.593     0.595   0.416   \n",
       "\n",
       "               Hits@5  Hits@10  Hits@100  Hits@500  Hits@1000    SUM  \n",
       "Min_1/Win_1     0.525    0.614     0.824     0.949        1.0  7.143  \n",
       "Min_1/Win_2     0.550    0.617     0.850     0.968        1.0  7.298  \n",
       "Min_1/Win_3     0.554    0.630     0.859     0.974        1.0  7.391  \n",
       "Min_1/Win_4     0.554    0.634     0.866     0.976        1.0  7.451  \n",
       "Min_1/Win_5     0.555    0.648     0.866     0.977        1.0  7.513  \n",
       "...               ...      ...       ...       ...        ...    ...  \n",
       "Min_10/Win_6    0.582    0.652     0.880     0.973        1.0  7.655  \n",
       "Min_10/Win_7    0.577    0.653     0.880     0.978        1.0  7.686  \n",
       "Min_10/Win_8    0.586    0.661     0.879     0.978        1.0  7.691  \n",
       "Min_10/Win_9    0.592    0.665     0.881     0.980        1.0  7.752  \n",
       "Min_10/Win_10   0.597    0.666     0.886     0.979        1.0  7.777  \n",
       "\n",
       "[100 rows x 13 columns]"
      ]
     },
     "execution_count": 272,
     "metadata": {},
     "output_type": "execute_result"
    }
   ],
   "source": [
    "dcg_history = []\n",
    "hits_history = []\n",
    "for min_count in range(1,11):\n",
    "    for window in range(1,11):\n",
    "        embeddings_trained = Word2Vec(words,                    # data for model to train on\n",
    "                                      vector_size=200,          # embedding vector size\n",
    "                                      min_count=min_count,      # Ignores all words with total frequency lower than this. Consider words that occured at least 5 times\n",
    "                                      window=window,            # Maximum distance between the current and predicted word within a sentence\n",
    "                                      workers=4,                # Use these many worker threads to train the model\n",
    "                                      sg=0).wv                  # sg=0 - CBOW, sg=1 - Skip-Gram\n",
    "        wv_ranking = []\n",
    "        max_validation_examples = 1000\n",
    "        tokenizer = MyTokenizer()\n",
    "        for i, line in enumerate(validation_data):\n",
    "            if i == max_validation_examples:\n",
    "                break\n",
    "            q, *ex = line\n",
    "            ranks = rank_candidates(q, ex, embeddings_trained, tokenizer)\n",
    "            wv_ranking.append([r[0] for r in ranks].index(0) + 1)\n",
    "        print(f'min_count = {min_count}, window = {window} with CBOW')\n",
    "        for k in [1, 5, 10, 100, 500, 1000]:\n",
    "            print(\"DCG@%4d: %.3f | Hits@%4d: %.3f\" % (k, dcg_score(wv_ranking, k), k, hits_count(wv_ranking, k)))\n",
    "            dcg_history.append(dcg_score(wv_ranking, k))\n",
    "            hits_history.append(hits_count(wv_ranking, k))\n",
    "        print()\n",
    "\n",
    "\n",
    "df2 = pd.DataFrame()\n",
    "i = m = n = 0\n",
    "for row in row_list:\n",
    "    for dcg in columns[:6]:\n",
    "        df2.loc[row,dcg] = dcg_history[m]\n",
    "        m+=1\n",
    "    for hits in columns[6:]:\n",
    "        df2.loc[row,hits] = hits_history[n]\n",
    "        n+=1\n",
    "    i+=6\n",
    "df2['SUM'] = df2.sum(axis=1)\n",
    "\n",
    "df2"
   ]
  },
  {
   "cell_type": "code",
   "execution_count": 277,
   "metadata": {},
   "outputs": [
    {
     "data": {
      "image/png": "[encoded data removed]",
      "text/plain": [
       "<Figure size 1080x360 with 1 Axes>"
      ]
     },
     "metadata": {
      "needs_background": "light"
     },
     "output_type": "display_data"
    }
   ],
   "source": [
    "fig, ax = plt.subplots(figsize=(15, 5))\n",
    "fig.suptitle('DCG@1 / Hits@1 with CBOW', fontsize=20, fontfamily = 'Verdana', fontstyle = 'normal', color = 'midnightblue')\n",
    "ax.plot(df2.index, df2[['DCG@1','Hits@1']])\n",
    "\n",
    "plt.xticks(np.arange(0, 100, 4),rotation=45)\n",
    "\n",
    "plt.legend(df2[['DCG@1','Hits@1']],loc = 'upper left', shadow = False,\n",
    "          facecolor = 'yellow', edgecolor = 'r', framealpha = .1, fontsize=16)\n",
    "plt.tick_params(axis = 'both', which = 'major', direction = 'inout', color = 'm',\n",
    "               labelcolor = 'b', bottom = True, left = True, labelbottom = True, labelleft = True)\n",
    "plt.tick_params(axis = 'both', which = 'minor', direction = 'out', color = 'm',\n",
    "               labelcolor = 'r', bottom = True, left = True)\n",
    "plt.grid(which='major', color = 'm', linestyle = '--')\n",
    "\n",
    "plt.minorticks_on()\n",
    "plt.grid(which='minor', color = 'm', linestyle = ':')\n",
    "\n",
    "ax.set_xlabel('', fontsize = 20, color = 'midnightblue', fontstyle = 'oblique')\n",
    "ax.set_ylabel('', fontsize = 20, color = 'midnightblue', fontstyle = 'oblique')\n",
    "plt.setp(ax, xlabel = 'MIN_COUNT / WINDOW', ylabel = 'VALUES')\n",
    "plt.show()"
   ]
  },
  {
   "cell_type": "code",
   "execution_count": 275,
   "metadata": {},
   "outputs": [
    {
     "data": {
      "text/html": [
       "<div>\n",
       "<style scoped>\n",
       "    .dataframe tbody tr th:only-of-type {\n",
       "        vertical-align: middle;\n",
       "    }\n",
       "\n",
       "    .dataframe tbody tr th {\n",
       "        vertical-align: top;\n",
       "    }\n",
       "\n",
       "    .dataframe thead th {\n",
       "        text-align: right;\n",
       "    }\n",
       "</style>\n",
       "<table border=\"1\" class=\"dataframe\">\n",
       "  <thead>\n",
       "    <tr style=\"text-align: right;\">\n",
       "      <th></th>\n",
       "      <th>DCG@1</th>\n",
       "      <th>DCG@5</th>\n",
       "      <th>DCG@10</th>\n",
       "      <th>DCG@100</th>\n",
       "      <th>DCG@500</th>\n",
       "      <th>DCG@1000</th>\n",
       "      <th>Hits@1</th>\n",
       "      <th>Hits@5</th>\n",
       "      <th>Hits@10</th>\n",
       "      <th>Hits@100</th>\n",
       "      <th>Hits@500</th>\n",
       "      <th>Hits@1000</th>\n",
       "      <th>SUM</th>\n",
       "    </tr>\n",
       "  </thead>\n",
       "  <tbody>\n",
       "    <tr>\n",
       "      <th>Min_7/Win_9</th>\n",
       "      <td>0.421</td>\n",
       "      <td>0.509</td>\n",
       "      <td>0.536</td>\n",
       "      <td>0.58</td>\n",
       "      <td>0.592</td>\n",
       "      <td>0.595</td>\n",
       "      <td>0.421</td>\n",
       "      <td>0.587</td>\n",
       "      <td>0.669</td>\n",
       "      <td>0.884</td>\n",
       "      <td>0.976</td>\n",
       "      <td>1.0</td>\n",
       "      <td>7.77</td>\n",
       "    </tr>\n",
       "  </tbody>\n",
       "</table>\n",
       "</div>"
      ],
      "text/plain": [
       "             DCG@1  DCG@5  DCG@10  DCG@100  DCG@500  DCG@1000  Hits@1  Hits@5  \\\n",
       "Min_7/Win_9  0.421  0.509   0.536     0.58    0.592     0.595   0.421   0.587   \n",
       "\n",
       "             Hits@10  Hits@100  Hits@500  Hits@1000   SUM  \n",
       "Min_7/Win_9    0.669     0.884     0.976        1.0  7.77  "
      ]
     },
     "execution_count": 275,
     "metadata": {},
     "output_type": "execute_result"
    }
   ],
   "source": [
    "# Строка с максимальным значением Hits@1\n",
    "df2[df2['Hits@1']==df2['Hits@1'].max()]"
   ]
  },
  {
   "cell_type": "code",
   "execution_count": 276,
   "metadata": {},
   "outputs": [
    {
     "data": {
      "text/html": [
       "<div>\n",
       "<style scoped>\n",
       "    .dataframe tbody tr th:only-of-type {\n",
       "        vertical-align: middle;\n",
       "    }\n",
       "\n",
       "    .dataframe tbody tr th {\n",
       "        vertical-align: top;\n",
       "    }\n",
       "\n",
       "    .dataframe thead th {\n",
       "        text-align: right;\n",
       "    }\n",
       "</style>\n",
       "<table border=\"1\" class=\"dataframe\">\n",
       "  <thead>\n",
       "    <tr style=\"text-align: right;\">\n",
       "      <th></th>\n",
       "      <th>DCG@1</th>\n",
       "      <th>DCG@5</th>\n",
       "      <th>DCG@10</th>\n",
       "      <th>DCG@100</th>\n",
       "      <th>DCG@500</th>\n",
       "      <th>DCG@1000</th>\n",
       "      <th>Hits@1</th>\n",
       "      <th>Hits@5</th>\n",
       "      <th>Hits@10</th>\n",
       "      <th>Hits@100</th>\n",
       "      <th>Hits@500</th>\n",
       "      <th>Hits@1000</th>\n",
       "      <th>SUM</th>\n",
       "    </tr>\n",
       "  </thead>\n",
       "  <tbody>\n",
       "    <tr>\n",
       "      <th>Min_10/Win_10</th>\n",
       "      <td>0.416</td>\n",
       "      <td>0.513</td>\n",
       "      <td>0.535</td>\n",
       "      <td>0.581</td>\n",
       "      <td>0.593</td>\n",
       "      <td>0.595</td>\n",
       "      <td>0.416</td>\n",
       "      <td>0.597</td>\n",
       "      <td>0.666</td>\n",
       "      <td>0.886</td>\n",
       "      <td>0.979</td>\n",
       "      <td>1.0</td>\n",
       "      <td>7.777</td>\n",
       "    </tr>\n",
       "  </tbody>\n",
       "</table>\n",
       "</div>"
      ],
      "text/plain": [
       "               DCG@1  DCG@5  DCG@10  DCG@100  DCG@500  DCG@1000  Hits@1  \\\n",
       "Min_10/Win_10  0.416  0.513   0.535    0.581    0.593     0.595   0.416   \n",
       "\n",
       "               Hits@5  Hits@10  Hits@100  Hits@500  Hits@1000    SUM  \n",
       "Min_10/Win_10   0.597    0.666     0.886     0.979        1.0  7.777  "
      ]
     },
     "execution_count": 276,
     "metadata": {},
     "output_type": "execute_result"
    }
   ],
   "source": [
    "# Строка с максимальным значением суммы всех метрик (DCG@1 + DCG@5 + .... + Hits@500 + Hits@1000)\n",
    "df2[df2['SUM']==df2['SUM'].max()]"
   ]
  },
  {
   "cell_type": "markdown",
   "metadata": {},
   "source": [
    "###### Применим подобранные лучшие значения min_count, window и sg для рассчета значений метрик на разных токенайзерах."
   ]
  },
  {
   "cell_type": "code",
   "execution_count": 21,
   "metadata": {},
   "outputs": [],
   "source": [
    "embeddings_trained = Word2Vec(words, # data for model to train on\n",
    "            vector_size=200,         # embedding vector size\n",
    "            min_count=9,             # Ignores all words with total frequency lower than this. Consider words that occured at least 5 times\n",
    "            window=10,               # Maximum distance between the current and predicted word within a sentence\n",
    "            workers=4,               # Use these many worker threads to train the model\n",
    "            sg=1).wv                 # sg=0 - CBOW, sg=1 - Skip-Gram"
   ]
  },
  {
   "cell_type": "code",
   "execution_count": 74,
   "metadata": {},
   "outputs": [
    {
     "name": "stdout",
     "output_type": "stream",
     "text": [
      "MyTokenizer\n",
      "DCG@   1: 0.532 | Hits@   1: 0.532\n",
      "DCG@   5: 0.614 | Hits@   5: 0.683\n",
      "DCG@  10: 0.635 | Hits@  10: 0.749\n",
      "DCG@ 100: 0.670 | Hits@ 100: 0.913\n",
      "DCG@ 500: 0.680 | Hits@ 500: 0.986\n",
      "DCG@1000: 0.681 | Hits@1000: 1.000\n",
      "\n",
      "SpacyTokenizer\n",
      "DCG@   1: 0.508 | Hits@   1: 0.508\n",
      "DCG@   5: 0.592 | Hits@   5: 0.667\n",
      "DCG@  10: 0.610 | Hits@  10: 0.724\n",
      "DCG@ 100: 0.646 | Hits@ 100: 0.894\n",
      "DCG@ 500: 0.656 | Hits@ 500: 0.974\n",
      "DCG@1000: 0.659 | Hits@1000: 1.000\n",
      "\n",
      "WordPunctTokenizer\n",
      "DCG@   1: 0.505 | Hits@   1: 0.505\n",
      "DCG@   5: 0.598 | Hits@   5: 0.678\n",
      "DCG@  10: 0.614 | Hits@  10: 0.730\n",
      "DCG@ 100: 0.651 | Hits@ 100: 0.906\n",
      "DCG@ 500: 0.661 | Hits@ 500: 0.979\n",
      "DCG@1000: 0.663 | Hits@1000: 1.000\n",
      "\n"
     ]
    }
   ],
   "source": [
    "tokenizers = [MyTokenizer(), SpacyTokenizer(), WordPunctTokenizer()]\n",
    "count=0\n",
    "\n",
    "for tokenizer in tokenizers:\n",
    "    wv_ranking = []\n",
    "    max_validation_examples = 1000\n",
    "    for i, line in enumerate(validation_data):\n",
    "        if i == max_validation_examples:\n",
    "            break\n",
    "        q, *ex = line\n",
    "        ranks = rank_candidates(q, ex, embeddings_trained, tokenizer)\n",
    "        wv_ranking.append([r[0] for r in ranks].index(0) + 1)\n",
    "    if count < 2:\n",
    "        print(str(tokenizer).split(\".\")[1].split(\" \")[0])\n",
    "    else:\n",
    "        print(str(tokenizer).split(\"(\")[0])\n",
    "    for k in [1, 5, 10, 100, 500, 1000]:\n",
    "        print(\"DCG@%4d: %.3f | Hits@%4d: %.3f\" % (k, dcg_score(wv_ranking, k), k, hits_count(wv_ranking, k)))\n",
    "    print()\n",
    "    count+=1"
   ]
  },
  {
   "cell_type": "markdown",
   "metadata": {},
   "source": [
    "#### Эмбеддинги с нормализацией (лемматизацией)"
   ]
  },
  {
   "cell_type": "code",
   "execution_count": 98,
   "metadata": {},
   "outputs": [],
   "source": [
    "def preproc_nltk_lemma(text):\n",
    "    text = ' '.join([word for word in word_tokenize(text.lower()) if word not in stopWords])\n",
    "    return SpacyTokenizer().tokenize(text)\n",
    "words_lemma = [preproc_nltk_lemma(question) for question in couple_list]"
   ]
  },
  {
   "cell_type": "code",
   "execution_count": 99,
   "metadata": {},
   "outputs": [
    {
     "name": "stdout",
     "output_type": "stream",
     "text": [
      "['convert', 'string', 'list', 'convert', 'google', 'result', 'object', '(', 'pure', 'js', ')', 'python', 'object']\n",
      "\n",
      "['html', '5', 'canvas', 'javascript', 'use', 'make', 'interactive', 'drawing', 'tool', '?', 'event', 'handling', 'geometry', 'three.js', '?']\n",
      "\n",
      "['send', 'array', 'via', 'ajax', 'fail', 'get', 'list', 'item', 'unordered', 'list', 'php']\n",
      "\n",
      "['insert', 'cookiecollection', 'cookiecontainer', '?', 'c', '#', 'create', 'cookie', 'string', 'send']\n",
      "\n",
      "['update', 'one', 'element', 'bind', 'observable', 'collection', 'wpf-', 'update', 'change', 'list', 'item', 'list']\n",
      "\n"
     ]
    }
   ],
   "source": [
    "for i in range(5):\n",
    "    print(words_lemma[i])\n",
    "    print()"
   ]
  },
  {
   "cell_type": "markdown",
   "metadata": {},
   "source": [
    "Обучим эмбеддинги с нормализацией на полученных ранее оптимальных параметрах:"
   ]
  },
  {
   "cell_type": "code",
   "execution_count": 100,
   "metadata": {},
   "outputs": [],
   "source": [
    "embeddings_trained_lemma = Word2Vec(words_lemma, # data for model to train on\n",
    "            vector_size=200,         # embedding vector size\n",
    "            min_count=9,             # Ignores all words with total frequency lower than this. Consider words that occured at least 5 times\n",
    "            window=10,               # Maximum distance between the current and predicted word within a sentence\n",
    "            workers=4,               # Use these many worker threads to train the model\n",
    "            sg=1).wv                 # sg=0 - CBOW, sg=1 - Skip-Gram"
   ]
  },
  {
   "cell_type": "markdown",
   "metadata": {},
   "source": [
    "Проверим качество ранжирования для каждого из трёх токенайзеров:"
   ]
  },
  {
   "cell_type": "code",
   "execution_count": 101,
   "metadata": {},
   "outputs": [
    {
     "name": "stdout",
     "output_type": "stream",
     "text": [
      "MyTokenizer\n",
      "DCG@   1: 0.366 | Hits@   1: 0.366\n",
      "DCG@   5: 0.441 | Hits@   5: 0.507\n",
      "DCG@  10: 0.459 | Hits@  10: 0.563\n",
      "DCG@ 100: 0.500 | Hits@ 100: 0.764\n",
      "DCG@ 500: 0.522 | Hits@ 500: 0.940\n",
      "DCG@1000: 0.529 | Hits@1000: 1.000\n",
      "\n",
      "SpacyTokenizer\n",
      "DCG@   1: 0.375 | Hits@   1: 0.375\n",
      "DCG@   5: 0.452 | Hits@   5: 0.520\n",
      "DCG@  10: 0.472 | Hits@  10: 0.583\n",
      "DCG@ 100: 0.512 | Hits@ 100: 0.779\n",
      "DCG@ 500: 0.533 | Hits@ 500: 0.940\n",
      "DCG@1000: 0.539 | Hits@1000: 1.000\n",
      "\n",
      "WordPunctTokenizer\n",
      "DCG@   1: 0.352 | Hits@   1: 0.352\n",
      "DCG@   5: 0.428 | Hits@   5: 0.492\n",
      "DCG@  10: 0.447 | Hits@  10: 0.552\n",
      "DCG@ 100: 0.487 | Hits@ 100: 0.753\n",
      "DCG@ 500: 0.511 | Hits@ 500: 0.937\n",
      "DCG@1000: 0.517 | Hits@1000: 1.000\n",
      "\n"
     ]
    }
   ],
   "source": [
    "tokenizers = [MyTokenizer(), SpacyTokenizer(), WordPunctTokenizer()]\n",
    "count=0\n",
    "\n",
    "for tokenizer in tokenizers:\n",
    "    wv_ranking = []\n",
    "    max_validation_examples = 1000\n",
    "    for i, line in enumerate(validation_data):\n",
    "        if i == max_validation_examples:\n",
    "            break\n",
    "        q, *ex = line\n",
    "        ranks = rank_candidates(q, ex, embeddings_trained_lemma, tokenizer)\n",
    "        wv_ranking.append([r[0] for r in ranks].index(0) + 1)\n",
    "    if count < 2:\n",
    "        print(str(tokenizer).split(\".\")[1].split(\" \")[0])\n",
    "    else:\n",
    "        print(str(tokenizer).split(\"(\")[0])\n",
    "    for k in [1, 5, 10, 100, 500, 1000]:\n",
    "        print(\"DCG@%4d: %.3f | Hits@%4d: %.3f\" % (k, dcg_score(wv_ranking, k), k, hits_count(wv_ranking, k)))\n",
    "    print()\n",
    "    count+=1"
   ]
  },
  {
   "cell_type": "markdown",
   "metadata": {
    "id": "tY8PxB0j-ThG"
   },
   "source": [
    "### Замечание:\n",
    "Решить эту задачу с помощью обучения полноценной нейронной сети будет вам предложено, как часть задания в одной из домашних работ по теме \"Диалоговые системы\"."
   ]
  },
  {
   "cell_type": "markdown",
   "metadata": {
    "id": "vymVj8IxO2PO"
   },
   "source": [
    "Напишите свой вывод о полученных результатах.\n",
    "* Какой принцип токенизации даёт качество лучше и почему?\n",
    "* Помогает ли нормализация слов?\n",
    "* Какие эмбеддинги лучше справляются с задачей и почему?\n",
    "* Почему получилось плохое качество решения задачи?\n",
    "* Предложите свой подход к решению задачи.\n",
    "\n",
    "## Вывод:\n"
   ]
  },
  {
   "cell_type": "markdown",
   "metadata": {
    "id": "emODHztAQUQz"
   },
   "source": [
    "- Лучшее качество дает токенизация, основанная на регулярных выражениях и возвращающая слова без знаков пунктуации и без применения нормализации, потому что для используемого текста лемматизация дает более худшее ранжирование.\n",
    "- Нормализация (лемматизация) слов в данном конкретном случае не помогла и ухудшила полученные метрики.\n",
    "- С задачей лучше всего справляются эмбеддинги с применением технологии Skip-Gram, в которой распределенное представление входного слова используется для прогнозирования контекста. В модели Skip Gram контекстные слова предсказываются с использованием базового слова. Skip-Gram хорошо работает с небольшим объемом обучающих данных, хорошо представляет даже редкие слова или фразы. Модель с CBOW (Continuous Bag of Words), в которой распределенные представления контекста (или окружающих слов) объединяются для прогнозирования слова в середине, показала более худшие результаты. Но при этом CBOW обучается в несколько раз быстрее, чем Skip-Gram, и для частых слов может показать немного лучшую точность. Также более лучшее качество показали эмбеддинги с большим размером гипер-параметра window, характеризующим максимальное расстояние между текущим и прогнозируемым словом в предложении. Гипер-параметр min_count позволяет игнорировать слова, встречающиеся в тексте более чем n раз. Его увеличение приводит к незначительному росту метрик DCG и Hits при прочих равных параметрах. Эмбеддинги с лемматизацией показали более худшие результаты применительно к данному конкретному тексту, вероятно, потому что данный текст является \"техническим\". Предобученные эмбеддинги показали схожие значения метрик по сравнению с обучаемыми только в диапазоне с min_count=1, window=1, sg=1 (Skip Gram) и оказались хуже всех остальных метрик при увеличении min_count и window. Однако, они превосходят или равны почти всем полученным значениям метрик в случае использования CBOW.\n",
    "- Плохое качество решения задачи получилось, потому что word2vec не является современным решением. Оно разработано в 2013 году и имеет определенные недостатки: нет информации о предложении или контексте, в котором используется слово, игнорируется совместная встречаемость слов, модель не учитывает то, что слово может иметь различное значение в зависимости от контекста использования, не очень хорошо обрабатывает неизвестные и редкие слова. (по материалам статьи Ilias Miraoui - Master of Engineering Student at Berkeley)\n",
    "- В качестве улучшения решения можно предложить переход на использование модели GloVe (Global Vectors), которая улучшает Word2Vec, добавляет частоту встречаемости слов и опережает Word2Vec на большинстве бенчмарков. Еще один подход для улучшения результатов - использование библиотеки fastText, которая к основной модели Word2Vec добавлет модель символьных n-грамм. При этом в отличие от Word2Vec и Glove, модель способна генерировать эмбеддинги и для неизвестных слов."
   ]
  },
  {
   "cell_type": "code",
   "execution_count": null,
   "metadata": {},
   "outputs": [],
   "source": []
  }
 ],
 "metadata": {
  "colab": {
   "collapsed_sections": [
    "BIWqBuEa6j0b",
    "uS9FwWNd5a3S",
    "MQk_rolFwT_h",
    "ai48-5vv6j1d",
    "Y60z4t6W6j16",
    "0sUSxk866j1_",
    "J5xWOORI6j2F",
    "tHZqgDTo6j0i",
    "ySQQp0oQt1Ep",
    "LL6_Rjg3InL8"
   ],
   "name": "[homework]simple_embeddings.ipynb",
   "provenance": []
  },
  "kernelspec": {
   "display_name": "Python 3",
   "language": "python",
   "name": "python3"
  },
  "language_info": {
   "codemirror_mode": {
    "name": "ipython",
    "version": 3
   },
   "file_extension": ".py",
   "mimetype": "text/x-python",
   "name": "python",
   "nbconvert_exporter": "python",
   "pygments_lexer": "ipython3",
   "version": "3.8.8"
  }
 },
 "nbformat": 4,
 "nbformat_minor": 1
}
