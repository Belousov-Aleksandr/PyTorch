{
 "cells": [
  {
   "cell_type": "markdown",
   "metadata": {
    "id": "tWJTCBu4Tveb"
   },
   "source": [
    "<h3 style=\"text-align: center;\"><b>Физтех-Школа Прикладной математики и информатики (ФПМИ) МФТИ</b></h3>"
   ]
  },
  {
   "cell_type": "markdown",
   "metadata": {
    "id": "Kmb8UhIzOnfK"
   },
   "source": [
    "# Text Summarization\n",
    "\n",
    "Суммаризация текста на примере генерации \"сжатых\" новостей. Рассмотрим некоторые базовые решения и познакомимся с архитектурами нейросетей для решения задачи.\n",
    "Датасет: gazeta.ru\n",
    "\n",
    "Загрузим датасет и необходимые библиотеки"
   ]
  },
  {
   "cell_type": "code",
   "execution_count": 1,
   "metadata": {
    "id": "SXS1sdYZCluU"
   },
   "outputs": [],
   "source": [
    "from IPython.display import clear_output\n",
    "!pip -q install razdel networkx pymorphy2 nltk rouge==0.3.1 summa\n",
    "!pip install youtokentome\n",
    "clear_output()"
   ]
  },
  {
   "cell_type": "code",
   "execution_count": 2,
   "metadata": {
    "id": "FwO834E6WdQI"
   },
   "outputs": [],
   "source": [
    "import json\n",
    "import random\n",
    "import youtokentome as yttm\n",
    "from nltk.translate.bleu_score import corpus_bleu\n",
    "from rouge import Rouge\n",
    "import razdel\n",
    "from tqdm.notebook import tqdm\n",
    "import copy\n",
    "import math\n",
    "import numpy as np\n",
    "import os\n",
    "\n",
    "import torch\n",
    "import torch.nn as nn\n",
    "import torch.nn.functional as F\n",
    "import torch.optim as optim\n",
    "from torch.autograd import Variable\n",
    "from torch.nn.utils.rnn import pack_padded_sequence as pack\n",
    "from torch.nn.utils.rnn import pad_packed_sequence as unpack\n",
    "\n",
    "from sklearn.preprocessing import minmax_scale\n",
    "\n",
    "import matplotlib\n",
    "import time\n",
    "import re\n",
    "matplotlib.rcParams.update({'figure.figsize': (16, 12), 'font.size': 14})\n",
    "import matplotlib.pyplot as plt"
   ]
  },
  {
   "cell_type": "code",
   "execution_count": 3,
   "metadata": {
    "id": "3QVCmnFGT0k4"
   },
   "outputs": [],
   "source": [
    "# фиксация SEED\n",
    "SEED = 42\n",
    "\n",
    "random.seed(SEED)\n",
    "np.random.seed(SEED)\n",
    "torch.manual_seed(SEED)\n",
    "torch.cuda.manual_seed(SEED)\n",
    "torch.backends.cudnn.deterministic = True"
   ]
  },
  {
   "cell_type": "code",
   "execution_count": 4,
   "metadata": {
    "id": "OqkLTkFRfXvA"
   },
   "outputs": [],
   "source": [
    "!wget -q https://www.dropbox.com/s/43l702z5a5i2w8j/gazeta_train.txt\n",
    "!wget -q https://www.dropbox.com/s/k2egt3sug0hb185/gazeta_val.txt\n",
    "!wget -q https://www.dropbox.com/s/3gki5n5djs9w0v6/gazeta_test.txt\n",
    "clear_output()"
   ]
  },
  {
   "cell_type": "code",
   "execution_count": 5,
   "metadata": {
    "colab": {
     "base_uri": "https://localhost:8080/"
    },
    "id": "OyUAtZA9WyL-",
    "outputId": "f9b767bc-1eb2-4389-d671-c90ab2abadb2"
   },
   "outputs": [
    {
     "name": "stdout",
     "output_type": "stream",
     "text": [
      "CUDA is available!  Training on GPU ...\n"
     ]
    },
    {
     "data": {
      "text/plain": [
       "device(type='cuda', index=0)"
      ]
     },
     "execution_count": 5,
     "metadata": {},
     "output_type": "execute_result"
    }
   ],
   "source": [
    "train_on_gpu = torch.cuda.is_available()\n",
    "\n",
    "if not train_on_gpu:\n",
    "    print('CUDA is not available.  Training on CPU ...')\n",
    "else:\n",
    "    print('CUDA is available!  Training on GPU ...')\n",
    "\n",
    "# Определяем на чем у нас будут производиться вычисления (cuda/cpu)\n",
    "device = torch.device('cuda:0') if torch.cuda.is_available() else torch.device('cpu')  \n",
    "device"
   ]
  },
  {
   "cell_type": "code",
   "execution_count": 6,
   "metadata": {
    "colab": {
     "base_uri": "https://localhost:8080/"
    },
    "id": "16pgJGsjXBdI",
    "outputId": "260b41a3-b15a-4af6-d07d-98c6701f19f2"
   },
   "outputs": [
    {
     "name": "stdout",
     "output_type": "stream",
     "text": [
      "Sun Jun 12 09:58:11 2022       \n",
      "+-----------------------------------------------------------------------------+\n",
      "| NVIDIA-SMI 460.32.03    Driver Version: 460.32.03    CUDA Version: 11.2     |\n",
      "|-------------------------------+----------------------+----------------------+\n",
      "| GPU  Name        Persistence-M| Bus-Id        Disp.A | Volatile Uncorr. ECC |\n",
      "| Fan  Temp  Perf  Pwr:Usage/Cap|         Memory-Usage | GPU-Util  Compute M. |\n",
      "|                               |                      |               MIG M. |\n",
      "|===============================+======================+======================|\n",
      "|   0  Tesla T4            Off  | 00000000:00:04.0 Off |                    0 |\n",
      "| N/A   41C    P8     9W /  70W |      3MiB / 15109MiB |      0%      Default |\n",
      "|                               |                      |                  N/A |\n",
      "+-------------------------------+----------------------+----------------------+\n",
      "                                                                               \n",
      "+-----------------------------------------------------------------------------+\n",
      "| Processes:                                                                  |\n",
      "|  GPU   GI   CI        PID   Type   Process name                  GPU Memory |\n",
      "|        ID   ID                                                   Usage      |\n",
      "|=============================================================================|\n",
      "|  No running processes found                                                 |\n",
      "+-----------------------------------------------------------------------------+\n"
     ]
    }
   ],
   "source": [
    "!nvidia-smi"
   ]
  },
  {
   "cell_type": "markdown",
   "metadata": {
    "id": "Wa0NfryxbPUP"
   },
   "source": [
    "## Dataset"
   ]
  },
  {
   "cell_type": "markdown",
   "metadata": {
    "id": "eesnclfDDV3F"
   },
   "source": [
    "Посмотрим на то, как устроен датасет"
   ]
  },
  {
   "cell_type": "code",
   "execution_count": 7,
   "metadata": {
    "colab": {
     "base_uri": "https://localhost:8080/"
    },
    "id": "Mz6CZYKQhnd-",
    "outputId": "a6106045-d14c-4f82-bb42-36518dacd520"
   },
   "outputs": [
    {
     "name": "stdout",
     "output_type": "stream",
     "text": [
      "{\"url\": \"https://www.gazeta.ru/financial/2011/11/30/3852658.shtml\", \"text\": \"«По итогам 2011 года чистый отток может составить примерно $80 млрд, в следующем году — около $20 млрд. При этом мы ожидаем, что со второго полугодия 2012 года начнется приток капитала», — заявил «Интерфаксу» замминистра экономического развития Андрей Клепач. Официальные прогнозы по выводу капитала из России становятся все пессимистичными: еще летом власти полагали, что из страны уйдет не более $35 млрд, в сентябре Минэкономразвития назвал цифру $50 млрд, в начале ноября Центробанк пересмотрел оценку до $70 млрд. Очередное изменение прогноза было ожидаемо: по расчетам Центробанка , за январь — октябрь чистый отток капитала достиг $64 млрд, причем в последние месяцы он ускорился: в сентябре он составил $14 млрд, в октябре — $13 млрд против среднего ежемесячного оттока в $6—8 млрд в первом полугодии. «После октябрьских данных Минэкономразвития вынуждено было изменить оценку, настаивать на $70 млрд означало ожидать серьезного замедления оттока капитала на непонятно каких причинах», — говорит главный экономист BNP Paribas Юлия Цепляева. «В последние два месяца отток капитала ускорится, на декабрь приходится значительная часть выплат по внешним долгам, что приводит к усилению оттока, особенно если они не рефинансируются новыми кредитами», — соглашается главный экономист ФК «Открытие» Владимир Тихомиров. Прогнозируемый Минэкономразвития отток капитала — один из самых высоких за последние 20 лет. Больше ушло лишь в 2008 году на фоне разрастания финансового кризиса и российско-грузинской войны — $133,7 млрд. В кризисный 2009 год из России утекло $56,1 млрд. Главный фактор ускорения оттока капитала в 2011 году — нестабильность на внешних финансовых рынках и рост опасений относительно второй волны рецессии. «Это реакция на неуверенность, которую генерирует Европа с долговыми проблемами. В случае новой волны глобальной турбулентности Россия — одна из самых уязвимых стран», — говорит Цепляева. Еще одна причина — ослабление рубля. «Привлекательность вложений снижается на фоне того, что рубль перестал укрепляться, а ставки по депозитам достаточно низкие. В результате экспортеры не полностью возвращают экспортную выручку», — говорит Тихомиров. Внутри страны эксперты не видят особых причин для бегства капитала. «Ситуация выглядит достаточно позитивно, очень хорошие макроэкономические результаты за год, особенно на фоне других стран. С политической точки зрения все достаточно понятно и предсказуемо, итог выборов очевиден», — говорит экономист ИК «Тройка Диалог» Антон Струченевский. Тем не менее политический фактор играет роль. «Бизнесу важно не только, кто будет президентом, он ждет ясности с перестановками в правительстве. В наших условиях административный ресурс важнее всего для успешности бизнеса», — говорит Цепляева, добавляя, что отток капитала продолжится до завершения президентских выборов.\", \"title\": \"Прогноз не успевает за оттоком\", \"summary\": \"В 2011 году из России уйдет $80 млрд, считают в Минэкономразвития. Менее месяца назад Центробанк давал оценку $70 млрд, повысив первоначальный прогноз вдвое. Отток капитала из страны усиливается из-за кризиса в Европе, а в декабре российским компаниям выплачивать внешние долги. На движение капитала повлияли и выборы: несмотря на их предсказуемость, бизнес хочет ясности с перестановками в правительстве.\", \"date\": \"2011-11-30 18:33:39\"}\n",
      "52400\n",
      "5265\n",
      "5770\n"
     ]
    }
   ],
   "source": [
    "!head -n 1 gazeta_train.txt\n",
    "!cat gazeta_train.txt | wc -l\n",
    "!cat gazeta_val.txt | wc -l\n",
    "!cat gazeta_test.txt | wc -l"
   ]
  },
  {
   "cell_type": "code",
   "execution_count": 8,
   "metadata": {
    "id": "5pZ2UGS2DGjH"
   },
   "outputs": [],
   "source": [
    "def read_gazeta_records(file_name, shuffle=True, sort_by_date=False):\n",
    "    assert shuffle != sort_by_date\n",
    "    records = []\n",
    "    with open(file_name, \"r\") as r:\n",
    "        for line in r:\n",
    "            records.append(json.loads(line))\n",
    "    if sort_by_date:\n",
    "        records.sort(key=lambda x: x[\"date\"])\n",
    "    if shuffle:\n",
    "        random.shuffle(records)\n",
    "    return records"
   ]
  },
  {
   "cell_type": "code",
   "execution_count": 9,
   "metadata": {
    "id": "GNDp-BunEA91"
   },
   "outputs": [],
   "source": [
    "train_records = read_gazeta_records(\"gazeta_train.txt\")\n",
    "val_records = read_gazeta_records(\"gazeta_val.txt\")\n",
    "test_records = read_gazeta_records(\"gazeta_test.txt\")"
   ]
  },
  {
   "cell_type": "code",
   "execution_count": 10,
   "metadata": {
    "id": "397gjsNfFBZ_"
   },
   "outputs": [],
   "source": [
    "def calc_scores(references, predictions, metric=\"all\"):\n",
    "    print(\"Count:\", len(predictions))\n",
    "    print(\"Ref:\", references[-1])\n",
    "    print(\"Hyp:\", predictions[-1])\n",
    "\n",
    "    if metric in (\"bleu\", \"all\"):\n",
    "        print(\"BLEU: \", corpus_bleu([[r] for r in references], predictions))\n",
    "    if metric in (\"rouge\", \"all\"):\n",
    "        rouge = Rouge()\n",
    "        scores = rouge.get_scores(predictions, references, avg=True)\n",
    "        print(\"ROUGE: \", scores)"
   ]
  },
  {
   "cell_type": "markdown",
   "metadata": {
    "id": "aaJKNsUGFBaA"
   },
   "source": [
    "## Extractive RNN"
   ]
  },
  {
   "cell_type": "markdown",
   "metadata": {
    "id": "l3izlm8HFBaC"
   },
   "source": [
    "### BPE\n",
    "Для начала сделаем BPE токенизацию"
   ]
  },
  {
   "cell_type": "code",
   "execution_count": 11,
   "metadata": {
    "id": "Yg9T6q0wFBaF"
   },
   "outputs": [],
   "source": [
    "def train_bpe(records, model_path, model_type=\"bpe\", vocab_size=10000, lower=True):\n",
    "    temp_file_name = \"temp.txt\"\n",
    "    with open(temp_file_name, \"w\") as temp:\n",
    "        for record in records:\n",
    "            text, summary = record['text'], record['summary']\n",
    "            if lower:\n",
    "                summary = summary.lower()\n",
    "                text = text.lower()\n",
    "            if not text or not summary:\n",
    "                continue\n",
    "            temp.write(text + \"\\n\")\n",
    "            temp.write(summary + \"\\n\")\n",
    "    yttm.BPE.train(data=temp_file_name, vocab_size=vocab_size, model=model_path)\n",
    "\n",
    "train_bpe(train_records, \"BPE_model.bin\")"
   ]
  },
  {
   "cell_type": "markdown",
   "metadata": {
    "id": "jJFAJHTtFBaF"
   },
   "source": [
    "### Словарь\n",
    "Составим словарь для индексации токенов"
   ]
  },
  {
   "cell_type": "code",
   "execution_count": 12,
   "metadata": {
    "id": "MueXtatmFBaG"
   },
   "outputs": [],
   "source": [
    "bpe_processor = yttm.BPE('BPE_model.bin')\n",
    "vocabulary = bpe_processor.vocab()"
   ]
  },
  {
   "cell_type": "markdown",
   "metadata": {
    "id": "Z_C_p7tHFBaH"
   },
   "source": [
    "### Кэш oracle summary\n",
    "Закэшируем oracle summary, чтобы не пересчитывать их каждый раз"
   ]
  },
  {
   "cell_type": "code",
   "execution_count": 13,
   "metadata": {
    "colab": {
     "base_uri": "https://localhost:8080/",
     "height": 119,
     "referenced_widgets": [
      "f685af33f30641c3a7748055889735b9",
      "ce408e42ec60499ab70b08419f4ba4a8",
      "a1c7e56bfbe04fcebf4bc4630a8dc246",
      "9f9b84b6da494f21bf9355fc2f06b833",
      "5c3fe8bfd6ba46d583aa840568f43e86",
      "8e3b02911605486a9728833cfcde4181",
      "dd07dd4af55040c9af1d3b092234c60e",
      "5a9036fe34b44f5f86232dbe71b30cd4",
      "4342980193114cceb3cc871eaeb6f651",
      "8357ebe3c260419eb58bdcae946f776a",
      "78a3f4154ee340acb57ba40ed14f6f93",
      "e2d49cdfe422414a873fcc36d13cb0ec",
      "85c35253f55b4c608caddc371b3d1494",
      "4b29e97fabd74fea9c2e45a1668cf4ed",
      "3abe49bef0b44456b86ff5c8ecaec6ae",
      "a0eea8faa4234c95b053bbd473a7d526",
      "64bccb899a7348649b9f9fb1ff169507",
      "200c9d6fa70648b2917dcd85001740d1",
      "56bc5f6da9734bcc8d6df691a64ec3c8",
      "3f4692e0c3814364a2e1dba7947a53cd",
      "49d8eed23498449ca5a6e5fd491361b5",
      "7d4ef9892dc144899d2a00555aa75349",
      "e36e0519cb484752a0616c192903c392",
      "5ab446dfdb9f41bebb504f0f44e6fe0a",
      "915270cc25724dcabb18779e4b1f8fe8",
      "a9044743cd094564a29fa4020df1ba7f",
      "32f724270b614855b691cb7338c3ee6a",
      "43c237a6422b4bdeb32b65838fd033de",
      "a8d4eff3041e4b2f9ca0fe608b629fc8",
      "963c405588f8448f984edfb693ad2c7e",
      "65bad71fdd534716bcf2598e0cedadce",
      "32e5625802744f3f96fada6cbb429cac",
      "aaa3d9e464be467096fcbf5a722fe8d6"
     ]
    },
    "id": "Fp23tuPbFBaH",
    "outputId": "0abfe30f-417e-4ae4-84f6-a2fb75d0d7c9"
   },
   "outputs": [
    {
     "data": {
      "application/vnd.jupyter.widget-view+json": {
       "model_id": "f685af33f30641c3a7748055889735b9",
       "version_major": 2,
       "version_minor": 0
      },
      "text/plain": [
       "0it [00:00, ?it/s]"
      ]
     },
     "metadata": {},
     "output_type": "display_data"
    },
    {
     "data": {
      "application/vnd.jupyter.widget-view+json": {
       "model_id": "e2d49cdfe422414a873fcc36d13cb0ec",
       "version_major": 2,
       "version_minor": 0
      },
      "text/plain": [
       "0it [00:00, ?it/s]"
      ]
     },
     "metadata": {},
     "output_type": "display_data"
    },
    {
     "data": {
      "application/vnd.jupyter.widget-view+json": {
       "model_id": "e36e0519cb484752a0616c192903c392",
       "version_major": 2,
       "version_minor": 0
      },
      "text/plain": [
       "0it [00:00, ?it/s]"
      ]
     },
     "metadata": {},
     "output_type": "display_data"
    }
   ],
   "source": [
    "def build_oracle_summary_greedy(text, gold_summary, calc_score, lower=True, max_sentences=30):\n",
    "    '''\n",
    "    Жадное построение oracle summary\n",
    "    '''\n",
    "    gold_summary = gold_summary.lower() if lower else gold_summary\n",
    "    # Делим текст на предложения\n",
    "    sentences = [sentence.text.lower() if lower else sentence.text for sentence in razdel.sentenize(text)][:max_sentences]\n",
    "    n_sentences = len(sentences)\n",
    "    oracle_summary_sentences = set()\n",
    "    \n",
    "    score = -1.0\n",
    "    summaries = []\n",
    "    for _ in range(n_sentences):\n",
    "        for i in range(n_sentences):\n",
    "            if i in oracle_summary_sentences:\n",
    "                continue\n",
    "            current_summary_sentences = copy.copy(oracle_summary_sentences)\n",
    "            # Добавляем какое-то предложения к уже существующему summary\n",
    "            current_summary_sentences.add(i)\n",
    "            current_summary = \" \".join([sentences[index] for index in sorted(list(current_summary_sentences))])\n",
    "            # Считаем метрики\n",
    "            current_score = calc_score(current_summary, gold_summary)\n",
    "            summaries.append((current_score, current_summary_sentences))\n",
    "        # Если получилось улучшить метрики с добавлением какого-либо предложения, то пробуем добавить ещё\n",
    "        # Иначе на этом заканчиваем\n",
    "        best_summary_score, best_summary_sentences = max(summaries)\n",
    "        if best_summary_score <= score:\n",
    "            break\n",
    "        oracle_summary_sentences = best_summary_sentences\n",
    "        score = best_summary_score\n",
    "    oracle_summary = \" \".join([sentences[index] for index in sorted(list(oracle_summary_sentences))])\n",
    "    return oracle_summary, oracle_summary_sentences\n",
    "\n",
    "def calc_single_score(pred_summary, gold_summary, rouge):\n",
    "    return rouge.get_scores([pred_summary], [gold_summary], avg=True)['rouge-2']['f']\n",
    "\n",
    "def add_oracle_summary_to_records(records, max_sentences=30, lower=True, nrows=1000):\n",
    "    rouge = Rouge()\n",
    "    for i, record in tqdm(enumerate(records)):\n",
    "        if i >= nrows:\n",
    "            break\n",
    "        text = record[\"text\"]\n",
    "        summary = record[\"summary\"]\n",
    "\n",
    "        summary = summary.lower() if lower else summary\n",
    "        sentences = [sentence.text.lower() if lower else sentence.text for sentence in razdel.sentenize(text)][:max_sentences]\n",
    "        oracle_summary, sentences_indicies = build_oracle_summary_greedy(text, summary, calc_score=lambda x, y: calc_single_score(x, y, rouge),\n",
    "                                                                         lower=lower, max_sentences=max_sentences)\n",
    "        record[\"sentences\"] = sentences\n",
    "        record[\"oracle_sentences\"] = list(sentences_indicies)\n",
    "        record[\"oracle_summary\"] = oracle_summary\n",
    "\n",
    "    return records[:nrows]\n",
    "\n",
    "ext_train_records = add_oracle_summary_to_records(train_records, nrows=2048)\n",
    "ext_val_records = add_oracle_summary_to_records(val_records, nrows=256)\n",
    "ext_test_records = add_oracle_summary_to_records(test_records, nrows=256)"
   ]
  },
  {
   "cell_type": "markdown",
   "metadata": {
    "id": "UlXXc8qUHC5m"
   },
   "source": [
    "### Составление батчей"
   ]
  },
  {
   "cell_type": "code",
   "execution_count": 14,
   "metadata": {
    "id": "MNyxstTChK3C"
   },
   "outputs": [],
   "source": [
    "class BatchIterator():\n",
    "    def __init__(self, records, vocabulary, batch_size, bpe_processor, shuffle=True, lower=True, max_sentences=30, max_sentence_length=50, device=torch.device('cpu')):\n",
    "        self.records = records\n",
    "        self.num_samples = len(records)\n",
    "        self.batch_size = batch_size\n",
    "        self.bpe_processor = bpe_processor\n",
    "        self.shuffle = shuffle\n",
    "        self.batches_count = int(math.ceil(self.num_samples / batch_size))\n",
    "        self.lower = lower\n",
    "        self.rouge = Rouge()\n",
    "        self.vocabulary = vocabulary\n",
    "        self.max_sentences = max_sentences\n",
    "        self.max_sentence_length = max_sentence_length\n",
    "        self.device = device\n",
    "        \n",
    "    def __len__(self):\n",
    "        return self.batches_count\n",
    "    \n",
    "    def __iter__(self):\n",
    "        indices = np.arange(self.num_samples)\n",
    "        if self.shuffle:\n",
    "            np.random.shuffle(indices)\n",
    "\n",
    "        for start in range(0, self.num_samples, self.batch_size):\n",
    "            end = min(start + self.batch_size, self.num_samples)\n",
    "            batch_indices = indices[start:end]\n",
    "\n",
    "            batch_inputs = []\n",
    "            batch_outputs = []\n",
    "            max_sentence_length = 0\n",
    "            max_sentences = 0\n",
    "            batch_records = []\n",
    "\n",
    "            for data_ind in batch_indices:\n",
    "                \n",
    "                record = self.records[data_ind]\n",
    "                batch_records.append(record)\n",
    "                text = record[\"text\"]\n",
    "                summary = record[\"summary\"]\n",
    "                summary = summary.lower() if self.lower else summary\n",
    "\n",
    "                if \"sentences\" not in record:\n",
    "                    sentences = [sentence.text.lower() if self.lower else sentence.text for sentence in razdel.sentenize(text)][:self.max_sentences]\n",
    "                else:\n",
    "                    sentences = record[\"sentences\"]\n",
    "                max_sentences = max(len(sentences), max_sentences)\n",
    "                \n",
    "                # номера предложений, которые в нашем саммари\n",
    "                if \"oracle_sentences\" not in record:\n",
    "                    calc_score = lambda x, y: calc_single_score(x, y, self.rouge)\n",
    "                    sentences_indicies = build_oracle_summary_greedy(text, summary, calc_score=calc_score, lower=self.lower, max_sentences=self.max_sentences)[1]\n",
    "                else:   \n",
    "                    sentences_indicies = record[\"oracle_sentences\"]\n",
    "                \n",
    "                # inputs - индексы слов в предложении\n",
    "                inputs = [bpe_processor.encode(sentence)[:self.max_sentence_length] for sentence in sentences]\n",
    "                max_sentence_length = max(max_sentence_length, max([len(tokens) for tokens in inputs]))\n",
    "                \n",
    "                # получение метки класса предложения\n",
    "                outputs = [int(i in sentences_indicies) for i in range(len(sentences))]\n",
    "                batch_inputs.append(inputs)\n",
    "                batch_outputs.append(outputs)\n",
    "\n",
    "            tensor_inputs = torch.zeros((self.batch_size, max_sentences, max_sentence_length), dtype=torch.long, device=self.device)\n",
    "            # we add index 2 for padding\n",
    "            # YOUR CODE\n",
    "            tensor_outputs = torch.ones((self.batch_size, max_sentences), dtype=torch.float32, device=self.device) * 2\n",
    "\n",
    "            for i, inputs in enumerate(batch_inputs):\n",
    "                for j, sentence_tokens in enumerate(inputs):\n",
    "                    tensor_inputs[i][j][:len(sentence_tokens)] = torch.tensor(sentence_tokens, dtype=torch.int64)\n",
    "\n",
    "            for i, outputs in enumerate(batch_outputs):\n",
    "                tensor_outputs[i][:len(outputs)] = torch.LongTensor(outputs)\n",
    "\n",
    "            tensor_outputs = tensor_outputs.long()\n",
    "            yield {\n",
    "                'inputs': tensor_inputs,\n",
    "                'outputs': tensor_outputs,\n",
    "                'records': batch_records\n",
    "            }"
   ]
  },
  {
   "cell_type": "code",
   "execution_count": 15,
   "metadata": {
    "id": "5ug9MIObdi03"
   },
   "outputs": [],
   "source": [
    "train_iterator = BatchIterator(ext_train_records, vocabulary, 32, bpe_processor, device=device)\n",
    "val_iterator = BatchIterator(ext_val_records, vocabulary, 32, bpe_processor, device=device)\n",
    "test_iterator = BatchIterator(ext_test_records, vocabulary, 32, bpe_processor, device=device)"
   ]
  },
  {
   "cell_type": "markdown",
   "metadata": {
    "id": "yPlJMg0_dQM-"
   },
   "source": [
    "## Extractor -  SummaRuNNer\n",
    " https://arxiv.org/pdf/1611.04230.pdf\n"
   ]
  },
  {
   "cell_type": "markdown",
   "metadata": {
    "id": "4BSsnfe4t1uK"
   },
   "source": [
    "### Homework\n",
    "\n",
    "* В данной реализации в `outputs` в качестве padding используется индекс 0. Измените в функции \\_\\_iter__ индекс padding, чтобы он не совпадал с классом 0 или 1, например, 2.\n",
    "* В качестве criterion используйте `CrossEntropyLoss`вместо `BCEWithLogitsLoss`\n",
    "* Из-за смены criterion, вы уже должны подавать на вход criterion ни одно число, а logits для каждого класса. Перед подачей logits вы можете отфильтровать предсказания для класса padding. В этом пункте вам придется изменять файл `train_model.py`, а именно функциии `train` и `evaluate`.\n",
    "* Используйте два варианта обучения: c весами в `CrossEntropyLoss` и без\n",
    "* Также сравните `inference`, когда вы ранжируете logits, и когды вы выбирате предложения, у которых logits > 0, в двух вариантах обучения. \n",
    "* Реализуйте дополнительно характеристику предложения `novelty`. Как влияет добавление `novelty` на качество summary?\n",
    "* Постарайтесь улучшить качество модели, полученной на семинаре: $BLEU \\approx 0.45$"
   ]
  },
  {
   "cell_type": "code",
   "execution_count": 16,
   "metadata": {
    "id": "MAnENgEIemim"
   },
   "outputs": [],
   "source": [
    "PAD_IDX = 2"
   ]
  },
  {
   "cell_type": "code",
   "execution_count": 17,
   "metadata": {
    "id": "iW7iS76KeEdO"
   },
   "outputs": [],
   "source": [
    "class SentenceEncoderRNN(nn.Module):\n",
    "    def __init__(self, input_size, embedding_dim, hidden_size, n_layers=3, dropout=0.3, bidirectional=True):\n",
    "        super().__init__()\n",
    "\n",
    "        num_directions = 2 if bidirectional else 1\n",
    "        assert hidden_size % num_directions == 0\n",
    "        hidden_size = hidden_size // num_directions\n",
    "\n",
    "        self.embedding_dim = embedding_dim\n",
    "        self.input_size = input_size\n",
    "        self.hidden_size = hidden_size\n",
    "        self.n_layers = n_layers\n",
    "        self.dropout = dropout\n",
    "        self.bidirectional = bidirectional\n",
    "\n",
    "        self.embedding_layer = nn.Embedding(input_size, embedding_dim)\n",
    "        self.rnn_layer = nn.LSTM(embedding_dim, hidden_size, n_layers, dropout=dropout, bidirectional=bidirectional, batch_first=True)\n",
    "        self.dropout_layer = nn.Dropout(dropout)\n",
    "\n",
    "    def forward(self, inputs, hidden=None):\n",
    "        embedded = self.dropout_layer(self.embedding_layer(inputs))\n",
    "        outputs, _ = self.rnn_layer(embedded, hidden)\n",
    "        sentences_embeddings = torch.mean(outputs, 1)\n",
    "        # [batch_size, hidden_size]\n",
    "        return sentences_embeddings\n",
    "\n",
    "class SentenceTaggerRNN(nn.Module):\n",
    "    def __init__(self,\n",
    "                 vocabulary_size,\n",
    "                 use_content=True,\n",
    "                 use_salience=True,\n",
    "                 use_novelty=True,\n",
    "                 token_embedding_dim = 128,\n",
    "                 sentence_encoder_hidden_size = 256,\n",
    "                 hidden_size = 256,\n",
    "                 bidirectional=True,\n",
    "                 sentence_encoder_n_layers = 2,\n",
    "                 sentence_encoder_dropout=0.3,\n",
    "                 sentence_encoder_bidirectional=True,\n",
    "                 n_layers = 2,\n",
    "                 dropout = 0.3):\n",
    "        \n",
    "        super().__init__()\n",
    "\n",
    "        num_directions = 2 if bidirectional else 1\n",
    "        assert hidden_size % num_directions == 0\n",
    "        hidden_size = hidden_size // num_directions\n",
    "\n",
    "        self.hidden_size = hidden_size\n",
    "        self.n_layers = n_layers\n",
    "        self.dropout = dropout\n",
    "        self.bidirectional = bidirectional\n",
    "\n",
    "        self.sentence_encoder = SentenceEncoderRNN(vocabulary_size, token_embedding_dim,\n",
    "                                                   sentence_encoder_hidden_size, sentence_encoder_n_layers, \n",
    "                                                   sentence_encoder_dropout, sentence_encoder_bidirectional)\n",
    "        \n",
    "        self.rnn_layer = nn.LSTM(sentence_encoder_hidden_size, hidden_size, n_layers, dropout=dropout,\n",
    "                           bidirectional=bidirectional, batch_first=True)\n",
    "        \n",
    "        self.dropout_layer = nn.Dropout(dropout)\n",
    "        self.content_linear_layer = nn.Linear(hidden_size * 2, 1)\n",
    "        self.document_linear_layer = nn.Linear(hidden_size * 2, hidden_size * 2)\n",
    "        self.salience_linear_layer = nn.Linear(hidden_size * 2, hidden_size * 2)\n",
    "        self.novelty_linear_layer = nn.Linear(hidden_size * 2, hidden_size * 2)\n",
    "        self.tanh_layer = nn.Tanh()\n",
    "\n",
    "        self.use_content = use_content\n",
    "        self.use_salience = use_salience\n",
    "        self.use_novelty = use_novelty\n",
    "\n",
    "    def forward(self, inputs, hidden=None):\n",
    "        # parameters of the probability\n",
    "        content = 0\n",
    "        salience = 0\n",
    "        novelty = 0\n",
    "\n",
    "        # [batch_size, seq num, seq_len]\n",
    "        batch_size = inputs.size(0)\n",
    "        sentences_count = inputs.size(1)\n",
    "        tokens_count = inputs.size(2)\n",
    "        inputs = inputs.reshape(-1, tokens_count)\n",
    "        # [batch_size * seq num, seq_len]\n",
    "\n",
    "        embedded_sentences = self.sentence_encoder(inputs)\n",
    "        embedded_sentences = self.dropout_layer(embedded_sentences.reshape(batch_size, sentences_count, -1))\n",
    "        # [batch_size *  seq num, seq_len, hidden_size] -> [batch_size, seq num, hidden_size]\n",
    "\n",
    "        outputs, _ = self.rnn_layer(embedded_sentences, hidden)\n",
    "        # [batch_size, seq num, hidden_size]\n",
    "\n",
    "        document_embedding = self.tanh_layer(self.document_linear_layer(torch.mean(outputs, 1)))\n",
    "        # [batch_size, hidden_size]\n",
    "\n",
    "        # W * h^T\n",
    "        if self.use_content:\n",
    "            content = self.content_linear_layer(outputs).squeeze(2) # 1-representation\n",
    "        # [batch_size, seq num]\n",
    "\n",
    "        # h^T * W * d\n",
    "        if self.use_salience:\n",
    "            salience = torch.bmm(outputs, self.salience_linear_layer(document_embedding).unsqueeze(2)).squeeze(2) # 2-representation\n",
    "        # [batch_size, seq num, hidden_size] * [batch_size, hidden_size, 1] = [batch_size, seq num, ]\n",
    "\n",
    "        if self.use_novelty:\n",
    "            # at every step add novelty to prediction of the sentence\n",
    "            predictions = content + salience\n",
    "            \n",
    "            # 0) initialize summary_representation and novelty by zeros\n",
    "            # https://github.com/kedz/nnsum/blob/master/nnsum/module/sentence_extractor/summarunner_sentence_extractor.py\n",
    "            novelty = torch.zeros((batch_size, sentences_count)).to(device)\n",
    "            summary_representation = torch.zeros((batch_size, self.hidden_size*2)).to(device)\n",
    "\n",
    "            for sentence_num in range(sentences_count):\n",
    "\n",
    "                # 1) take sentence_num_state from outputs(representation of the sentence with number sentence_num)\n",
    "                sentence_num_state = outputs[:, sentence_num, :]\n",
    "                # [seq num, hidden_size]\n",
    "\n",
    "                # 2) calculate novelty for current sentence\n",
    "                novelty[:, sentence_num] = -torch.bmm(sentence_num_state.unsqueeze(1), \n",
    "                                                      self.novelty_linear_layer(torch.tanh(summary_representation)).unsqueeze(2)).squeeze(2).squeeze(1)\n",
    "                # [seq num]\n",
    "                \n",
    "                # 3) add novelty to predictions\n",
    "                predictions[:, sentence_num] += novelty[:, sentence_num]\n",
    "\n",
    "                # 4) calculcate probability for current sentence\n",
    "                probabilities = torch.sigmoid(predictions[:, sentence_num])\n",
    "\n",
    "                # 5) add sentence_num_state with the weight which is equal to probability to summary_representation\n",
    "                summary_representation += torch.mv(sentence_num_state.transpose(0, 1), probabilities)\n",
    "\n",
    "            return predictions\n",
    "\n",
    "\n",
    "        return content + salience"
   ]
  },
  {
   "cell_type": "markdown",
   "metadata": {
    "id": "QxpL3AtOrctD"
   },
   "source": [
    "## Model\n",
    "$P\\left(y_{j} = 1 \\mid \\mathbf{h}_{j}, \\mathbf{s}_{j}, \\mathbf{d}\\right)=\\sigma\\left(W_{c} \\mathbf{h}_{j} + \\mathbf{h}_{j}^{T} W_{s} \\mathbf{d}\\right)$\n",
    "--------------------"
   ]
  },
  {
   "cell_type": "code",
   "execution_count": 18,
   "metadata": {
    "colab": {
     "base_uri": "https://localhost:8080/"
    },
    "id": "-QC1ZmuQfB7f",
    "outputId": "789c5941-88df-41ac-9667-cd102eec7a25"
   },
   "outputs": [
    {
     "name": "stdout",
     "output_type": "stream",
     "text": [
      "Trainable params: 2927617\n"
     ]
    }
   ],
   "source": [
    "vocab_size = len(vocabulary)\n",
    "model = SentenceTaggerRNN(vocab_size).to(device)\n",
    "\n",
    "params_count = np.sum([p.numel() for p in model.parameters() if p.requires_grad])\n",
    "print(\"Trainable params: {}\".format(params_count))"
   ]
  },
  {
   "cell_type": "code",
   "execution_count": 19,
   "metadata": {
    "colab": {
     "base_uri": "https://localhost:8080/"
    },
    "id": "f9Q3aFHhgsB4",
    "outputId": "446b1acf-9994-4dc2-ecb5-135b2421690f"
   },
   "outputs": [
    {
     "name": "stdout",
     "output_type": "stream",
     "text": [
      "sentence_encoder.embedding_layer.weight: 1280000\n",
      "sentence_encoder.rnn_layer.weight_ih_l0: 65536\n",
      "sentence_encoder.rnn_layer.weight_hh_l0: 65536\n",
      "sentence_encoder.rnn_layer.bias_ih_l0: 512\n",
      "sentence_encoder.rnn_layer.bias_hh_l0: 512\n",
      "sentence_encoder.rnn_layer.weight_ih_l0_reverse: 65536\n",
      "sentence_encoder.rnn_layer.weight_hh_l0_reverse: 65536\n",
      "sentence_encoder.rnn_layer.bias_ih_l0_reverse: 512\n",
      "sentence_encoder.rnn_layer.bias_hh_l0_reverse: 512\n",
      "sentence_encoder.rnn_layer.weight_ih_l1: 131072\n",
      "sentence_encoder.rnn_layer.weight_hh_l1: 65536\n",
      "sentence_encoder.rnn_layer.bias_ih_l1: 512\n",
      "sentence_encoder.rnn_layer.bias_hh_l1: 512\n",
      "sentence_encoder.rnn_layer.weight_ih_l1_reverse: 131072\n",
      "sentence_encoder.rnn_layer.weight_hh_l1_reverse: 65536\n",
      "sentence_encoder.rnn_layer.bias_ih_l1_reverse: 512\n",
      "sentence_encoder.rnn_layer.bias_hh_l1_reverse: 512\n",
      "rnn_layer.weight_ih_l0: 131072\n",
      "rnn_layer.weight_hh_l0: 65536\n",
      "rnn_layer.bias_ih_l0: 512\n",
      "rnn_layer.bias_hh_l0: 512\n",
      "rnn_layer.weight_ih_l0_reverse: 131072\n",
      "rnn_layer.weight_hh_l0_reverse: 65536\n",
      "rnn_layer.bias_ih_l0_reverse: 512\n",
      "rnn_layer.bias_hh_l0_reverse: 512\n",
      "rnn_layer.weight_ih_l1: 131072\n",
      "rnn_layer.weight_hh_l1: 65536\n",
      "rnn_layer.bias_ih_l1: 512\n",
      "rnn_layer.bias_hh_l1: 512\n",
      "rnn_layer.weight_ih_l1_reverse: 131072\n",
      "rnn_layer.weight_hh_l1_reverse: 65536\n",
      "rnn_layer.bias_ih_l1_reverse: 512\n",
      "rnn_layer.bias_hh_l1_reverse: 512\n",
      "content_linear_layer.weight: 256\n",
      "content_linear_layer.bias: 1\n",
      "document_linear_layer.weight: 65536\n",
      "document_linear_layer.bias: 256\n",
      "salience_linear_layer.weight: 65536\n",
      "salience_linear_layer.bias: 256\n",
      "novelty_linear_layer.weight: 65536\n",
      "novelty_linear_layer.bias: 256\n"
     ]
    }
   ],
   "source": [
    "for name, param in model.named_parameters():\n",
    "    print(f\"{name}: {param.numel()}\")"
   ]
  },
  {
   "cell_type": "code",
   "execution_count": 20,
   "metadata": {
    "id": "cTFOSjCYYeTU"
   },
   "outputs": [],
   "source": [
    "def train(model, iterator, optimizer, criterion, clip, train_history=None, valid_history=None):\n",
    "    model.train()\n",
    "    \n",
    "    epoch_loss = 0\n",
    "    history = []\n",
    "    for i, batch in enumerate(iterator):\n",
    "        \n",
    "        # YOUR CODE\n",
    "        model.train()\n",
    "        logits = model(batch[\"inputs\"])\n",
    "        target = batch[\"outputs\"]\n",
    "        prob = torch.sigmoid(logits)\n",
    "        input = torch.cat([(1-prob).unsqueeze(-1), prob.unsqueeze(-1)], dim=2)\n",
    "        input = input.view(-1,2)\n",
    "        target = target.view(-1,1)[:,0]\n",
    "        loss = criterion(input, target)\n",
    "\n",
    "        #choice_2\n",
    "        #output_1d = model(batch[\"inputs\"].to(device)).view(-1)\n",
    "        #batch_outputs_1d = batch[\"outputs\"].view(-1).to(device)\n",
    "        #output_1d = output_1d.unsqueeze(-1)\n",
    "        #output = torch.cat((-output_1d, output_1d),-1).to(device)\n",
    "        #loss = criterion(output, batch_outputs_1d)\n",
    "\n",
    "        optimizer.zero_grad()\n",
    "        loss.backward()\n",
    "        torch.nn.utils.clip_grad_norm_(model.parameters(), clip)\n",
    "        optimizer.step()\n",
    "        \n",
    "        epoch_loss += loss.item()\n",
    "        history.append(loss.item())\n",
    "        if (i+1)%10==0:\n",
    "            fig, ax = plt.subplots(nrows=1, ncols=2, figsize=(12, 8))\n",
    "\n",
    "            clear_output(True)\n",
    "            ax[0].plot(history, label='train loss')\n",
    "            ax[0].set_xlabel('Batch')\n",
    "            ax[0].set_title('Train loss')\n",
    "            ax[0].grid()\n",
    "            if train_history is not None:\n",
    "                ax[1].plot(train_history, label='general train history')\n",
    "                ax[1].set_xlabel('Epoch')\n",
    "            if valid_history is not None:\n",
    "                ax[1].plot(valid_history, label='general valid history')\n",
    "            ax[1].grid()\n",
    "            plt.legend()\n",
    "            \n",
    "            plt.show()\n",
    "\n",
    "    return epoch_loss / len(iterator)\n",
    "\n",
    "def evaluate(model, iterator, criterion):\n",
    "    model.eval()\n",
    "    \n",
    "    epoch_loss = 0\n",
    "    history = []\n",
    "    \n",
    "    with torch.no_grad():\n",
    "        for i, batch in enumerate(iterator):\n",
    "            # YOUR CODE\n",
    "            model.eval()\n",
    "            logits = model(batch[\"inputs\"])\n",
    "            target = batch[\"outputs\"]\n",
    "            prob = torch.sigmoid(logits)\n",
    "            input = torch.cat([(1-prob).unsqueeze(-1), prob.unsqueeze(-1)], dim=2)\n",
    "            input = input.view(-1,2)\n",
    "            target = target.view(-1,1)[:,0]\n",
    "            loss = criterion(input, target)\n",
    "\n",
    "            #choice_2\n",
    "            #output_1d = model(batch[\"inputs\"].to(device)).view(-1)\n",
    "            #batch_outputs_1d = batch[\"outputs\"].view(-1).to(device)\n",
    "            #output_1d = output_1d.unsqueeze(-1)\n",
    "            #output = torch.cat((-output_1d, output_1d),-1).to(device)\n",
    "            #loss = criterion(output, batch_outputs_1d)\n",
    "\n",
    "            epoch_loss += loss.item()\n",
    "    return epoch_loss / len(iterator)\n",
    "\n",
    "def epoch_time(start_time, end_time):\n",
    "    elapsed_time = end_time - start_time\n",
    "    elapsed_mins = int(elapsed_time / 60)\n",
    "    elapsed_secs = int(elapsed_time - (elapsed_mins * 60))\n",
    "    return elapsed_mins, elapsed_secs\n",
    "\n",
    "def train_with_logs(model, train_iterator, valid_iterator, optimizer, criterion, N_EPOCHS, CLIP):\n",
    "    train_history = []\n",
    "    valid_history = []\n",
    "    best_valid_loss = float('inf')\n",
    "    \n",
    "    for epoch in range(N_EPOCHS):\n",
    "        \n",
    "        start_time = time.time()\n",
    "        \n",
    "        train_loss = train(model, train_iterator, optimizer, criterion, CLIP, train_history, valid_history)\n",
    "        valid_loss = evaluate(model, valid_iterator, criterion)\n",
    "        \n",
    "        end_time = time.time()\n",
    "        \n",
    "        epoch_mins, epoch_secs = epoch_time(start_time, end_time)\n",
    "        \n",
    "        if valid_loss < best_valid_loss:\n",
    "            best_valid_loss = valid_loss\n",
    "            torch.save(model.state_dict(), 'best-val-model.pt')\n",
    "        \n",
    "        train_history.append(train_loss)\n",
    "        valid_history.append(valid_loss)\n",
    "        print(f'Epoch: {epoch+1:02} | Time: {epoch_mins}m {epoch_secs}s')\n",
    "        print(f'\\tTrain Loss: {train_loss:.3f} | Train PPL: {math.exp(train_loss):7.3f}')\n",
    "        print(f'\\t Val. Loss: {valid_loss:.3f} |  Val. PPL: {math.exp(valid_loss):7.3f}')\n",
    "        \n",
    "def punct_detokenize(text):\n",
    "    text = text.strip()\n",
    "    punctuation = \",.!?:;%\"\n",
    "    closing_punctuation = \")]}\"\n",
    "    opening_punctuation = \"([}\"\n",
    "    for ch in punctuation + closing_punctuation:\n",
    "        text = text.replace(\" \" + ch, ch)\n",
    "    for ch in opening_punctuation:\n",
    "        text = text.replace(ch + \" \", ch)\n",
    "    res = [r'\"\\s[^\"]+\\s\"', r\"'\\s[^']+\\s'\"]\n",
    "    for r in res:\n",
    "        for f in re.findall(r, text, re.U):\n",
    "            text = text.replace(f, f[0] + f[2:-2] + f[-1])\n",
    "    text = text.replace(\"' s\", \"'s\").replace(\" 's\", \"'s\")\n",
    "    text = text.strip()\n",
    "    return text\n",
    "\n",
    "def postprocess(ref, hyp, is_multiple_ref=False, detokenize_after=False, tokenize_after=True):\n",
    "    if is_multiple_ref:\n",
    "        reference_sents = ref.split(\" s_s \")\n",
    "        decoded_sents = hyp.split(\"s_s\")\n",
    "        hyp = [w.replace(\"<\", \"&lt;\").replace(\">\", \"&gt;\").strip() for w in decoded_sents]\n",
    "        ref = [w.replace(\"<\", \"&lt;\").replace(\">\", \"&gt;\").strip() for w in reference_sents]\n",
    "        hyp = \" \".join(hyp)\n",
    "        ref = \" \".join(ref)\n",
    "    ref = ref.strip()\n",
    "    hyp = hyp.strip()\n",
    "    if detokenize_after:\n",
    "        hyp = punct_detokenize(hyp)\n",
    "        ref = punct_detokenize(ref)\n",
    "    if tokenize_after:\n",
    "        hyp = hyp.replace(\"@@UNKNOWN@@\", \"<unk>\")\n",
    "        hyp = \" \".join([token.text for token in razdel.tokenize(hyp)])\n",
    "        ref = \" \".join([token.text for token in razdel.tokenize(ref)])\n",
    "    return ref, hyp"
   ]
  },
  {
   "cell_type": "code",
   "execution_count": 21,
   "metadata": {
    "id": "lNZN5KyEeaXR"
   },
   "outputs": [],
   "source": [
    "from sklearn.utils.class_weight import compute_class_weight\n",
    "target = np.fromiter((v for batch in train_iterator for v in batch[\"outputs\"].detach().cpu().numpy().flatten()), dtype=int)\n",
    "target = target[target != PAD_IDX]\n",
    "class_weight = torch.tensor(compute_class_weight(class_weight='balanced',\n",
    "                                    classes=np.unique(target),\n",
    "                                    y=target), dtype=torch.float).to(device)"
   ]
  },
  {
   "cell_type": "markdown",
   "metadata": {
    "id": "vuv4Sh2Vj5Yr"
   },
   "source": [
    "## Inference"
   ]
  },
  {
   "cell_type": "code",
   "execution_count": 22,
   "metadata": {
    "id": "wZ96X37bb_PV"
   },
   "outputs": [],
   "source": [
    "def inference_summarunner(model, iterator, top_k=3):\n",
    "    references = []\n",
    "    predictions = []\n",
    "\n",
    "    model.eval()\n",
    "    for batch in iterator:\n",
    "        logits = model(batch['inputs'])\n",
    "        sum_in = torch.argsort(logits, dim=1)[:, -top_k:]\n",
    "        \n",
    "        for i in range(len(batch['outputs'])):\n",
    "            summary = batch['records'][i]['summary'].lower()\n",
    "\n",
    "            try:\n",
    "              pred_summary = ' '.join([batch['records'][i]['sentences'][ind] for ind in sum_in.sort(dim=1)[0][i]])\n",
    "            except (IndexError):\n",
    "              continue\n",
    "              \n",
    "            summary, pred_summary = postprocess(summary, pred_summary)\n",
    "            references.append(summary)\n",
    "            predictions.append(pred_summary)\n",
    "    calc_scores(references, predictions)"
   ]
  },
  {
   "cell_type": "code",
   "execution_count": 23,
   "metadata": {
    "id": "Mhz_OTvxIHue"
   },
   "outputs": [],
   "source": [
    "def inference_summarunner_th(model, iterator, th):\n",
    "    references = []\n",
    "    predictions = []\n",
    "\n",
    "    model.eval()\n",
    "    for batch in iterator:\n",
    "        logits = model(batch['inputs'])\n",
    "        logits = minmax_scale(logits.detach().cpu(), feature_range=(-1,1), axis=1, copy=True)\n",
    "        logits = torch.FloatTensor(logits)\n",
    "\n",
    "        for i in range(len(batch['outputs'])):\n",
    "\n",
    "            sum_in = torch.nonzero(logits[i]>th, as_tuple=True)[0]\n",
    "            summary = batch['records'][i]['summary'].lower()\n",
    "\n",
    "            try:\n",
    "              pred_summary = ' '.join([batch['records'][i]['sentences'][ind] for ind in sum_in])\n",
    "            except (IndexError):\n",
    "              continue\n",
    "              \n",
    "            summary, pred_summary = postprocess(summary, pred_summary)\n",
    "            references.append(summary)\n",
    "            predictions.append(pred_summary)\n",
    "    calc_scores(references, predictions)"
   ]
  },
  {
   "cell_type": "code",
   "execution_count": 24,
   "metadata": {
    "id": "n2_pP5Vq-OgR"
   },
   "outputs": [],
   "source": [
    "def train_final(use_class_weights, N_EPOCHS, CLIP, lr=1e-5):\n",
    "    optimizer = optim.Adam(model.parameters(), lr)\n",
    "    if use_class_weights:\n",
    "        # weights depend on the number of objects of class 0 and 1\n",
    "        # YOUR CODE\n",
    "        criterion = nn.CrossEntropyLoss(ignore_index=PAD_IDX, weight=class_weight)\n",
    "    else:\n",
    "        criterion = nn.CrossEntropyLoss(ignore_index=PAD_IDX)\n",
    "    train_with_logs(model, train_iterator, val_iterator, optimizer, criterion, N_EPOCHS, CLIP)"
   ]
  },
  {
   "cell_type": "markdown",
   "metadata": {
    "id": "fJthF57V9Nil"
   },
   "source": [
    "### Эксперимент со случайными весами"
   ]
  },
  {
   "cell_type": "code",
   "execution_count": null,
   "metadata": {
    "colab": {
     "base_uri": "https://localhost:8080/"
    },
    "id": "mQy9sg5fz_Lh",
    "outputId": "0fe1f09a-e3bc-40c2-adb0-b723d418d316"
   },
   "outputs": [
    {
     "name": "stdout",
     "output_type": "stream",
     "text": [
      "Count: 218\n",
      "Ref: морские порты россии – это не только одно из ключевых звеньев транспортной системы , но и залог для увеличения грузооборота и экспорта , а соответственно , и вклада в рост российской экономики . именно поэтому портовая деятельность вошла в числе национальных приоритетов . интересно , что морские порты в россии будут развиваться в основном на частные деньги . важно не только строительство самих портов , но и развитие все транспортной инфраструктуры , включая автодорожные и железнодорожные подходы к портам .\n",
      "Hyp: морские порты россии получат новое развитие в рамках нацпроекта « комплексный план модернизации и расширения магистральной инфраструктуры » . предполагается , порты дальневосточного , северо-западного , волго-каспийского и азово-черноморского бассейнов и другие к 2024 году увеличат мощность до 1,3 млрд тонн ( прирост — не менее 336 млн т ) . развитие портовой инфраструктуры и автодорожных подходов к портам , строительство 9 ледоколов и одного аварийно-спасательного судна включены в федеральный проект « морские порты » .\n",
      "BLEU:  0.48865667313605904\n",
      "ROUGE:  {'rouge-1': {'f': 0.3137427218497682, 'p': 0.32351224866090705, 'r': 0.32133252595517364}, 'rouge-2': {'f': 0.13829981505394773, 'p': 0.1421576493102655, 'r': 0.14349685707727494}, 'rouge-l': {'f': 0.2702361174775358, 'p': 0.2909183108473266, 'r': 0.28947278158848133}}\n"
     ]
    }
   ],
   "source": [
    "# Эксперимент со случайными весами\n",
    "model = SentenceTaggerRNN(vocab_size, use_novelty=False).to(device)\n",
    "inference_summarunner(model, test_iterator, 3)"
   ]
  },
  {
   "cell_type": "markdown",
   "metadata": {
    "id": "KxQI14jt9TEA"
   },
   "source": [
    "## Обучим модель (use_novelty = False, use_class_weights = False)"
   ]
  },
  {
   "cell_type": "code",
   "execution_count": 25,
   "metadata": {
    "colab": {
     "base_uri": "https://localhost:8080/",
     "height": 681
    },
    "id": "rwrhG4v71yts",
    "outputId": "83749bb4-803b-44bc-c23e-f3ba9d39c6e1"
   },
   "outputs": [
    {
     "data": {
      "image/png": "[encoded data removed]",
      "text/plain": [
       "<Figure size 864x576 with 2 Axes>"
      ]
     },
     "metadata": {
      "needs_background": "light"
     },
     "output_type": "display_data"
    },
    {
     "name": "stdout",
     "output_type": "stream",
     "text": [
      "Epoch: 30 | Time: 0m 8s\n",
      "\tTrain Loss: 0.392 | Train PPL:   1.480\n",
      "\t Val. Loss: 0.394 |  Val. PPL:   1.483\n",
      "Count: 256\n",
      "Ref: для борьбы с с недобросовестными азс , недоливающими топливо , будут использоваться специальные приборы , а также проверки программного обеспечения . в этом вопросе росстандарт намерен использовать опыт , полученный в сфере регулирования работы игровых автоматов .\n",
      "Hyp: росстандарт готовит арсенал для проверок автозаправочных станций на недолив топлива : проверяться будет не конкретная колонка , а ее работа как системы , в том числе ее связь с оператором за кассой . контролеров при работе методом тайного покупателя вооружат скрытым прибором , который сможет « ловить » недолив на уровне 1 % . кроме того , новый гост защитит топливораздаточные колонки от приспособлений и вредоносного по , обманывающих расходомер .\n",
      "BLEU:  0.44225303105459424\n",
      "ROUGE:  {'rouge-1': {'f': 0.31182369116706404, 'p': 0.2891008385456055, 'r': 0.3551590796406379}, 'rouge-2': {'f': 0.13644316403105217, 'p': 0.12427555106592526, 'r': 0.160949996118185}, 'rouge-l': {'f': 0.2642992200064455, 'p': 0.25821069105441935, 'r': 0.31654668903240535}}\n"
     ]
    }
   ],
   "source": [
    "N_EPOCHS = 30\n",
    "CLIP = 1\n",
    "\n",
    "model = SentenceTaggerRNN(vocab_size, use_novelty = False).to(device)\n",
    "train_final(False, N_EPOCHS, CLIP)\n",
    "model.load_state_dict(torch.load('best-val-model.pt'))\n",
    "inference_summarunner(model, test_iterator, 3)"
   ]
  },
  {
   "cell_type": "code",
   "execution_count": 33,
   "metadata": {
    "colab": {
     "base_uri": "https://localhost:8080/"
    },
    "id": "1oJqSvqSWPsF",
    "outputId": "f505f352-751c-4d56-c3dd-3fdd38c8567e"
   },
   "outputs": [
    {
     "name": "stdout",
     "output_type": "stream",
     "text": [
      "Count: 256\n",
      "Ref: экс-депутат рады александр ковтуненко устроил скандал в эфире телеканала « россия 1 » . он поддержал идею другого бывшего нардепа рефата чубарова « отметить 450 лет со дня сожжения москвы » крымским ханом девлет-гиреем . кроме того , ковтуненко назвал россию « бывшей украинской колонией » .\n",
      "Hyp: скандал в эфире программы « 60 минут » устроил бывший депутат верховной рады александр ковтуненко .\n",
      "BLEU:  0.45896064721741514\n",
      "ROUGE:  {'rouge-1': {'f': 0.30677258590915035, 'p': 0.3475847744841105, 'r': 0.30719857890650965}, 'rouge-2': {'f': 0.1391687270211789, 'p': 0.16045343040220947, 'r': 0.142284676020296}, 'rouge-l': {'f': 0.25079537484995995, 'p': 0.3078593333329834, 'r': 0.2722590707874975}}\n"
     ]
    }
   ],
   "source": [
    "# Инференс с отсечкой по threshold\n",
    "inference_summarunner_th(model, test_iterator, .5)"
   ]
  },
  {
   "cell_type": "markdown",
   "metadata": {
    "id": "9r_zwQ3RAK5W"
   },
   "source": [
    "## Обучим модель (use_novelty = False, use_class_weights = True)"
   ]
  },
  {
   "cell_type": "code",
   "execution_count": 34,
   "metadata": {
    "colab": {
     "base_uri": "https://localhost:8080/",
     "height": 681
    },
    "id": "gxAtAcgc-TGk",
    "outputId": "ee7bbb12-ef0a-42a1-a183-5cd0d8604cb6"
   },
   "outputs": [
    {
     "data": {
      "image/png": "[encoded data removed]",
      "text/plain": [
       "<Figure size 864x576 with 2 Axes>"
      ]
     },
     "metadata": {
      "needs_background": "light"
     },
     "output_type": "display_data"
    },
    {
     "name": "stdout",
     "output_type": "stream",
     "text": [
      "Epoch: 30 | Time: 0m 9s\n",
      "\tTrain Loss: 0.626 | Train PPL:   1.870\n",
      "\t Val. Loss: 0.595 |  Val. PPL:   1.813\n",
      "Count: 256\n",
      "Ref: американские и иракские разведслужбы , а также пентагон считают , что украинский boeing 737 , потерпевший крушение в тегеране , при котором погибло 168 человек , был поражен ударом российской зенитной ракетной системы « тор м 1 » пво ирана . по мнению источника из пентагона , инцидент был случайным — противовоздушная оборона ирана , вероятно , активно работала по всем воздушным целям после ракетного обстрела со стороны сша .\n",
      "Hyp: самолет boeing 737-800 « международных авиалиний украины » , потерпевший крушение в тегеране , при котором погибло 168 человек , был поражен ударом зенитной ракетной системы – об этом newsweek рассказали представитель пентагона , высокопоставленный сотрудник американской разведки и сотрудник иракской разведки . по их словам , самолет был поражен ракетным выстрелом зрк « тор м 1 » пво ирана , известной в нато как gauntlet . по мнению пентагона , инцидент был случайным — противовоздушная оборона ирана , вероятно , активно работала по всем воздушным целям после ракетного обстрела со стороны сша .\n",
      "BLEU:  0.44674925060378357\n",
      "ROUGE:  {'rouge-1': {'f': 0.31390996957558887, 'p': 0.2943140273165956, 'r': 0.35416244710992795}, 'rouge-2': {'f': 0.13833083065518081, 'p': 0.127741709696567, 'r': 0.16134053532067033}, 'rouge-l': {'f': 0.2667387614491306, 'p': 0.26376149889633793, 'r': 0.3162068840205881}}\n"
     ]
    }
   ],
   "source": [
    "if os.path.isfile('/content/best-val-model.pt'):\n",
    "  os.remove('/content/best-val-model.pt') \n",
    "\n",
    "model = SentenceTaggerRNN(vocab_size, use_novelty = False).to(device)\n",
    "train_final(True, N_EPOCHS, CLIP)\n",
    "model.load_state_dict(torch.load('best-val-model.pt'))\n",
    "inference_summarunner(model, test_iterator, 3)"
   ]
  },
  {
   "cell_type": "code",
   "execution_count": 44,
   "metadata": {
    "colab": {
     "base_uri": "https://localhost:8080/"
    },
    "id": "N0J6IcqDWQzA",
    "outputId": "261c3ab9-f1dd-4966-b99f-8aa99ebbbe54"
   },
   "outputs": [
    {
     "name": "stdout",
     "output_type": "stream",
     "text": [
      "Count: 256\n",
      "Ref: россияне могут продлить себе новогодние каникулы , присоединив к ним свой отпуск , рассказали в роструде . работник может уйти в отпуск в любое время , в том числе – и с 9 января , если это было заранее оговорено с работодателем или прописано в графике отпусков . при этом за две недели до начала отпуска работник должен быть уведомлен о нем . ранее сми сообщали , что россиянам сократят новогодние каникулы , перенеся два выходных на май .\n",
      "Hyp: часть отпуска или весь отпуск полностью можно присоединить к новогодним каникулам или майским праздникам . однако для этого необходимо соблюсти ряд условий , сообщает « российская газета » со ссылкой на роструд .\n",
      "BLEU:  0.47284726323052\n",
      "ROUGE:  {'rouge-1': {'f': 0.30863746313393825, 'p': 0.33480940711001117, 'r': 0.31383286950162087}, 'rouge-2': {'f': 0.13981691268092417, 'p': 0.15178305485995597, 'r': 0.1464790104932912}, 'rouge-l': {'f': 0.2552304770642323, 'p': 0.29797353611064326, 'r': 0.2791777099292248}}\n"
     ]
    }
   ],
   "source": [
    "# Инференс с отсечкой по threshold\n",
    "inference_summarunner_th(model, test_iterator, .5)"
   ]
  },
  {
   "cell_type": "markdown",
   "metadata": {
    "id": "9FfZRpFz9a0P"
   },
   "source": [
    "## Обучим модель (use_novelty = True, use_class_weights = False)"
   ]
  },
  {
   "cell_type": "code",
   "execution_count": 45,
   "metadata": {
    "colab": {
     "base_uri": "https://localhost:8080/",
     "height": 681
    },
    "id": "cXCGixLWjHB5",
    "outputId": "56a21d3c-f475-4491-abf9-ba8c6c01dd6b"
   },
   "outputs": [
    {
     "data": {
      "image/png": "[encoded data removed]",
      "text/plain": [
       "<Figure size 864x576 with 2 Axes>"
      ]
     },
     "metadata": {
      "needs_background": "light"
     },
     "output_type": "display_data"
    },
    {
     "name": "stdout",
     "output_type": "stream",
     "text": [
      "Epoch: 30 | Time: 0m 11s\n",
      "\tTrain Loss: 0.386 | Train PPL:   1.471\n",
      "\t Val. Loss: 0.383 |  Val. PPL:   1.466\n",
      "Count: 247\n",
      "Ref: опасные трещины найдены уже в десятках самолетов boeing 737 ng . американскому производителю , чьи новейшие лайнеры и так прикованы к земле из-за двух авиакатастроф , теперь грозят новые убытки .\n",
      "Hyp: подозрения , павшие почти две недели назад на один из самых массовых самолетов в мире boeing 737 ng , подтвердились и теперь могут привести к отзыву треснувших самолетов , а для boeing — обернуться новыми репутационными и финансовыми потерями . как сообщают американские сми , число дефектных самолетов уже измеряется десятками . подобные трещины , вовремя не замеченные , привели к нескольким крушениям советских пассажирских ан-10 .\n",
      "BLEU:  0.4037068609939744\n",
      "ROUGE:  {'rouge-1': {'f': 0.2783340459711522, 'p': 0.25098902451333444, 'r': 0.3290264292286601}, 'rouge-2': {'f': 0.11285383231203777, 'p': 0.09976572840422328, 'r': 0.1388092642181583}, 'rouge-l': {'f': 0.2328061830912851, 'p': 0.2236231520490234, 'r': 0.29288457125501555}}\n"
     ]
    }
   ],
   "source": [
    "if os.path.isfile('/content/best-val-model.pt'):\n",
    "  os.remove('/content/best-val-model.pt') \n",
    "model = SentenceTaggerRNN(vocab_size, use_novelty = True).to(device)\n",
    "train_final(False, N_EPOCHS, CLIP)\n",
    "model.load_state_dict(torch.load('best-val-model.pt'))\n",
    "inference_summarunner(model, test_iterator, 3)"
   ]
  },
  {
   "cell_type": "code",
   "execution_count": 58,
   "metadata": {
    "colab": {
     "base_uri": "https://localhost:8080/"
    },
    "id": "YuYlFOcmWRv9",
    "outputId": "97e4d68e-1953-4ed7-f25c-3d84d91a0f1d"
   },
   "outputs": [
    {
     "name": "stdout",
     "output_type": "stream",
     "text": [
      "Count: 256\n",
      "Ref: в риме прошли переговоры глав мид и минобороны рф сергея лаврова и сергея шойгу с их итальянскими коллегами луиджи ди майо и лоренцо гуэрини в формате « 2 + 2 » . политики обсудили ситуацию в сирии , ливии , на украине , диалог россии с нато . отдельно министры обратили внимание на действия сша в сирии , а также необходимость для европы абстрагироваться от украинского кризиса в вопросах взаимодействия с москвой .\n",
      "Hyp: в риме 18 февраля министры иностранных дел и обороны рф сергей лавров и сергей шойгу встретились с итальянскими коллегами луиджи ди майо и лоренцо гуэрини .\n",
      "BLEU:  0.40778807169219483\n",
      "ROUGE:  {'rouge-1': {'f': 0.27139913061865617, 'p': 0.35052298860057696, 'r': 0.2666771127709237}, 'rouge-2': {'f': 0.11908598087033825, 'p': 0.1612904733698099, 'r': 0.11850144327873613}, 'rouge-l': {'f': 0.20727090641014093, 'p': 0.307008066781927, 'r': 0.2334457411642894}}\n"
     ]
    }
   ],
   "source": [
    "# Инференс с отсечкой по threshold\n",
    "inference_summarunner_th(model, test_iterator, 0.001)"
   ]
  },
  {
   "cell_type": "markdown",
   "metadata": {
    "id": "OquXfoB19flU"
   },
   "source": [
    "## Обучим модель (use_novelty = True, use_class_weights = True)"
   ]
  },
  {
   "cell_type": "code",
   "execution_count": 70,
   "metadata": {
    "colab": {
     "base_uri": "https://localhost:8080/",
     "height": 681
    },
    "id": "uusu3bGj-Dch",
    "outputId": "354f072a-283e-4850-b600-5d7d90e73df6"
   },
   "outputs": [
    {
     "data": {
      "image/png": "[encoded data removed]",
      "text/plain": [
       "<Figure size 864x576 with 2 Axes>"
      ]
     },
     "metadata": {
      "needs_background": "light"
     },
     "output_type": "display_data"
    },
    {
     "name": "stdout",
     "output_type": "stream",
     "text": [
      "Epoch: 30 | Time: 0m 11s\n",
      "\tTrain Loss: 0.624 | Train PPL:   1.866\n",
      "\t Val. Loss: 0.595 |  Val. PPL:   1.813\n",
      "Count: 256\n",
      "Ref: экс-депутат рады александр ковтуненко устроил скандал в эфире телеканала « россия 1 » . он поддержал идею другого бывшего нардепа рефата чубарова « отметить 450 лет со дня сожжения москвы » крымским ханом девлет-гиреем . кроме того , ковтуненко назвал россию « бывшей украинской колонией » .\n",
      "Hyp: скандал в эфире программы « 60 минут » устроил бывший депутат верховной рады александр ковтуненко . инцидент произошел на телеканале « россия 1 » . экс-нардеп поддержал идею другого бывшего украинского парламентария , лидера « меджлиса крымскотатарского народа » ( экстремистская организация , запрещена в рф ) рефата чубарова .\n",
      "BLEU:  0.44674925060378357\n",
      "ROUGE:  {'rouge-1': {'f': 0.31390996957558887, 'p': 0.2943140273165956, 'r': 0.35416244710992795}, 'rouge-2': {'f': 0.13833083065518084, 'p': 0.12774170969656698, 'r': 0.1613405353206704}, 'rouge-l': {'f': 0.26673876144913067, 'p': 0.263761498896338, 'r': 0.3162068840205884}}\n"
     ]
    }
   ],
   "source": [
    "if os.path.isfile('/content/best-val-model.pt'):\n",
    "  os.remove('/content/best-val-model.pt') \n",
    "model = SentenceTaggerRNN(vocab_size, use_novelty = True).to(device)\n",
    "train_final(True, N_EPOCHS, CLIP)\n",
    "model.load_state_dict(torch.load('best-val-model.pt'))\n",
    "inference_summarunner(model, test_iterator, 3)"
   ]
  },
  {
   "cell_type": "code",
   "execution_count": 86,
   "metadata": {
    "colab": {
     "base_uri": "https://localhost:8080/"
    },
    "id": "swhZq8gJUVg0",
    "outputId": "9d7ab9a0-1c01-4aaa-beea-ac45632c1ae0"
   },
   "outputs": [
    {
     "name": "stdout",
     "output_type": "stream",
     "text": [
      "Count: 256\n",
      "Ref: производство второго сезона сериала « лучшие в лос-анджелесе » с джессикой альбой в главной роли приостановлено из-за лесных пожаров к северу от лос-анджелеса . возгорание было вызвано опасными ветрами в сочетании с низкой влажностью и высокими температурами .\n",
      "Hyp: из-за очередной вспышки лесных пожаров к северу от лос-анджелеса приостанавливается и переносится производство ряда сериалов , среди которых второй сезон спин-офф экшн-хита « плохие парни » — « лучшие в лос-анджелесе » с джессикой альбой в главной роли , пишет deadline . в долине санта-кларита вспыхнули три пожара , вызванные опасными ветрами в сочетании с низкой влажностью и высокими температурами .\n",
      "BLEU:  0.4393667753880199\n",
      "ROUGE:  {'rouge-1': {'f': 0.31177951342430177, 'p': 0.34949156385123625, 'r': 0.29857562360274903}, 'rouge-2': {'f': 0.1415989489127609, 'p': 0.15963186612637742, 'r': 0.1373051684867328}, 'rouge-l': {'f': 0.2605694350081897, 'p': 0.30923779412157276, 'r': 0.26384215865501615}}\n"
     ]
    }
   ],
   "source": [
    "# Инференс с отсечкой по threshold\n",
    "inference_summarunner_th(model, test_iterator, .001)"
   ]
  },
  {
   "cell_type": "markdown",
   "metadata": {
    "id": "HGc4IV8dzyBP"
   },
   "source": [
    "## Вывод:"
   ]
  },
  {
   "cell_type": "markdown",
   "metadata": {
    "id": "LnyBgLtKg8A6"
   },
   "source": [
    "<table class=\"\">\n",
    "\t<tbody>\n",
    "\t\t<tr>\n",
    "\t\t\t<td colspan=\"3\" align=\"center\"><b>BLEU</b <b> (inference without treshold)</td>\n",
    "\t\t</tr>\n",
    "\t\t<tr>\n",
    "\t\t\t<td></td>\n",
    "\t\t\t<td align=\"center\"><b>Class_weight</b <b> (True)</b</td>\n",
    "\t\t\t<td align=\"center\"><b>Class_weight</b <b> (False)</td>\n",
    "\t\t</tr>\n",
    "\t\t<tr>\n",
    "\t\t\t<td><b>Novelty</b <b> (True)</td>\n",
    "\t\t\t<td align=\"center\">0.45</td>\n",
    "\t\t\t<td align=\"center\">0.4</td>\n",
    "\t\t</tr>\n",
    "\t\t<tr>\n",
    "\t\t\t<td><b>Novelty</b <b> (False)</b</td>\n",
    "\t\t\t<td align=\"center\">0.45</td>\n",
    "\t\t\t<td align=\"center\">0.45</td>\n",
    "\t\t</tr>\n",
    "\t</tbody>\n",
    "</table>"
   ]
  },
  {
   "cell_type": "markdown",
   "metadata": {
    "id": "HfdeoE1eg8H1"
   },
   "source": [
    "---"
   ]
  },
  {
   "cell_type": "markdown",
   "metadata": {
    "id": "sEwr4GVSnDj9"
   },
   "source": [
    "<table class=\"\">\n",
    "\t<tbody>\n",
    "\t\t<tr>\n",
    "\t\t\t<td colspan=\"3\" align=\"center\"><b>BLEU</b <b> (inference with treshold)</td>\n",
    "\t\t</tr>\n",
    "\t\t<tr>\n",
    "\t\t\t<td></td>\n",
    "\t\t\t<td align=\"center\"><b>Class_weight</b <b> (True)</b</td>\n",
    "\t\t\t<td align=\"center\"><b>Class_weight</b <b> (False)</td>\n",
    "\t\t</tr>\n",
    "\t\t<tr>\n",
    "\t\t\t<td><b>Novelty</b <b> (True)</td>\n",
    "\t\t\t<td align=\"center\">0.44</td>\n",
    "\t\t\t<td align=\"center\">0.41</td>\n",
    "\t\t</tr>\n",
    "\t\t<tr>\n",
    "\t\t\t<td><b>Novelty</b <b> (False)</b</td>\n",
    "\t\t\t<td align=\"center\">0.47</td>\n",
    "\t\t\t<td align=\"center\">0.46</td>\n",
    "\t\t</tr>\n",
    "\t</tbody>\n",
    "</table>"
   ]
  },
  {
   "cell_type": "markdown",
   "metadata": {
    "id": "76CxOXZ7oGrq"
   },
   "source": [
    "Максимальное значение BLEU ≈ 0.47 получено с использованием class_weight при выборе предложений, у которых logit > 0.5. Использование novelty не оказывает видимого влияния на увеличение BLEU. При этом, эксперименты со случайными весами иногда показывали еще бОльшее значение ≈ 0.49, что, конечно, не подлежит серьезному рассмотрению. При этом использование эмпирически подобранных значений treshold во всех случаях позволяет добиться более высоких значений BLEU."
   ]
  },
  {
   "cell_type": "code",
   "execution_count": null,
   "metadata": {
    "id": "s1U_ZF1cnCqa"
   },
   "outputs": [],
   "source": []
  }
 ],
 "metadata": {
  "accelerator": "GPU",
  "colab": {
   "collapsed_sections": [],
   "name": "[homework]summarization.ipynb",
   "provenance": []
  },
  "kernelspec": {
   "display_name": "Python 3",
   "language": "python",
   "name": "python3"
  },
  "language_info": {
   "codemirror_mode": {
    "name": "ipython",
    "version": 3
   },
   "file_extension": ".py",
   "mimetype": "text/x-python",
   "name": "python",
   "nbconvert_exporter": "python",
   "pygments_lexer": "ipython3",
   "version": "3.8.8"
  },
  "widgets": {
   "application/vnd.jupyter.widget-state+json": {
    "200c9d6fa70648b2917dcd85001740d1": {
     "model_module": "@jupyter-widgets/controls",
     "model_module_version": "1.5.0",
     "model_name": "DescriptionStyleModel",
     "state": {
      "_model_module": "@jupyter-widgets/controls",
      "_model_module_version": "1.5.0",
      "_model_name": "DescriptionStyleModel",
      "_view_count": null,
      "_view_module": "@jupyter-widgets/base",
      "_view_module_version": "1.2.0",
      "_view_name": "StyleView",
      "description_width": ""
     }
    },
    "32e5625802744f3f96fada6cbb429cac": {
     "model_module": "@jupyter-widgets/base",
     "model_module_version": "1.2.0",
     "model_name": "LayoutModel",
     "state": {
      "_model_module": "@jupyter-widgets/base",
      "_model_module_version": "1.2.0",
      "_model_name": "LayoutModel",
      "_view_count": null,
      "_view_module": "@jupyter-widgets/base",
      "_view_module_version": "1.2.0",
      "_view_name": "LayoutView",
      "align_content": null,
      "align_items": null,
      "align_self": null,
      "border": null,
      "bottom": null,
      "display": null,
      "flex": null,
      "flex_flow": null,
      "grid_area": null,
      "grid_auto_columns": null,
      "grid_auto_flow": null,
      "grid_auto_rows": null,
      "grid_column": null,
      "grid_gap": null,
      "grid_row": null,
      "grid_template_areas": null,
      "grid_template_columns": null,
      "grid_template_rows": null,
      "height": null,
      "justify_content": null,
      "justify_items": null,
      "left": null,
      "margin": null,
      "max_height": null,
      "max_width": null,
      "min_height": null,
      "min_width": null,
      "object_fit": null,
      "object_position": null,
      "order": null,
      "overflow": null,
      "overflow_x": null,
      "overflow_y": null,
      "padding": null,
      "right": null,
      "top": null,
      "visibility": null,
      "width": null
     }
    },
    "32f724270b614855b691cb7338c3ee6a": {
     "model_module": "@jupyter-widgets/base",
     "model_module_version": "1.2.0",
     "model_name": "LayoutModel",
     "state": {
      "_model_module": "@jupyter-widgets/base",
      "_model_module_version": "1.2.0",
      "_model_name": "LayoutModel",
      "_view_count": null,
      "_view_module": "@jupyter-widgets/base",
      "_view_module_version": "1.2.0",
      "_view_name": "LayoutView",
      "align_content": null,
      "align_items": null,
      "align_self": null,
      "border": null,
      "bottom": null,
      "display": null,
      "flex": null,
      "flex_flow": null,
      "grid_area": null,
      "grid_auto_columns": null,
      "grid_auto_flow": null,
      "grid_auto_rows": null,
      "grid_column": null,
      "grid_gap": null,
      "grid_row": null,
      "grid_template_areas": null,
      "grid_template_columns": null,
      "grid_template_rows": null,
      "height": null,
      "justify_content": null,
      "justify_items": null,
      "left": null,
      "margin": null,
      "max_height": null,
      "max_width": null,
      "min_height": null,
      "min_width": null,
      "object_fit": null,
      "object_position": null,
      "order": null,
      "overflow": null,
      "overflow_x": null,
      "overflow_y": null,
      "padding": null,
      "right": null,
      "top": null,
      "visibility": null,
      "width": null
     }
    },
    "3abe49bef0b44456b86ff5c8ecaec6ae": {
     "model_module": "@jupyter-widgets/controls",
     "model_module_version": "1.5.0",
     "model_name": "HTMLModel",
     "state": {
      "_dom_classes": [],
      "_model_module": "@jupyter-widgets/controls",
      "_model_module_version": "1.5.0",
      "_model_name": "HTMLModel",
      "_view_count": null,
      "_view_module": "@jupyter-widgets/controls",
      "_view_module_version": "1.5.0",
      "_view_name": "HTMLView",
      "description": "",
      "description_tooltip": null,
      "layout": "IPY_MODEL_49d8eed23498449ca5a6e5fd491361b5",
      "placeholder": "​",
      "style": "IPY_MODEL_7d4ef9892dc144899d2a00555aa75349",
      "value": " 256/? [00:49&lt;00:00,  5.61it/s]"
     }
    },
    "3f4692e0c3814364a2e1dba7947a53cd": {
     "model_module": "@jupyter-widgets/controls",
     "model_module_version": "1.5.0",
     "model_name": "ProgressStyleModel",
     "state": {
      "_model_module": "@jupyter-widgets/controls",
      "_model_module_version": "1.5.0",
      "_model_name": "ProgressStyleModel",
      "_view_count": null,
      "_view_module": "@jupyter-widgets/base",
      "_view_module_version": "1.2.0",
      "_view_name": "StyleView",
      "bar_color": null,
      "description_width": ""
     }
    },
    "4342980193114cceb3cc871eaeb6f651": {
     "model_module": "@jupyter-widgets/controls",
     "model_module_version": "1.5.0",
     "model_name": "ProgressStyleModel",
     "state": {
      "_model_module": "@jupyter-widgets/controls",
      "_model_module_version": "1.5.0",
      "_model_name": "ProgressStyleModel",
      "_view_count": null,
      "_view_module": "@jupyter-widgets/base",
      "_view_module_version": "1.2.0",
      "_view_name": "StyleView",
      "bar_color": null,
      "description_width": ""
     }
    },
    "43c237a6422b4bdeb32b65838fd033de": {
     "model_module": "@jupyter-widgets/base",
     "model_module_version": "1.2.0",
     "model_name": "LayoutModel",
     "state": {
      "_model_module": "@jupyter-widgets/base",
      "_model_module_version": "1.2.0",
      "_model_name": "LayoutModel",
      "_view_count": null,
      "_view_module": "@jupyter-widgets/base",
      "_view_module_version": "1.2.0",
      "_view_name": "LayoutView",
      "align_content": null,
      "align_items": null,
      "align_self": null,
      "border": null,
      "bottom": null,
      "display": null,
      "flex": null,
      "flex_flow": null,
      "grid_area": null,
      "grid_auto_columns": null,
      "grid_auto_flow": null,
      "grid_auto_rows": null,
      "grid_column": null,
      "grid_gap": null,
      "grid_row": null,
      "grid_template_areas": null,
      "grid_template_columns": null,
      "grid_template_rows": null,
      "height": null,
      "justify_content": null,
      "justify_items": null,
      "left": null,
      "margin": null,
      "max_height": null,
      "max_width": null,
      "min_height": null,
      "min_width": null,
      "object_fit": null,
      "object_position": null,
      "order": null,
      "overflow": null,
      "overflow_x": null,
      "overflow_y": null,
      "padding": null,
      "right": null,
      "top": null,
      "visibility": null,
      "width": null
     }
    },
    "49d8eed23498449ca5a6e5fd491361b5": {
     "model_module": "@jupyter-widgets/base",
     "model_module_version": "1.2.0",
     "model_name": "LayoutModel",
     "state": {
      "_model_module": "@jupyter-widgets/base",
      "_model_module_version": "1.2.0",
      "_model_name": "LayoutModel",
      "_view_count": null,
      "_view_module": "@jupyter-widgets/base",
      "_view_module_version": "1.2.0",
      "_view_name": "LayoutView",
      "align_content": null,
      "align_items": null,
      "align_self": null,
      "border": null,
      "bottom": null,
      "display": null,
      "flex": null,
      "flex_flow": null,
      "grid_area": null,
      "grid_auto_columns": null,
      "grid_auto_flow": null,
      "grid_auto_rows": null,
      "grid_column": null,
      "grid_gap": null,
      "grid_row": null,
      "grid_template_areas": null,
      "grid_template_columns": null,
      "grid_template_rows": null,
      "height": null,
      "justify_content": null,
      "justify_items": null,
      "left": null,
      "margin": null,
      "max_height": null,
      "max_width": null,
      "min_height": null,
      "min_width": null,
      "object_fit": null,
      "object_position": null,
      "order": null,
      "overflow": null,
      "overflow_x": null,
      "overflow_y": null,
      "padding": null,
      "right": null,
      "top": null,
      "visibility": null,
      "width": null
     }
    },
    "4b29e97fabd74fea9c2e45a1668cf4ed": {
     "model_module": "@jupyter-widgets/controls",
     "model_module_version": "1.5.0",
     "model_name": "FloatProgressModel",
     "state": {
      "_dom_classes": [],
      "_model_module": "@jupyter-widgets/controls",
      "_model_module_version": "1.5.0",
      "_model_name": "FloatProgressModel",
      "_view_count": null,
      "_view_module": "@jupyter-widgets/controls",
      "_view_module_version": "1.5.0",
      "_view_name": "ProgressView",
      "bar_style": "danger",
      "description": "",
      "description_tooltip": null,
      "layout": "IPY_MODEL_56bc5f6da9734bcc8d6df691a64ec3c8",
      "max": 1,
      "min": 0,
      "orientation": "horizontal",
      "style": "IPY_MODEL_3f4692e0c3814364a2e1dba7947a53cd",
      "value": 1
     }
    },
    "56bc5f6da9734bcc8d6df691a64ec3c8": {
     "model_module": "@jupyter-widgets/base",
     "model_module_version": "1.2.0",
     "model_name": "LayoutModel",
     "state": {
      "_model_module": "@jupyter-widgets/base",
      "_model_module_version": "1.2.0",
      "_model_name": "LayoutModel",
      "_view_count": null,
      "_view_module": "@jupyter-widgets/base",
      "_view_module_version": "1.2.0",
      "_view_name": "LayoutView",
      "align_content": null,
      "align_items": null,
      "align_self": null,
      "border": null,
      "bottom": null,
      "display": null,
      "flex": null,
      "flex_flow": null,
      "grid_area": null,
      "grid_auto_columns": null,
      "grid_auto_flow": null,
      "grid_auto_rows": null,
      "grid_column": null,
      "grid_gap": null,
      "grid_row": null,
      "grid_template_areas": null,
      "grid_template_columns": null,
      "grid_template_rows": null,
      "height": null,
      "justify_content": null,
      "justify_items": null,
      "left": null,
      "margin": null,
      "max_height": null,
      "max_width": null,
      "min_height": null,
      "min_width": null,
      "object_fit": null,
      "object_position": null,
      "order": null,
      "overflow": null,
      "overflow_x": null,
      "overflow_y": null,
      "padding": null,
      "right": null,
      "top": null,
      "visibility": null,
      "width": "20px"
     }
    },
    "5a9036fe34b44f5f86232dbe71b30cd4": {
     "model_module": "@jupyter-widgets/base",
     "model_module_version": "1.2.0",
     "model_name": "LayoutModel",
     "state": {
      "_model_module": "@jupyter-widgets/base",
      "_model_module_version": "1.2.0",
      "_model_name": "LayoutModel",
      "_view_count": null,
      "_view_module": "@jupyter-widgets/base",
      "_view_module_version": "1.2.0",
      "_view_name": "LayoutView",
      "align_content": null,
      "align_items": null,
      "align_self": null,
      "border": null,
      "bottom": null,
      "display": null,
      "flex": null,
      "flex_flow": null,
      "grid_area": null,
      "grid_auto_columns": null,
      "grid_auto_flow": null,
      "grid_auto_rows": null,
      "grid_column": null,
      "grid_gap": null,
      "grid_row": null,
      "grid_template_areas": null,
      "grid_template_columns": null,
      "grid_template_rows": null,
      "height": null,
      "justify_content": null,
      "justify_items": null,
      "left": null,
      "margin": null,
      "max_height": null,
      "max_width": null,
      "min_height": null,
      "min_width": null,
      "object_fit": null,
      "object_position": null,
      "order": null,
      "overflow": null,
      "overflow_x": null,
      "overflow_y": null,
      "padding": null,
      "right": null,
      "top": null,
      "visibility": null,
      "width": "20px"
     }
    },
    "5ab446dfdb9f41bebb504f0f44e6fe0a": {
     "model_module": "@jupyter-widgets/controls",
     "model_module_version": "1.5.0",
     "model_name": "HTMLModel",
     "state": {
      "_dom_classes": [],
      "_model_module": "@jupyter-widgets/controls",
      "_model_module_version": "1.5.0",
      "_model_name": "HTMLModel",
      "_view_count": null,
      "_view_module": "@jupyter-widgets/controls",
      "_view_module_version": "1.5.0",
      "_view_name": "HTMLView",
      "description": "",
      "description_tooltip": null,
      "layout": "IPY_MODEL_43c237a6422b4bdeb32b65838fd033de",
      "placeholder": "​",
      "style": "IPY_MODEL_a8d4eff3041e4b2f9ca0fe608b629fc8",
      "value": ""
     }
    },
    "5c3fe8bfd6ba46d583aa840568f43e86": {
     "model_module": "@jupyter-widgets/base",
     "model_module_version": "1.2.0",
     "model_name": "LayoutModel",
     "state": {
      "_model_module": "@jupyter-widgets/base",
      "_model_module_version": "1.2.0",
      "_model_name": "LayoutModel",
      "_view_count": null,
      "_view_module": "@jupyter-widgets/base",
      "_view_module_version": "1.2.0",
      "_view_name": "LayoutView",
      "align_content": null,
      "align_items": null,
      "align_self": null,
      "border": null,
      "bottom": null,
      "display": null,
      "flex": null,
      "flex_flow": null,
      "grid_area": null,
      "grid_auto_columns": null,
      "grid_auto_flow": null,
      "grid_auto_rows": null,
      "grid_column": null,
      "grid_gap": null,
      "grid_row": null,
      "grid_template_areas": null,
      "grid_template_columns": null,
      "grid_template_rows": null,
      "height": null,
      "justify_content": null,
      "justify_items": null,
      "left": null,
      "margin": null,
      "max_height": null,
      "max_width": null,
      "min_height": null,
      "min_width": null,
      "object_fit": null,
      "object_position": null,
      "order": null,
      "overflow": null,
      "overflow_x": null,
      "overflow_y": null,
      "padding": null,
      "right": null,
      "top": null,
      "visibility": null,
      "width": null
     }
    },
    "64bccb899a7348649b9f9fb1ff169507": {
     "model_module": "@jupyter-widgets/base",
     "model_module_version": "1.2.0",
     "model_name": "LayoutModel",
     "state": {
      "_model_module": "@jupyter-widgets/base",
      "_model_module_version": "1.2.0",
      "_model_name": "LayoutModel",
      "_view_count": null,
      "_view_module": "@jupyter-widgets/base",
      "_view_module_version": "1.2.0",
      "_view_name": "LayoutView",
      "align_content": null,
      "align_items": null,
      "align_self": null,
      "border": null,
      "bottom": null,
      "display": null,
      "flex": null,
      "flex_flow": null,
      "grid_area": null,
      "grid_auto_columns": null,
      "grid_auto_flow": null,
      "grid_auto_rows": null,
      "grid_column": null,
      "grid_gap": null,
      "grid_row": null,
      "grid_template_areas": null,
      "grid_template_columns": null,
      "grid_template_rows": null,
      "height": null,
      "justify_content": null,
      "justify_items": null,
      "left": null,
      "margin": null,
      "max_height": null,
      "max_width": null,
      "min_height": null,
      "min_width": null,
      "object_fit": null,
      "object_position": null,
      "order": null,
      "overflow": null,
      "overflow_x": null,
      "overflow_y": null,
      "padding": null,
      "right": null,
      "top": null,
      "visibility": null,
      "width": null
     }
    },
    "65bad71fdd534716bcf2598e0cedadce": {
     "model_module": "@jupyter-widgets/controls",
     "model_module_version": "1.5.0",
     "model_name": "ProgressStyleModel",
     "state": {
      "_model_module": "@jupyter-widgets/controls",
      "_model_module_version": "1.5.0",
      "_model_name": "ProgressStyleModel",
      "_view_count": null,
      "_view_module": "@jupyter-widgets/base",
      "_view_module_version": "1.2.0",
      "_view_name": "StyleView",
      "bar_color": null,
      "description_width": ""
     }
    },
    "78a3f4154ee340acb57ba40ed14f6f93": {
     "model_module": "@jupyter-widgets/controls",
     "model_module_version": "1.5.0",
     "model_name": "DescriptionStyleModel",
     "state": {
      "_model_module": "@jupyter-widgets/controls",
      "_model_module_version": "1.5.0",
      "_model_name": "DescriptionStyleModel",
      "_view_count": null,
      "_view_module": "@jupyter-widgets/base",
      "_view_module_version": "1.2.0",
      "_view_name": "StyleView",
      "description_width": ""
     }
    },
    "7d4ef9892dc144899d2a00555aa75349": {
     "model_module": "@jupyter-widgets/controls",
     "model_module_version": "1.5.0",
     "model_name": "DescriptionStyleModel",
     "state": {
      "_model_module": "@jupyter-widgets/controls",
      "_model_module_version": "1.5.0",
      "_model_name": "DescriptionStyleModel",
      "_view_count": null,
      "_view_module": "@jupyter-widgets/base",
      "_view_module_version": "1.2.0",
      "_view_name": "StyleView",
      "description_width": ""
     }
    },
    "8357ebe3c260419eb58bdcae946f776a": {
     "model_module": "@jupyter-widgets/base",
     "model_module_version": "1.2.0",
     "model_name": "LayoutModel",
     "state": {
      "_model_module": "@jupyter-widgets/base",
      "_model_module_version": "1.2.0",
      "_model_name": "LayoutModel",
      "_view_count": null,
      "_view_module": "@jupyter-widgets/base",
      "_view_module_version": "1.2.0",
      "_view_name": "LayoutView",
      "align_content": null,
      "align_items": null,
      "align_self": null,
      "border": null,
      "bottom": null,
      "display": null,
      "flex": null,
      "flex_flow": null,
      "grid_area": null,
      "grid_auto_columns": null,
      "grid_auto_flow": null,
      "grid_auto_rows": null,
      "grid_column": null,
      "grid_gap": null,
      "grid_row": null,
      "grid_template_areas": null,
      "grid_template_columns": null,
      "grid_template_rows": null,
      "height": null,
      "justify_content": null,
      "justify_items": null,
      "left": null,
      "margin": null,
      "max_height": null,
      "max_width": null,
      "min_height": null,
      "min_width": null,
      "object_fit": null,
      "object_position": null,
      "order": null,
      "overflow": null,
      "overflow_x": null,
      "overflow_y": null,
      "padding": null,
      "right": null,
      "top": null,
      "visibility": null,
      "width": null
     }
    },
    "85c35253f55b4c608caddc371b3d1494": {
     "model_module": "@jupyter-widgets/controls",
     "model_module_version": "1.5.0",
     "model_name": "HTMLModel",
     "state": {
      "_dom_classes": [],
      "_model_module": "@jupyter-widgets/controls",
      "_model_module_version": "1.5.0",
      "_model_name": "HTMLModel",
      "_view_count": null,
      "_view_module": "@jupyter-widgets/controls",
      "_view_module_version": "1.5.0",
      "_view_name": "HTMLView",
      "description": "",
      "description_tooltip": null,
      "layout": "IPY_MODEL_64bccb899a7348649b9f9fb1ff169507",
      "placeholder": "​",
      "style": "IPY_MODEL_200c9d6fa70648b2917dcd85001740d1",
      "value": ""
     }
    },
    "8e3b02911605486a9728833cfcde4181": {
     "model_module": "@jupyter-widgets/base",
     "model_module_version": "1.2.0",
     "model_name": "LayoutModel",
     "state": {
      "_model_module": "@jupyter-widgets/base",
      "_model_module_version": "1.2.0",
      "_model_name": "LayoutModel",
      "_view_count": null,
      "_view_module": "@jupyter-widgets/base",
      "_view_module_version": "1.2.0",
      "_view_name": "LayoutView",
      "align_content": null,
      "align_items": null,
      "align_self": null,
      "border": null,
      "bottom": null,
      "display": null,
      "flex": null,
      "flex_flow": null,
      "grid_area": null,
      "grid_auto_columns": null,
      "grid_auto_flow": null,
      "grid_auto_rows": null,
      "grid_column": null,
      "grid_gap": null,
      "grid_row": null,
      "grid_template_areas": null,
      "grid_template_columns": null,
      "grid_template_rows": null,
      "height": null,
      "justify_content": null,
      "justify_items": null,
      "left": null,
      "margin": null,
      "max_height": null,
      "max_width": null,
      "min_height": null,
      "min_width": null,
      "object_fit": null,
      "object_position": null,
      "order": null,
      "overflow": null,
      "overflow_x": null,
      "overflow_y": null,
      "padding": null,
      "right": null,
      "top": null,
      "visibility": null,
      "width": null
     }
    },
    "915270cc25724dcabb18779e4b1f8fe8": {
     "model_module": "@jupyter-widgets/controls",
     "model_module_version": "1.5.0",
     "model_name": "FloatProgressModel",
     "state": {
      "_dom_classes": [],
      "_model_module": "@jupyter-widgets/controls",
      "_model_module_version": "1.5.0",
      "_model_name": "FloatProgressModel",
      "_view_count": null,
      "_view_module": "@jupyter-widgets/controls",
      "_view_module_version": "1.5.0",
      "_view_name": "ProgressView",
      "bar_style": "danger",
      "description": "",
      "description_tooltip": null,
      "layout": "IPY_MODEL_963c405588f8448f984edfb693ad2c7e",
      "max": 1,
      "min": 0,
      "orientation": "horizontal",
      "style": "IPY_MODEL_65bad71fdd534716bcf2598e0cedadce",
      "value": 1
     }
    },
    "963c405588f8448f984edfb693ad2c7e": {
     "model_module": "@jupyter-widgets/base",
     "model_module_version": "1.2.0",
     "model_name": "LayoutModel",
     "state": {
      "_model_module": "@jupyter-widgets/base",
      "_model_module_version": "1.2.0",
      "_model_name": "LayoutModel",
      "_view_count": null,
      "_view_module": "@jupyter-widgets/base",
      "_view_module_version": "1.2.0",
      "_view_name": "LayoutView",
      "align_content": null,
      "align_items": null,
      "align_self": null,
      "border": null,
      "bottom": null,
      "display": null,
      "flex": null,
      "flex_flow": null,
      "grid_area": null,
      "grid_auto_columns": null,
      "grid_auto_flow": null,
      "grid_auto_rows": null,
      "grid_column": null,
      "grid_gap": null,
      "grid_row": null,
      "grid_template_areas": null,
      "grid_template_columns": null,
      "grid_template_rows": null,
      "height": null,
      "justify_content": null,
      "justify_items": null,
      "left": null,
      "margin": null,
      "max_height": null,
      "max_width": null,
      "min_height": null,
      "min_width": null,
      "object_fit": null,
      "object_position": null,
      "order": null,
      "overflow": null,
      "overflow_x": null,
      "overflow_y": null,
      "padding": null,
      "right": null,
      "top": null,
      "visibility": null,
      "width": "20px"
     }
    },
    "9f9b84b6da494f21bf9355fc2f06b833": {
     "model_module": "@jupyter-widgets/controls",
     "model_module_version": "1.5.0",
     "model_name": "HTMLModel",
     "state": {
      "_dom_classes": [],
      "_model_module": "@jupyter-widgets/controls",
      "_model_module_version": "1.5.0",
      "_model_name": "HTMLModel",
      "_view_count": null,
      "_view_module": "@jupyter-widgets/controls",
      "_view_module_version": "1.5.0",
      "_view_name": "HTMLView",
      "description": "",
      "description_tooltip": null,
      "layout": "IPY_MODEL_8357ebe3c260419eb58bdcae946f776a",
      "placeholder": "​",
      "style": "IPY_MODEL_78a3f4154ee340acb57ba40ed14f6f93",
      "value": " 2048/? [05:42&lt;00:00,  5.00it/s]"
     }
    },
    "a0eea8faa4234c95b053bbd473a7d526": {
     "model_module": "@jupyter-widgets/base",
     "model_module_version": "1.2.0",
     "model_name": "LayoutModel",
     "state": {
      "_model_module": "@jupyter-widgets/base",
      "_model_module_version": "1.2.0",
      "_model_name": "LayoutModel",
      "_view_count": null,
      "_view_module": "@jupyter-widgets/base",
      "_view_module_version": "1.2.0",
      "_view_name": "LayoutView",
      "align_content": null,
      "align_items": null,
      "align_self": null,
      "border": null,
      "bottom": null,
      "display": null,
      "flex": null,
      "flex_flow": null,
      "grid_area": null,
      "grid_auto_columns": null,
      "grid_auto_flow": null,
      "grid_auto_rows": null,
      "grid_column": null,
      "grid_gap": null,
      "grid_row": null,
      "grid_template_areas": null,
      "grid_template_columns": null,
      "grid_template_rows": null,
      "height": null,
      "justify_content": null,
      "justify_items": null,
      "left": null,
      "margin": null,
      "max_height": null,
      "max_width": null,
      "min_height": null,
      "min_width": null,
      "object_fit": null,
      "object_position": null,
      "order": null,
      "overflow": null,
      "overflow_x": null,
      "overflow_y": null,
      "padding": null,
      "right": null,
      "top": null,
      "visibility": null,
      "width": null
     }
    },
    "a1c7e56bfbe04fcebf4bc4630a8dc246": {
     "model_module": "@jupyter-widgets/controls",
     "model_module_version": "1.5.0",
     "model_name": "FloatProgressModel",
     "state": {
      "_dom_classes": [],
      "_model_module": "@jupyter-widgets/controls",
      "_model_module_version": "1.5.0",
      "_model_name": "FloatProgressModel",
      "_view_count": null,
      "_view_module": "@jupyter-widgets/controls",
      "_view_module_version": "1.5.0",
      "_view_name": "ProgressView",
      "bar_style": "danger",
      "description": "",
      "description_tooltip": null,
      "layout": "IPY_MODEL_5a9036fe34b44f5f86232dbe71b30cd4",
      "max": 1,
      "min": 0,
      "orientation": "horizontal",
      "style": "IPY_MODEL_4342980193114cceb3cc871eaeb6f651",
      "value": 1
     }
    },
    "a8d4eff3041e4b2f9ca0fe608b629fc8": {
     "model_module": "@jupyter-widgets/controls",
     "model_module_version": "1.5.0",
     "model_name": "DescriptionStyleModel",
     "state": {
      "_model_module": "@jupyter-widgets/controls",
      "_model_module_version": "1.5.0",
      "_model_name": "DescriptionStyleModel",
      "_view_count": null,
      "_view_module": "@jupyter-widgets/base",
      "_view_module_version": "1.2.0",
      "_view_name": "StyleView",
      "description_width": ""
     }
    },
    "a9044743cd094564a29fa4020df1ba7f": {
     "model_module": "@jupyter-widgets/controls",
     "model_module_version": "1.5.0",
     "model_name": "HTMLModel",
     "state": {
      "_dom_classes": [],
      "_model_module": "@jupyter-widgets/controls",
      "_model_module_version": "1.5.0",
      "_model_name": "HTMLModel",
      "_view_count": null,
      "_view_module": "@jupyter-widgets/controls",
      "_view_module_version": "1.5.0",
      "_view_name": "HTMLView",
      "description": "",
      "description_tooltip": null,
      "layout": "IPY_MODEL_32e5625802744f3f96fada6cbb429cac",
      "placeholder": "​",
      "style": "IPY_MODEL_aaa3d9e464be467096fcbf5a722fe8d6",
      "value": " 256/? [00:47&lt;00:00,  6.84it/s]"
     }
    },
    "aaa3d9e464be467096fcbf5a722fe8d6": {
     "model_module": "@jupyter-widgets/controls",
     "model_module_version": "1.5.0",
     "model_name": "DescriptionStyleModel",
     "state": {
      "_model_module": "@jupyter-widgets/controls",
      "_model_module_version": "1.5.0",
      "_model_name": "DescriptionStyleModel",
      "_view_count": null,
      "_view_module": "@jupyter-widgets/base",
      "_view_module_version": "1.2.0",
      "_view_name": "StyleView",
      "description_width": ""
     }
    },
    "ce408e42ec60499ab70b08419f4ba4a8": {
     "model_module": "@jupyter-widgets/controls",
     "model_module_version": "1.5.0",
     "model_name": "HTMLModel",
     "state": {
      "_dom_classes": [],
      "_model_module": "@jupyter-widgets/controls",
      "_model_module_version": "1.5.0",
      "_model_name": "HTMLModel",
      "_view_count": null,
      "_view_module": "@jupyter-widgets/controls",
      "_view_module_version": "1.5.0",
      "_view_name": "HTMLView",
      "description": "",
      "description_tooltip": null,
      "layout": "IPY_MODEL_8e3b02911605486a9728833cfcde4181",
      "placeholder": "​",
      "style": "IPY_MODEL_dd07dd4af55040c9af1d3b092234c60e",
      "value": ""
     }
    },
    "dd07dd4af55040c9af1d3b092234c60e": {
     "model_module": "@jupyter-widgets/controls",
     "model_module_version": "1.5.0",
     "model_name": "DescriptionStyleModel",
     "state": {
      "_model_module": "@jupyter-widgets/controls",
      "_model_module_version": "1.5.0",
      "_model_name": "DescriptionStyleModel",
      "_view_count": null,
      "_view_module": "@jupyter-widgets/base",
      "_view_module_version": "1.2.0",
      "_view_name": "StyleView",
      "description_width": ""
     }
    },
    "e2d49cdfe422414a873fcc36d13cb0ec": {
     "model_module": "@jupyter-widgets/controls",
     "model_module_version": "1.5.0",
     "model_name": "HBoxModel",
     "state": {
      "_dom_classes": [],
      "_model_module": "@jupyter-widgets/controls",
      "_model_module_version": "1.5.0",
      "_model_name": "HBoxModel",
      "_view_count": null,
      "_view_module": "@jupyter-widgets/controls",
      "_view_module_version": "1.5.0",
      "_view_name": "HBoxView",
      "box_style": "",
      "children": [
       "IPY_MODEL_85c35253f55b4c608caddc371b3d1494",
       "IPY_MODEL_4b29e97fabd74fea9c2e45a1668cf4ed",
       "IPY_MODEL_3abe49bef0b44456b86ff5c8ecaec6ae"
      ],
      "layout": "IPY_MODEL_a0eea8faa4234c95b053bbd473a7d526"
     }
    },
    "e36e0519cb484752a0616c192903c392": {
     "model_module": "@jupyter-widgets/controls",
     "model_module_version": "1.5.0",
     "model_name": "HBoxModel",
     "state": {
      "_dom_classes": [],
      "_model_module": "@jupyter-widgets/controls",
      "_model_module_version": "1.5.0",
      "_model_name": "HBoxModel",
      "_view_count": null,
      "_view_module": "@jupyter-widgets/controls",
      "_view_module_version": "1.5.0",
      "_view_name": "HBoxView",
      "box_style": "",
      "children": [
       "IPY_MODEL_5ab446dfdb9f41bebb504f0f44e6fe0a",
       "IPY_MODEL_915270cc25724dcabb18779e4b1f8fe8",
       "IPY_MODEL_a9044743cd094564a29fa4020df1ba7f"
      ],
      "layout": "IPY_MODEL_32f724270b614855b691cb7338c3ee6a"
     }
    },
    "f685af33f30641c3a7748055889735b9": {
     "model_module": "@jupyter-widgets/controls",
     "model_module_version": "1.5.0",
     "model_name": "HBoxModel",
     "state": {
      "_dom_classes": [],
      "_model_module": "@jupyter-widgets/controls",
      "_model_module_version": "1.5.0",
      "_model_name": "HBoxModel",
      "_view_count": null,
      "_view_module": "@jupyter-widgets/controls",
      "_view_module_version": "1.5.0",
      "_view_name": "HBoxView",
      "box_style": "",
      "children": [
       "IPY_MODEL_ce408e42ec60499ab70b08419f4ba4a8",
       "IPY_MODEL_a1c7e56bfbe04fcebf4bc4630a8dc246",
       "IPY_MODEL_9f9b84b6da494f21bf9355fc2f06b833"
      ],
      "layout": "IPY_MODEL_5c3fe8bfd6ba46d583aa840568f43e86"
     }
    }
   }
  }
 },
 "nbformat": 4,
 "nbformat_minor": 1
}
